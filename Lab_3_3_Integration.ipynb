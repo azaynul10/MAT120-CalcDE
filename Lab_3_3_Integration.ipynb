{
  "nbformat": 4,
  "nbformat_minor": 0,
  "metadata": {
    "colab": {
      "provenance": []
    },
    "kernelspec": {
      "name": "python3",
      "display_name": "Python 3"
    },
    "language_info": {
      "name": "python"
    }
  },
  "cells": [
    {
      "cell_type": "code",
      "execution_count": null,
      "metadata": {
        "id": "ghU8H00EyAZp"
      },
      "outputs": [],
      "source": [
        "from sympy import *\n",
        "import sympy as smp\n",
        "init_printing(pretty_print=True)"
      ]
    },
    {
      "cell_type": "code",
      "source": [
        "x,y = symbols('x y')"
      ],
      "metadata": {
        "id": "roBuMLGJyHe7"
      },
      "execution_count": null,
      "outputs": []
    },
    {
      "cell_type": "code",
      "source": [
        "# integrating with respect to x\n",
        "integrate( x**2 + 2*x + 5 + y**2 + 3*y, x)"
      ],
      "metadata": {
        "colab": {
          "base_uri": "https://localhost:8080/",
          "height": 54
        },
        "id": "q2BcKmfND2zX",
        "outputId": "cae5844d-2e69-41c4-eaf9-2d8a75ec60fb"
      },
      "execution_count": null,
      "outputs": [
        {
          "output_type": "execute_result",
          "data": {
            "text/plain": [
              " 3                        \n",
              "x     2     ⎛ 2          ⎞\n",
              "── + x  + x⋅⎝y  + 3⋅y + 5⎠\n",
              "3                         "
            ],
            "text/latex": "$\\displaystyle \\frac{x^{3}}{3} + x^{2} + x \\left(y^{2} + 3 y + 5\\right)$"
          },
          "metadata": {},
          "execution_count": 27
        }
      ]
    },
    {
      "cell_type": "code",
      "source": [
        "integrate( integrate( x**2 + 2*x + 5 + y**2 + 3*y, y) , x  )"
      ],
      "metadata": {
        "colab": {
          "base_uri": "https://localhost:8080/",
          "height": 58
        },
        "id": "TEqKdobdya4e",
        "outputId": "df8e24e5-b599-4ab2-e970-4aece8e1dcfd"
      },
      "execution_count": null,
      "outputs": [
        {
          "output_type": "execute_result",
          "data": {
            "text/plain": [
              " 3              ⎛ 3      2      ⎞\n",
              "x ⋅y    2       ⎜y    3⋅y       ⎟\n",
              "──── + x ⋅y + x⋅⎜── + ──── + 5⋅y⎟\n",
              " 3              ⎝3     2        ⎠"
            ],
            "text/latex": "$\\displaystyle \\frac{x^{3} y}{3} + x^{2} y + x \\left(\\frac{y^{3}}{3} + \\frac{3 y^{2}}{2} + 5 y\\right)$"
          },
          "metadata": {},
          "execution_count": 4
        }
      ]
    },
    {
      "cell_type": "code",
      "source": [
        "g = integrate( x**2 + 2*x + 5 + y**2 + 3*y, x)\n",
        "integrate(g,y)"
      ],
      "metadata": {
        "colab": {
          "base_uri": "https://localhost:8080/",
          "height": 58
        },
        "id": "NdaBRBitynL0",
        "outputId": "ff20ff85-772e-4642-c648-fc196c7d44cb"
      },
      "execution_count": null,
      "outputs": [
        {
          "output_type": "execute_result",
          "data": {
            "text/plain": [
              "   3        2     ⎛ 3           ⎞\n",
              "x⋅y    3⋅x⋅y      ⎜x     2      ⎟\n",
              "──── + ────── + y⋅⎜── + x  + 5⋅x⎟\n",
              " 3       2        ⎝3            ⎠"
            ],
            "text/latex": "$\\displaystyle \\frac{x y^{3}}{3} + \\frac{3 x y^{2}}{2} + y \\left(\\frac{x^{3}}{3} + x^{2} + 5 x\\right)$"
          },
          "metadata": {},
          "execution_count": 5
        }
      ]
    },
    {
      "cell_type": "code",
      "source": [
        "integrate( sin(x) + cos(x) , x)"
      ],
      "metadata": {
        "colab": {
          "base_uri": "https://localhost:8080/",
          "height": 39
        },
        "id": "3515jxNFD7Rw",
        "outputId": "abf3e12d-ac2c-4e76-ffef-259d46c923cd"
      },
      "execution_count": null,
      "outputs": [
        {
          "output_type": "execute_result",
          "data": {
            "text/plain": [
              "sin(x) - cos(x)"
            ],
            "text/latex": "$\\displaystyle \\sin{\\left(x \\right)} - \\cos{\\left(x \\right)}$"
          },
          "metadata": {},
          "execution_count": 6
        }
      ]
    },
    {
      "cell_type": "code",
      "source": [
        "integrate(tan(x), x)"
      ],
      "metadata": {
        "colab": {
          "base_uri": "https://localhost:8080/",
          "height": 39
        },
        "id": "W7uRQVWLQDsM",
        "outputId": "015e4a51-968d-47be-ed6f-214766729021"
      },
      "execution_count": null,
      "outputs": [
        {
          "output_type": "execute_result",
          "data": {
            "text/plain": [
              "-log(cos(x))"
            ],
            "text/latex": "$\\displaystyle - \\log{\\left(\\cos{\\left(x \\right)} \\right)}$"
          },
          "metadata": {},
          "execution_count": 7
        }
      ]
    },
    {
      "cell_type": "code",
      "source": [
        "# presenting as an integral and not an integrated form\n",
        "Integral(sqrt(1/x), y)"
      ],
      "metadata": {
        "colab": {
          "base_uri": "https://localhost:8080/",
          "height": 60
        },
        "id": "dAuNoxUtNqDp",
        "outputId": "961eff17-3279-4ddb-e195-3e51a9516385"
      },
      "execution_count": null,
      "outputs": [
        {
          "output_type": "execute_result",
          "data": {
            "text/plain": [
              "⌠           \n",
              "⎮     ___   \n",
              "⎮    ╱ 1    \n",
              "⎮   ╱  ─  dy\n",
              "⎮ ╲╱   x    \n",
              "⌡           "
            ],
            "text/latex": "$\\displaystyle \\int \\sqrt{\\frac{1}{x}}\\, dy$"
          },
          "metadata": {},
          "execution_count": 28
        }
      ]
    },
    {
      "cell_type": "code",
      "source": [
        "Integral(sqrt(x)+sqrt(y),x)"
      ],
      "metadata": {
        "colab": {
          "base_uri": "https://localhost:8080/",
          "height": 55
        },
        "id": "bUYAfRrnVGjX",
        "outputId": "5fa84220-40af-4aab-af94-65096e4b91a2"
      },
      "execution_count": null,
      "outputs": [
        {
          "output_type": "execute_result",
          "data": {
            "text/plain": [
              "⌠             \n",
              "⎮ (√x + √y) dx\n",
              "⌡             "
            ],
            "text/latex": "$\\displaystyle \\int \\left(\\sqrt{x} + \\sqrt{y}\\right)\\, dx$"
          },
          "metadata": {},
          "execution_count": 9
        }
      ]
    },
    {
      "cell_type": "code",
      "source": [
        "print(Integral(sqrt(1/x), x))\n"
      ],
      "metadata": {
        "colab": {
          "base_uri": "https://localhost:8080/"
        },
        "id": "hY17_LuiNr1D",
        "outputId": "15301074-4f8a-4c03-910e-9259e7141882"
      },
      "execution_count": null,
      "outputs": [
        {
          "output_type": "stream",
          "name": "stdout",
          "text": [
            "Integral(sqrt(1/x), x)\n"
          ]
        }
      ]
    },
    {
      "cell_type": "code",
      "source": [
        "#Sometimes there may be environment issues which prevent printing in a proper format, so we use pprint\n",
        "#it provides a capability to “pretty-print” arbitrary Python data structures in a form which can be used as input to the interpreter\n",
        "\n",
        "pprint( Integral(sqrt(1/x), x) )\n"
      ],
      "metadata": {
        "colab": {
          "base_uri": "https://localhost:8080/"
        },
        "id": "oYfwKEtKEDfF",
        "outputId": "e1f45e3e-d1a2-4f45-a3e4-db20119500f4"
      },
      "execution_count": null,
      "outputs": [
        {
          "output_type": "stream",
          "name": "stdout",
          "text": [
            "⌠           \n",
            "⎮     ___   \n",
            "⎮    ╱ 1    \n",
            "⎮   ╱  ─  dx\n",
            "⎮ ╲╱   x    \n",
            "⌡           \n"
          ]
        }
      ]
    },
    {
      "cell_type": "code",
      "source": [
        "# Integrating over a given limit\n",
        "\n",
        "integrate(x**2+3*x-1, (x,0,10))\n",
        "\n",
        "#this gives us the integrated value from 0 to 10"
      ],
      "metadata": {
        "colab": {
          "base_uri": "https://localhost:8080/",
          "height": 51
        },
        "id": "s9gzCGNWU4Po",
        "outputId": "21a0d60e-c192-44e7-8632-53fe2cabdc6a"
      },
      "execution_count": null,
      "outputs": [
        {
          "output_type": "execute_result",
          "data": {
            "text/plain": [
              "1420/3"
            ],
            "text/latex": "$\\displaystyle \\frac{1420}{3}$"
          },
          "metadata": {},
          "execution_count": 12
        }
      ]
    },
    {
      "cell_type": "code",
      "source": [
        "integrate(x, (x, 0, 5))"
      ],
      "metadata": {
        "colab": {
          "base_uri": "https://localhost:8080/",
          "height": 51
        },
        "id": "Lh7WfgZgVzlL",
        "outputId": "e1a8f752-10a5-4955-de23-e7142ff3aced"
      },
      "execution_count": null,
      "outputs": [
        {
          "output_type": "execute_result",
          "data": {
            "text/plain": [
              "25/2"
            ],
            "text/latex": "$\\displaystyle \\frac{25}{2}$"
          },
          "metadata": {},
          "execution_count": 13
        }
      ]
    },
    {
      "cell_type": "code",
      "source": [
        "plot(x, (x, 0,5))"
      ],
      "metadata": {
        "colab": {
          "base_uri": "https://localhost:8080/",
          "height": 501
        },
        "id": "f2KUQ6StWjBw",
        "outputId": "605aafa8-7998-49be-c474-0dcd0ca70146"
      },
      "execution_count": null,
      "outputs": [
        {
          "output_type": "display_data",
          "data": {
            "text/plain": [
              "<Figure size 640x480 with 1 Axes>"
            ],
            "image/png": "[encoded data removed]"
          },
          "metadata": {}
        },
        {
          "output_type": "execute_result",
          "data": {
            "text/plain": [
              "<sympy.plotting.plot.Plot at 0x792a6c633220>"
            ]
          },
          "metadata": {},
          "execution_count": 14
        }
      ]
    },
    {
      "cell_type": "code",
      "source": [
        "Integral(x**2+3*x-1, (x,0,10))"
      ],
      "metadata": {
        "colab": {
          "base_uri": "https://localhost:8080/",
          "height": 80
        },
        "id": "9kDXfcAoNslQ",
        "outputId": "f73d96ec-86fa-4568-917d-d9836bdb6065"
      },
      "execution_count": null,
      "outputs": [
        {
          "output_type": "execute_result",
          "data": {
            "text/plain": [
              "10                  \n",
              "⌠                   \n",
              "⎮  ⎛ 2          ⎞   \n",
              "⎮  ⎝x  + 3⋅x - 1⎠ dx\n",
              "⌡                   \n",
              "0                   "
            ],
            "text/latex": "$\\displaystyle \\int\\limits_{0}^{10} \\left(x^{2} + 3 x - 1\\right)\\, dx$"
          },
          "metadata": {},
          "execution_count": 15
        }
      ]
    },
    {
      "cell_type": "markdown",
      "source": [
        "## **Solvable Integrals**"
      ],
      "metadata": {
        "id": "156rT1jDxZoA"
      }
    },
    {
      "cell_type": "markdown",
      "source": [
        "**Example 1:**\n",
        "\n"
      ],
      "metadata": {
        "id": "EvVXhVHlyFcn"
      }
    },
    {
      "cell_type": "markdown",
      "source": [
        "![120.1.PNG](data:image/png;base64,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)"
      ],
      "metadata": {
        "id": "PsX1pr0h-c4E"
      }
    },
    {
      "cell_type": "code",
      "source": [
        "#if we had imported sympy as an alias \"smp\", we would need to use it to call integrate,sin,cos,differentiate...\n",
        "\n",
        "x = smp.symbols(\"x\")\n",
        "f= smp.exp(-x)*(x**2)*smp.cos(x)\n",
        "smp.integrate(f, x)"
      ],
      "metadata": {
        "colab": {
          "base_uri": "https://localhost:8080/",
          "height": 54
        },
        "id": "LPnYQrcA0CtP",
        "outputId": "bedc3d7f-f864-49cc-daba-108c559a4ae3"
      },
      "execution_count": null,
      "outputs": [
        {
          "output_type": "execute_result",
          "data": {
            "text/plain": [
              " 2  -x           2  -x                          -x           -x       \n",
              "x ⋅ℯ  ⋅sin(x)   x ⋅ℯ  ⋅cos(x)      -x          ℯ  ⋅sin(x)   ℯ  ⋅cos(x)\n",
              "───────────── - ───────────── + x⋅ℯ  ⋅sin(x) + ────────── + ──────────\n",
              "      2               2                            2            2     "
            ],
            "text/latex": "$\\displaystyle \\frac{x^{2} e^{- x} \\sin{\\left(x \\right)}}{2} - \\frac{x^{2} e^{- x} \\cos{\\left(x \\right)}}{2} + x e^{- x} \\sin{\\left(x \\right)} + \\frac{e^{- x} \\sin{\\left(x \\right)}}{2} + \\frac{e^{- x} \\cos{\\left(x \\right)}}{2}$"
          },
          "metadata": {},
          "execution_count": 31
        }
      ]
    },
    {
      "cell_type": "code",
      "source": [
        "smp.integrate(f,x).simplify() # for simplifying the answer"
      ],
      "metadata": {
        "colab": {
          "base_uri": "https://localhost:8080/",
          "height": 57
        },
        "id": "BlF-HKbr1OoR",
        "outputId": "dbcfb18c-70c2-472a-f297-5a6df457ecee"
      },
      "execution_count": null,
      "outputs": [
        {
          "output_type": "execute_result",
          "data": {
            "text/plain": [
              "   ⎛   2    ⎛    π⎞        ⎛    π⎞        ⎛    π⎞      ⎛    π⎞⎞  -x\n",
              "√2⋅⎜- x ⋅cos⎜x + ─⎟ + x⋅sin⎜x + ─⎟ - x⋅cos⎜x + ─⎟ + sin⎜x + ─⎟⎟⋅ℯ  \n",
              "   ⎝        ⎝    4⎠        ⎝    4⎠        ⎝    4⎠      ⎝    4⎠⎠    \n",
              "───────────────────────────────────────────────────────────────────\n",
              "                                 2                                 "
            ],
            "text/latex": "$\\displaystyle \\frac{\\sqrt{2} \\left(- x^{2} \\cos{\\left(x + \\frac{\\pi}{4} \\right)} + x \\sin{\\left(x + \\frac{\\pi}{4} \\right)} - x \\cos{\\left(x + \\frac{\\pi}{4} \\right)} + \\sin{\\left(x + \\frac{\\pi}{4} \\right)}\\right) e^{- x}}{2}$"
          },
          "metadata": {},
          "execution_count": 32
        }
      ]
    },
    {
      "cell_type": "markdown",
      "source": [
        "\n",
        "\n",
        "**Example 2:**\n",
        "\n",
        "\n"
      ],
      "metadata": {
        "id": "w2-ECZcP12Qb"
      }
    },
    {
      "cell_type": "markdown",
      "source": [
        "![120.3.PNG](data:image/png;base64,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)"
      ],
      "metadata": {
        "id": "l6FzWCyT-HWd"
      }
    },
    {
      "cell_type": "code",
      "source": [
        "x = smp.symbols(\"x\")\n",
        "f = smp.sin(x)**3*smp.exp(-5*x)\n",
        "smp.integrate(f, x)"
      ],
      "metadata": {
        "id": "HE-xAqU23ByP",
        "colab": {
          "base_uri": "https://localhost:8080/",
          "height": 55
        },
        "outputId": "c3398717-37f1-471e-a3db-2ded738461ce"
      },
      "execution_count": null,
      "outputs": [
        {
          "output_type": "execute_result",
          "data": {
            "text/plain": [
              "      -5⋅x    3          -5⋅x    2                 -5⋅x           2         -5\n",
              "  40⋅ℯ    ⋅sin (x)   21⋅ℯ    ⋅sin (x)⋅cos(x)   15⋅ℯ    ⋅sin(x)⋅cos (x)   3⋅ℯ  \n",
              "- ──────────────── - ─────────────────────── - ─────────────────────── - ─────\n",
              "        221                    221                       442                  \n",
              "\n",
              "⋅x    3   \n",
              "  ⋅cos (x)\n",
              "──────────\n",
              " 442      "
            ],
            "text/latex": "$\\displaystyle - \\frac{40 e^{- 5 x} \\sin^{3}{\\left(x \\right)}}{221} - \\frac{21 e^{- 5 x} \\sin^{2}{\\left(x \\right)} \\cos{\\left(x \\right)}}{221} - \\frac{15 e^{- 5 x} \\sin{\\left(x \\right)} \\cos^{2}{\\left(x \\right)}}{442} - \\frac{3 e^{- 5 x} \\cos^{3}{\\left(x \\right)}}{442}$"
          },
          "metadata": {},
          "execution_count": 33
        }
      ]
    },
    {
      "cell_type": "code",
      "source": [
        "smp.integrate(f,x).simplify() # for simplifying the answer"
      ],
      "metadata": {
        "id": "ICA2etw13gXY",
        "colab": {
          "base_uri": "https://localhost:8080/",
          "height": 54
        },
        "outputId": "8413b025-8bcc-41d4-a3a2-2e26180aebfc"
      },
      "execution_count": null,
      "outputs": [
        {
          "output_type": "execute_result",
          "data": {
            "text/plain": [
              "                                                       -5⋅x\n",
              "(-255⋅sin(x) + 65⋅sin(3⋅x) - 51⋅cos(x) + 39⋅cos(3⋅x))⋅ℯ    \n",
              "───────────────────────────────────────────────────────────\n",
              "                            1768                           "
            ],
            "text/latex": "$\\displaystyle \\frac{\\left(- 255 \\sin{\\left(x \\right)} + 65 \\sin{\\left(3 x \\right)} - 51 \\cos{\\left(x \\right)} + 39 \\cos{\\left(3 x \\right)}\\right) e^{- 5 x}}{1768}$"
          },
          "metadata": {},
          "execution_count": 34
        }
      ]
    },
    {
      "cell_type": "markdown",
      "source": [
        "**Example 3:**"
      ],
      "metadata": {
        "id": "hCrMC9-Y4gis"
      }
    },
    {
      "cell_type": "markdown",
      "source": [
        "![1202.PNG](data:image/png;base64,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)"
      ],
      "metadata": {
        "id": "NWoyKhXe9-GX"
      }
    },
    {
      "cell_type": "code",
      "source": [
        "x = smp.symbols(\"x\")\n",
        "f = ((1+smp.sqrt(x))**smp.Rational(1,3))/ smp.sqrt(x)\n",
        "smp.integrate(f, x).simplify()"
      ],
      "metadata": {
        "id": "JcrTjJVt5o2g",
        "colab": {
          "base_uri": "https://localhost:8080/",
          "height": 59
        },
        "outputId": "e487f2da-4667-4c03-9ad2-b9ce8a897ede"
      },
      "execution_count": null,
      "outputs": [
        {
          "output_type": "execute_result",
          "data": {
            "text/plain": [
              "          4/3\n",
              "3⋅(√x + 1)   \n",
              "─────────────\n",
              "      2      "
            ],
            "text/latex": "$\\displaystyle \\frac{3 \\left(\\sqrt{x} + 1\\right)^{\\frac{4}{3}}}{2}$"
          },
          "metadata": {},
          "execution_count": 20
        }
      ]
    },
    {
      "cell_type": "markdown",
      "source": [
        "**Example 4:** (Definite) Integral with limits"
      ],
      "metadata": {
        "id": "cKA5wR4k8_YI"
      }
    },
    {
      "cell_type": "markdown",
      "source": [
        " ![120.PNG](data:image/png;base64,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)"
      ],
      "metadata": {
        "id": "d8szRrol7MBS"
      }
    },
    {
      "cell_type": "code",
      "source": [
        "f = smp.exp(x) / smp.sqrt(smp.exp(x) + 9)\n",
        "smp.integrate(f, (x,  0,smp.log(4)))"
      ],
      "metadata": {
        "id": "N39gsPGM8zSv",
        "colab": {
          "base_uri": "https://localhost:8080/",
          "height": 38
        },
        "outputId": "954563cd-f1e3-49ca-eb52-a425aaeea43a"
      },
      "execution_count": null,
      "outputs": [
        {
          "output_type": "execute_result",
          "data": {
            "text/plain": [
              "-2⋅√10 + 2⋅√13"
            ],
            "text/latex": "$\\displaystyle - 2 \\sqrt{10} + 2 \\sqrt{13}$"
          },
          "metadata": {},
          "execution_count": 21
        }
      ]
    },
    {
      "cell_type": "code",
      "source": [
        "smp.integrate(f, (x, 0, smp.log(4))).evalf() # .evalf() for finiding actual number"
      ],
      "metadata": {
        "id": "xWzvpx6j_b4C",
        "colab": {
          "base_uri": "https://localhost:8080/",
          "height": 37
        },
        "outputId": "74957aaa-d7fd-4917-a9b8-37903f757169"
      },
      "execution_count": null,
      "outputs": [
        {
          "output_type": "execute_result",
          "data": {
            "text/plain": [
              "0.886547230591220"
            ],
            "text/latex": "$\\displaystyle 0.88654723059122$"
          },
          "metadata": {},
          "execution_count": 22
        }
      ]
    },
    {
      "cell_type": "markdown",
      "source": [
        "## **Unsolvable Integrals**"
      ],
      "metadata": {
        "id": "Tj_NCuKA_zpf"
      }
    },
    {
      "cell_type": "markdown",
      "source": [
        "**Example 5:**"
      ],
      "metadata": {
        "id": "E0jQ0WeOA5hq"
      }
    },
    {
      "cell_type": "markdown",
      "source": [
        "![120.34.PNG](data:image/png;base64,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)"
      ],
      "metadata": {
        "id": "6xva8mcxBFn6"
      }
    },
    {
      "cell_type": "code",
      "source": [
        "# this integral will take a relatively long time to solve in sympy\n",
        "f= smp.exp(-smp.sin(x))\n",
        "smp.integrate(f, (x, 1, 2))\n",
        "#it will keep running but will not show any answer\n",
        "\n",
        "#since the computational time is too high, we WILL NOT use smp.integrate"
      ],
      "metadata": {
        "id": "ddooiDNzCdz7",
        "colab": {
          "base_uri": "https://localhost:8080/",
          "height": 80
        },
        "outputId": "e6ac0695-79fe-4185-a574-c436e192590c"
      },
      "execution_count": null,
      "outputs": [
        {
          "output_type": "execute_result",
          "data": {
            "text/plain": [
              "2            \n",
              "⌠            \n",
              "⎮  -sin(x)   \n",
              "⎮ ℯ        dx\n",
              "⌡            \n",
              "1            "
            ],
            "text/latex": "$\\displaystyle \\int\\limits_{1}^{2} e^{- \\sin{\\left(x \\right)}}\\, dx$"
          },
          "metadata": {},
          "execution_count": 35
        }
      ]
    },
    {
      "cell_type": "markdown",
      "source": [
        "we use scipy quad function to integrate numerically"
      ],
      "metadata": {
        "id": "-6DVeXkKD15f"
      }
    },
    {
      "cell_type": "code",
      "source": [
        "import scipy as sp\n",
        "from scipy.integrate import quad\n",
        "import numpy as np"
      ],
      "metadata": {
        "id": "RYhHjdahSlvv"
      },
      "execution_count": null,
      "outputs": []
    },
    {
      "cell_type": "code",
      "source": [
        "# lambda is similar to lambdify, where we turn a variable into a function\n",
        "\n",
        "\n",
        "f = lambda x: np.exp(-np.sin(x))\n",
        "quad(f, 1, 2)\n",
        "\n",
        "# the function you will pass into quad has to be 'callable', thus you must use lambda/lambdify"
      ],
      "metadata": {
        "colab": {
          "base_uri": "https://localhost:8080/",
          "height": 38
        },
        "id": "JjVTDUn1fsFK",
        "outputId": "8a461c3a-dcd6-4dc9-db00-ee82d940e87c"
      },
      "execution_count": null,
      "outputs": [
        {
          "output_type": "execute_result",
          "data": {
            "text/plain": [
              "(0.3845918142796868, 4.2698268729567035e-15)"
            ],
            "text/latex": "$\\displaystyle \\left( 0.384591814279687, \\  4.2698268729567 \\cdot 10^{-15}\\right)$"
          },
          "metadata": {},
          "execution_count": 37
        }
      ]
    },
    {
      "cell_type": "code",
      "source": [
        "quad (f, 1, 2)[1] #if we want just answer without estimate error"
      ],
      "metadata": {
        "id": "H3vqJEWgEY87",
        "colab": {
          "base_uri": "https://localhost:8080/",
          "height": 37
        },
        "outputId": "67acebb3-f826-4092-a1ed-aa2e10ba49e2"
      },
      "execution_count": null,
      "outputs": [
        {
          "output_type": "execute_result",
          "data": {
            "text/plain": [
              "4.2698268729567035e-15"
            ],
            "text/latex": "$\\displaystyle 4.2698268729567 \\cdot 10^{-15}$"
          },
          "metadata": {},
          "execution_count": 38
        }
      ]
    },
    {
      "cell_type": "code",
      "source": [],
      "metadata": {
        "id": "VUAsOrtTfc18"
      },
      "execution_count": null,
      "outputs": []
    }
  ]
}