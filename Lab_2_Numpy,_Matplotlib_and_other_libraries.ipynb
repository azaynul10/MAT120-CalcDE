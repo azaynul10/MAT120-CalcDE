{
  "cells": [
    {
      "cell_type": "markdown",
      "metadata": {
        "id": "8GyJoyuaMgny"
      },
      "source": [
        "#Numpy is a python library which allows us to create and manipulate arrays\n",
        "* Numpy arrays are faster and more space efficient than lists\n",
        "* [All about Numpy](https://numpy.org/doc/stable/reference/routines.array-creation.html)"
      ]
    },
    {
      "cell_type": "code",
      "source": [
        "\"\"\"\n",
        "#To import a library function:\n",
        "import math\n",
        "\n",
        "#Call a function\n",
        "math.factorial(45)\n",
        "\n",
        "#Another way is:\n",
        "import math as m   # m is an instance\n",
        "m.pi\n",
        "\"\"\""
      ],
      "metadata": {
        "id": "anwnZ8itWQMx",
        "colab": {
          "base_uri": "https://localhost:8080/",
          "height": 36
        },
        "outputId": "9dc71e03-e714-4de2-8d01-6e96fe333909"
      },
      "execution_count": null,
      "outputs": [
        {
          "output_type": "execute_result",
          "data": {
            "text/plain": [
              "'\\n#To import a library function:\\nimport math\\n\\n#Call a function\\nmath.factorial(45)\\n\\n#Another way is:\\nimport math as m   # m is an instance\\nm.pi\\n'"
            ],
            "application/vnd.google.colaboratory.intrinsic+json": {
              "type": "string"
            }
          },
          "metadata": {},
          "execution_count": 1
        }
      ]
    },
    {
      "cell_type": "code",
      "execution_count": null,
      "metadata": {
        "id": "SNw2Bf7azQLR"
      },
      "outputs": [],
      "source": [
        "# Load in NumPy at the beginning !!\n",
        "import numpy as np"
      ]
    },
    {
      "cell_type": "markdown",
      "metadata": {
        "id": "IGfpZBX7zQLS"
      },
      "source": [
        "### The Basics"
      ]
    },
    {
      "cell_type": "code",
      "execution_count": null,
      "metadata": {
        "colab": {
          "base_uri": "https://localhost:8080/"
        },
        "id": "4vHb8rMmzQLT",
        "outputId": "3caa7855-f895-46f4-d157-b6899573c959"
      },
      "outputs": [
        {
          "output_type": "stream",
          "name": "stdout",
          "text": [
            "[1 2 3]\n",
            "<class 'numpy.int16'>\n"
          ]
        }
      ],
      "source": [
        "a = np.array([1,2,3], dtype='int16')  #can be 8,16,32,64 - these are bit sizes\n",
        "print(a)\n",
        "print(type(a[1]))"
      ]
    },
    {
      "cell_type": "code",
      "execution_count": null,
      "metadata": {
        "colab": {
          "base_uri": "https://localhost:8080/"
        },
        "id": "tSh6pXQOzQLU",
        "outputId": "3c6c91a2-5dd0-4cbd-bc18-286ef7efbb61"
      },
      "outputs": [
        {
          "output_type": "stream",
          "name": "stdout",
          "text": [
            "[[9. 8. 7.]\n",
            " [6. 5. 4.]]\n",
            "<class 'numpy.float64'>\n",
            "[[9.0, 8.0, 7.0], [6.0, 5.0, 4.0]]\n"
          ]
        }
      ],
      "source": [
        "b = np.array([[9.0,8.0,7.0],[6.0,5.0,4.0]])\n",
        "\n",
        "print(b)\n",
        "print(type(b[0,1]))      # another way of indexing b[0][1]\n",
        "\n",
        "c= [[9.0,8.0,7.0],[6.0,5.0,4.0]]\n",
        "print(c)\n",
        "\n",
        "# b is an array, it appears as a matrix\n",
        "# c is a nested list, even if it looks similar to an array"
      ]
    },
    {
      "cell_type": "code",
      "execution_count": null,
      "metadata": {
        "colab": {
          "base_uri": "https://localhost:8080/"
        },
        "id": "RTvExSP2zQLV",
        "outputId": "d81e02c8-82d6-4b5a-b26a-30780f6c7cb6"
      },
      "outputs": [
        {
          "output_type": "stream",
          "name": "stdout",
          "text": [
            "1\n",
            "2\n"
          ]
        }
      ],
      "source": [
        "# Get Dimension\n",
        "print(a.ndim)\n",
        "print(b.ndim)"
      ]
    },
    {
      "cell_type": "code",
      "execution_count": null,
      "metadata": {
        "colab": {
          "base_uri": "https://localhost:8080/"
        },
        "id": "YWX4V_dAzQLV",
        "outputId": "727b21c0-0a32-403b-bf5e-acc80d974270"
      },
      "outputs": [
        {
          "output_type": "stream",
          "name": "stdout",
          "text": [
            "(3,)\n",
            "(2, 3)\n"
          ]
        }
      ],
      "source": [
        "# Get Shape\n",
        "print(a.shape)\n",
        "\n",
        "print(b.shape)\n",
        "\n",
        "# a has only one dimension\n",
        "# the row count in \"a\" = 1, so it is autmatically not mentioned.\n",
        "# If there is only 1 element in a tuple, there is always a comma after it\n",
        "\n",
        "# the row count in \"b\" = 2, it is mentioned in the output tuple"
      ]
    },
    {
      "cell_type": "code",
      "execution_count": null,
      "metadata": {
        "colab": {
          "base_uri": "https://localhost:8080/"
        },
        "id": "aRr6F3FFzQLZ",
        "outputId": "61666b73-201d-4380-ed58-c97353bb42c4"
      },
      "outputs": [
        {
          "output_type": "execute_result",
          "data": {
            "text/plain": [
              "dtype('int16')"
            ]
          },
          "metadata": {},
          "execution_count": 7
        }
      ],
      "source": [
        "# Get Type\n",
        "a.dtype"
      ]
    },
    {
      "cell_type": "code",
      "execution_count": null,
      "metadata": {
        "colab": {
          "base_uri": "https://localhost:8080/"
        },
        "id": "orGhqiu7zQLa",
        "outputId": "0465f267-1897-45a7-dbae-7a3a182ebc17"
      },
      "outputs": [
        {
          "output_type": "execute_result",
          "data": {
            "text/plain": [
              "2"
            ]
          },
          "metadata": {},
          "execution_count": 8
        }
      ],
      "source": [
        "# Get number of bytes of an item in the array\n",
        "a.itemsize"
      ]
    },
    {
      "cell_type": "code",
      "execution_count": null,
      "metadata": {
        "colab": {
          "base_uri": "https://localhost:8080/"
        },
        "id": "FQZpa3eqzQLb",
        "outputId": "f92d9e15-75c1-4cbb-90e0-db12176cc3e9"
      },
      "outputs": [
        {
          "output_type": "execute_result",
          "data": {
            "text/plain": [
              "3"
            ]
          },
          "metadata": {},
          "execution_count": 9
        }
      ],
      "source": [
        "a.size # num of elements in the array\n"
      ]
    },
    {
      "cell_type": "code",
      "execution_count": null,
      "metadata": {
        "colab": {
          "base_uri": "https://localhost:8080/"
        },
        "id": "e94MOvJ0zQLc",
        "outputId": "71286719-826e-4593-b623-44fd338ef25e"
      },
      "outputs": [
        {
          "output_type": "execute_result",
          "data": {
            "text/plain": [
              "6"
            ]
          },
          "metadata": {},
          "execution_count": 10
        }
      ],
      "source": [
        "# Get total size\n",
        "a.nbytes   # size  * itemsize"
      ]
    },
    {
      "cell_type": "markdown",
      "metadata": {
        "id": "oHeuvwjOzQLd"
      },
      "source": [
        "### Accessing/Changing specific elements, rows, columns, etc"
      ]
    },
    {
      "cell_type": "code",
      "execution_count": null,
      "metadata": {
        "colab": {
          "base_uri": "https://localhost:8080/"
        },
        "id": "4ZBGyQ1zzQLd",
        "outputId": "1aa606ab-ba0a-4547-9e5e-70677a485ab4"
      },
      "outputs": [
        {
          "output_type": "stream",
          "name": "stdout",
          "text": [
            "[[ 1  2  3  4  5  6  7]\n",
            " [ 8  9 10 11 12 13 14]]\n"
          ]
        }
      ],
      "source": [
        "a = np.array([[1,2,3,4,5,6,7],[8,9,10,11,12,13,14]])\n",
        "print(a)"
      ]
    },
    {
      "cell_type": "code",
      "execution_count": null,
      "metadata": {
        "colab": {
          "base_uri": "https://localhost:8080/"
        },
        "id": "QKBRaWC3zQLe",
        "outputId": "f4827b1a-07f6-4ba6-deb2-df1fab5b69cc"
      },
      "outputs": [
        {
          "output_type": "execute_result",
          "data": {
            "text/plain": [
              "13"
            ]
          },
          "metadata": {},
          "execution_count": 12
        }
      ],
      "source": [
        "# Get a specific element [r, c]\n",
        "a[1, 5]"
      ]
    },
    {
      "cell_type": "code",
      "execution_count": null,
      "metadata": {
        "colab": {
          "base_uri": "https://localhost:8080/"
        },
        "id": "6LSwqnJ6zQLf",
        "outputId": "f08e8b6b-3a09-4ca3-f65c-d8e2c8db82e7"
      },
      "outputs": [
        {
          "output_type": "execute_result",
          "data": {
            "text/plain": [
              "array([ 8,  9, 10, 11, 12, 13, 14])"
            ]
          },
          "metadata": {},
          "execution_count": 13
        }
      ],
      "source": [
        "# Get a specific row\n",
        "a[1, :]               #  a[1, 0:7], when start and end indexes are not mentioned, they are automatically assumed to be first to last"
      ]
    },
    {
      "cell_type": "code",
      "execution_count": null,
      "metadata": {
        "colab": {
          "base_uri": "https://localhost:8080/"
        },
        "id": "6cIhrLozzQLg",
        "outputId": "d15f821a-5956-47ef-aa09-8e818bdcce28"
      },
      "outputs": [
        {
          "output_type": "execute_result",
          "data": {
            "text/plain": [
              "array([ 3, 10])"
            ]
          },
          "metadata": {},
          "execution_count": 14
        }
      ],
      "source": [
        "# Get a specific column\n",
        "a[:, 2]"
      ]
    },
    {
      "cell_type": "code",
      "execution_count": null,
      "metadata": {
        "colab": {
          "base_uri": "https://localhost:8080/"
        },
        "id": "ZAN1hBqIzQLg",
        "outputId": "fd4c28f9-28ef-4322-d6e2-58a66b781a74"
      },
      "outputs": [
        {
          "output_type": "execute_result",
          "data": {
            "text/plain": [
              "array([2, 4, 6])"
            ]
          },
          "metadata": {},
          "execution_count": 15
        }
      ],
      "source": [
        "# Getting a little more fancy [startindex:endindex:stepsize]\n",
        "a[0, 1:-1:2]\n",
        "\n",
        "\n",
        "# row index - 0, column index - 1, 3, 5"
      ]
    },
    {
      "cell_type": "code",
      "execution_count": null,
      "metadata": {
        "colab": {
          "base_uri": "https://localhost:8080/"
        },
        "id": "D6TODeFhzQLh",
        "outputId": "b2b1389a-90d7-4622-8ba6-6dcc2bebcae1"
      },
      "outputs": [
        {
          "output_type": "stream",
          "name": "stdout",
          "text": [
            "[[ 1  2  3  4  5  6  7]\n",
            " [ 8  9 10 11 12 20 14]]\n",
            "[[ 1  2  1  4  5  6  7]\n",
            " [ 8  9  2 11 12 20 14]]\n"
          ]
        }
      ],
      "source": [
        "a[1,5] = 20\n",
        "print(a)\n",
        "\n",
        "a[:,2] = [1,2]\n",
        "print(a)"
      ]
    },
    {
      "cell_type": "markdown",
      "metadata": {
        "id": "iiVdaEjAzQLi"
      },
      "source": [
        "#3-d example"
      ]
    },
    {
      "cell_type": "code",
      "execution_count": null,
      "metadata": {
        "colab": {
          "base_uri": "https://localhost:8080/"
        },
        "id": "9fzC-ZNAzQLi",
        "outputId": "d3fe3764-3f18-4184-f1ad-56ce2101551c"
      },
      "outputs": [
        {
          "output_type": "stream",
          "name": "stdout",
          "text": [
            "[[[1 2]\n",
            "  [3 4]]\n",
            "\n",
            " [[5 6]\n",
            "  [7 8]]]\n"
          ]
        }
      ],
      "source": [
        "b = np.array([[[1,2],[3,4]],[[5,6],[7,8]]])\n",
        "print(b)"
      ]
    },
    {
      "cell_type": "code",
      "execution_count": null,
      "metadata": {
        "colab": {
          "base_uri": "https://localhost:8080/"
        },
        "id": "-C_WangYzQLj",
        "outputId": "bc22dfc6-5cd5-4dfa-96ed-a500a5547526"
      },
      "outputs": [
        {
          "output_type": "execute_result",
          "data": {
            "text/plain": [
              "4"
            ]
          },
          "metadata": {},
          "execution_count": 18
        }
      ],
      "source": [
        "# Get specific element (work outside in)\n",
        "b[0,1,1]"
      ]
    },
    {
      "cell_type": "code",
      "execution_count": null,
      "metadata": {
        "colab": {
          "base_uri": "https://localhost:8080/",
          "height": 165
        },
        "id": "iI9q2HfazQLk",
        "outputId": "4f2a5e8d-4aee-4f85-81f0-025a77bb64d3"
      },
      "outputs": [
        {
          "output_type": "error",
          "ename": "ValueError",
          "evalue": "setting an array element with a sequence. The requested array has an inhomogeneous shape after 1 dimensions. The detected shape was (2,) + inhomogeneous part.",
          "traceback": [
            "\u001b[0;31m---------------------------------------------------------------------------\u001b[0m",
            "\u001b[0;31mValueError\u001b[0m                                Traceback (most recent call last)",
            "\u001b[0;32m<ipython-input-19-bf9d2f8d182e>\u001b[0m in \u001b[0;36m<cell line: 2>\u001b[0;34m()\u001b[0m\n\u001b[1;32m      1\u001b[0m \u001b[0;31m# replace\u001b[0m\u001b[0;34m\u001b[0m\u001b[0;34m\u001b[0m\u001b[0m\n\u001b[0;32m----> 2\u001b[0;31m \u001b[0mb\u001b[0m\u001b[0;34m[\u001b[0m\u001b[0;34m:\u001b[0m\u001b[0;34m,\u001b[0m\u001b[0;36m1\u001b[0m\u001b[0;34m,\u001b[0m\u001b[0;34m:\u001b[0m\u001b[0;34m]\u001b[0m \u001b[0;34m=\u001b[0m \u001b[0;34m[\u001b[0m\u001b[0;34m[\u001b[0m\u001b[0;36m9\u001b[0m\u001b[0;34m,\u001b[0m\u001b[0;36m9\u001b[0m\u001b[0;34m,\u001b[0m\u001b[0;36m9\u001b[0m\u001b[0;34m]\u001b[0m\u001b[0;34m,\u001b[0m\u001b[0;34m[\u001b[0m\u001b[0;36m8\u001b[0m\u001b[0;34m,\u001b[0m\u001b[0;36m8\u001b[0m\u001b[0;34m]\u001b[0m\u001b[0;34m]\u001b[0m\u001b[0;34m\u001b[0m\u001b[0;34m\u001b[0m\u001b[0m\n\u001b[0m",
            "\u001b[0;31mValueError\u001b[0m: setting an array element with a sequence. The requested array has an inhomogeneous shape after 1 dimensions. The detected shape was (2,) + inhomogeneous part."
          ]
        }
      ],
      "source": [
        "# replace\n",
        "b[:,1,:] = [[9,9,9],[8,8]]"
      ]
    },
    {
      "cell_type": "code",
      "execution_count": null,
      "metadata": {
        "colab": {
          "base_uri": "https://localhost:8080/"
        },
        "id": "y6lGUb8zzQLl",
        "outputId": "f1309722-e8b4-4c65-a1d5-2cdc2f16b435"
      },
      "outputs": [
        {
          "output_type": "execute_result",
          "data": {
            "text/plain": [
              "array([[[1, 2],\n",
              "        [9, 9]],\n",
              "\n",
              "       [[5, 6],\n",
              "        [8, 8]]])"
            ]
          },
          "metadata": {},
          "execution_count": 20
        }
      ],
      "source": [
        "b[:,1,:] = [[9,9],[8,8]]\n",
        "b"
      ]
    },
    {
      "cell_type": "markdown",
      "metadata": {
        "id": "IsFrL2BezQLl"
      },
      "source": [
        "### Initializing Different Types of Arrays"
      ]
    },
    {
      "cell_type": "code",
      "execution_count": null,
      "metadata": {
        "colab": {
          "base_uri": "https://localhost:8080/"
        },
        "id": "TMvaM9WmzQLm",
        "outputId": "9ceaf595-39c6-4c07-bb8e-4e854e7c910d"
      },
      "outputs": [
        {
          "output_type": "execute_result",
          "data": {
            "text/plain": [
              "array([[0., 0., 0.],\n",
              "       [0., 0., 0.]])"
            ]
          },
          "metadata": {},
          "execution_count": 21
        }
      ],
      "source": [
        "# All 0s matrix\n",
        "np.zeros((2,3))"
      ]
    },
    {
      "cell_type": "code",
      "execution_count": null,
      "metadata": {
        "colab": {
          "base_uri": "https://localhost:8080/"
        },
        "id": "lJatzGhmzQLn",
        "outputId": "fe904f1d-5a26-4dba-b9ec-0bb7b02d22c9"
      },
      "outputs": [
        {
          "output_type": "execute_result",
          "data": {
            "text/plain": [
              "array([[[1, 1, 1],\n",
              "        [1, 1, 1]],\n",
              "\n",
              "       [[1, 1, 1],\n",
              "        [1, 1, 1]],\n",
              "\n",
              "       [[1, 1, 1],\n",
              "        [1, 1, 1]],\n",
              "\n",
              "       [[1, 1, 1],\n",
              "        [1, 1, 1]]])"
            ]
          },
          "metadata": {},
          "execution_count": 76
        }
      ],
      "source": [
        "# All 1s matrix\n",
        "np.ones((4,2,3), dtype='int')"
      ]
    },
    {
      "cell_type": "code",
      "execution_count": null,
      "metadata": {
        "colab": {
          "base_uri": "https://localhost:8080/"
        },
        "id": "0E995OtZzQLo",
        "outputId": "963afe25-8728-4061-eb44-892e632e0e1e"
      },
      "outputs": [
        {
          "output_type": "execute_result",
          "data": {
            "text/plain": [
              "array([[99, 99, 99],\n",
              "       [99, 99, 99]], dtype=int32)"
            ]
          },
          "metadata": {},
          "execution_count": 23
        }
      ],
      "source": [
        "# Any other number\n",
        "np.full((2,3), 99, dtype=\"int32\")"
      ]
    },
    {
      "cell_type": "code",
      "execution_count": null,
      "metadata": {
        "colab": {
          "base_uri": "https://localhost:8080/"
        },
        "id": "SglKbGaKzQLp",
        "outputId": "425bbe61-cc49-4a61-bd58-262c5c79c70b"
      },
      "outputs": [
        {
          "output_type": "execute_result",
          "data": {
            "text/plain": [
              "array([[4, 4, 4, 4, 4, 4, 4],\n",
              "       [4, 4, 4, 4, 4, 4, 4]])"
            ]
          },
          "metadata": {},
          "execution_count": 24
        }
      ],
      "source": [
        "# Any other number (full_like) | takes a built shape \"a\" and loads the number we want\n",
        "np.full_like(a, 4)\n",
        "\n",
        "# or we do np.full(a.shape, 4)"
      ]
    },
    {
      "cell_type": "code",
      "execution_count": null,
      "metadata": {
        "colab": {
          "base_uri": "https://localhost:8080/"
        },
        "id": "NhLolApZzQLp",
        "outputId": "f1389f4b-f32c-4aec-9438-683dad451a5b"
      },
      "outputs": [
        {
          "output_type": "execute_result",
          "data": {
            "text/plain": [
              "array([[0.62509618, 0.21586195],\n",
              "       [0.19012423, 0.75001865],\n",
              "       [0.36315243, 0.58582651],\n",
              "       [0.66540799, 0.48577033]])"
            ]
          },
          "metadata": {},
          "execution_count": 25
        }
      ],
      "source": [
        "# Random decimal numbers\n",
        "np.random.rand(4,2)"
      ]
    },
    {
      "cell_type": "code",
      "execution_count": null,
      "metadata": {
        "colab": {
          "base_uri": "https://localhost:8080/"
        },
        "id": "dxmS67nIzQLq",
        "outputId": "ee9a1817-3fdf-4a54-a528-ee124d7a609b"
      },
      "outputs": [
        {
          "output_type": "execute_result",
          "data": {
            "text/plain": [
              "array([[  2,   7,   7],\n",
              "       [  3,  -2,   4],\n",
              "       [  8, -10,   0]])"
            ]
          },
          "metadata": {},
          "execution_count": 26
        }
      ],
      "source": [
        "# Random Integer values\n",
        "np.random.randint(-10,10, size=(3,3))"
      ]
    },
    {
      "cell_type": "code",
      "execution_count": null,
      "metadata": {
        "colab": {
          "base_uri": "https://localhost:8080/"
        },
        "id": "nkr5bNXpzQLr",
        "outputId": "e501b3dc-1279-46a7-89c8-966f43ad4f05"
      },
      "outputs": [
        {
          "output_type": "execute_result",
          "data": {
            "text/plain": [
              "array([[1., 0., 0., 0., 0., 0.],\n",
              "       [0., 1., 0., 0., 0., 0.],\n",
              "       [0., 0., 1., 0., 0., 0.],\n",
              "       [0., 0., 0., 1., 0., 0.],\n",
              "       [0., 0., 0., 0., 1., 0.],\n",
              "       [0., 0., 0., 0., 0., 1.]])"
            ]
          },
          "metadata": {},
          "execution_count": 27
        }
      ],
      "source": [
        "# The identity matrix\n",
        "np.identity(6)"
      ]
    },
    {
      "cell_type": "code",
      "execution_count": null,
      "metadata": {
        "colab": {
          "base_uri": "https://localhost:8080/"
        },
        "id": "HJT6p3tHVAs5",
        "outputId": "3d5ce579-39c8-403a-8939-1805d8faa1bc"
      },
      "outputs": [
        {
          "output_type": "stream",
          "name": "stdout",
          "text": [
            "[[1. 1. 1. 1. 1.]\n",
            " [1. 1. 1. 1. 1.]\n",
            " [1. 1. 1. 1. 1.]\n",
            " [1. 1. 1. 1. 1.]\n",
            " [1. 1. 1. 1. 1.]]\n",
            "[[0. 0. 0.]\n",
            " [0. 0. 0.]\n",
            " [0. 0. 0.]]\n",
            "[[0. 0. 0.]\n",
            " [0. 9. 0.]\n",
            " [0. 0. 0.]]\n",
            "[[1. 1. 1. 1. 1.]\n",
            " [1. 0. 0. 0. 1.]\n",
            " [1. 0. 9. 0. 1.]\n",
            " [1. 0. 0. 0. 1.]\n",
            " [1. 1. 1. 1. 1.]]\n"
          ]
        }
      ],
      "source": [
        "output = np.ones((5,5))\n",
        "print(output)\n",
        "\n",
        "z = np.zeros((3,3))\n",
        "print(z)\n",
        "z[1,1] = 9\n",
        "print(z)\n",
        "\n",
        "output[1:-1,1:-1] = z\n",
        "print(output)"
      ]
    },
    {
      "cell_type": "markdown",
      "metadata": {
        "id": "x8lvymTFVAs6"
      },
      "source": [
        "##### Be careful when copying arrays!!!"
      ]
    },
    {
      "cell_type": "code",
      "execution_count": null,
      "metadata": {
        "colab": {
          "base_uri": "https://localhost:8080/"
        },
        "id": "zcR8RGRoVAs6",
        "outputId": "9c1c8f94-5807-4efb-b966-d699082cbc9e"
      },
      "outputs": [
        {
          "output_type": "stream",
          "name": "stdout",
          "text": [
            "[1 2 3]\n",
            "[100   2   3]\n",
            "[20  2  3]\n",
            "[20  2  3]\n"
          ]
        }
      ],
      "source": [
        "a = np.array([1,2,3])\n",
        "b = a.copy() # Creates a copy of \"a\" with a different memory location\n",
        "b[0] = 100\n",
        "\n",
        "print(a)\n",
        "print(b)\n",
        "\n",
        "\n",
        "a = np.array([1,2,3])\n",
        "b = a  # Unsafe way, directly copies the memory location\n",
        "b[0] = 20\n",
        "\n",
        "print(a)\n",
        "print(b)\n"
      ]
    },
    {
      "cell_type": "markdown",
      "source": [
        "Reshaping Arrays"
      ],
      "metadata": {
        "id": "dTE3d9oDEo8H"
      }
    },
    {
      "cell_type": "code",
      "source": [
        "output = np.ones((5,3))\n",
        "output.reshape((1,15))\n"
      ],
      "metadata": {
        "colab": {
          "base_uri": "https://localhost:8080/"
        },
        "id": "x0LEufPn6e5T",
        "outputId": "9a562e09-c132-4c38-951f-513287b4fbae"
      },
      "execution_count": null,
      "outputs": [
        {
          "output_type": "execute_result",
          "data": {
            "text/plain": [
              "array([[1., 1., 1., 1., 1., 1., 1., 1., 1., 1., 1., 1., 1., 1., 1.]])"
            ]
          },
          "metadata": {},
          "execution_count": 108
        }
      ]
    },
    {
      "cell_type": "code",
      "source": [],
      "metadata": {
        "id": "rnwDa4BpEzSn"
      },
      "execution_count": null,
      "outputs": []
    },
    {
      "cell_type": "markdown",
      "metadata": {
        "id": "SL4YWiq_VAs6"
      },
      "source": [
        "### Mathematics"
      ]
    },
    {
      "cell_type": "code",
      "execution_count": null,
      "metadata": {
        "colab": {
          "base_uri": "https://localhost:8080/"
        },
        "id": "FYUsibTjVAs6",
        "outputId": "eac02223-f818-4379-d433-3bb1cb1f3e2b"
      },
      "outputs": [
        {
          "output_type": "stream",
          "name": "stdout",
          "text": [
            "[1 2 3 4]\n"
          ]
        }
      ],
      "source": [
        "a = np.array([1,2,3,4])\n",
        "print(a)"
      ]
    },
    {
      "cell_type": "code",
      "execution_count": null,
      "metadata": {
        "colab": {
          "base_uri": "https://localhost:8080/"
        },
        "id": "aIEvVGqZVAs6",
        "outputId": "9ec14ee8-d2ff-4a03-c3d6-74a3eed8cf9d"
      },
      "outputs": [
        {
          "output_type": "execute_result",
          "data": {
            "text/plain": [
              "array([3, 4, 5, 6])"
            ]
          },
          "metadata": {},
          "execution_count": 31
        }
      ],
      "source": [
        "a + 2"
      ]
    },
    {
      "cell_type": "code",
      "execution_count": null,
      "metadata": {
        "colab": {
          "base_uri": "https://localhost:8080/"
        },
        "id": "lvcEL0XGVAs6",
        "outputId": "3edf9b17-540a-4031-87dd-f647a8942c32"
      },
      "outputs": [
        {
          "output_type": "execute_result",
          "data": {
            "text/plain": [
              "array([-1,  0,  1,  2])"
            ]
          },
          "metadata": {},
          "execution_count": 32
        }
      ],
      "source": [
        "a - 2"
      ]
    },
    {
      "cell_type": "code",
      "execution_count": null,
      "metadata": {
        "colab": {
          "base_uri": "https://localhost:8080/"
        },
        "id": "jAdAcUO9VAtB",
        "outputId": "b0fca8dd-3551-488b-f20c-4b322d86189f"
      },
      "outputs": [
        {
          "output_type": "execute_result",
          "data": {
            "text/plain": [
              "array([2, 4, 6, 8])"
            ]
          },
          "metadata": {},
          "execution_count": 33
        }
      ],
      "source": [
        "a * 2"
      ]
    },
    {
      "cell_type": "code",
      "execution_count": null,
      "metadata": {
        "colab": {
          "base_uri": "https://localhost:8080/"
        },
        "id": "tB9IL9hHVAtB",
        "outputId": "8d9050ab-4aee-4dbf-ac14-d83452e75a5c"
      },
      "outputs": [
        {
          "output_type": "execute_result",
          "data": {
            "text/plain": [
              "array([0.5, 1. , 1.5, 2. ])"
            ]
          },
          "metadata": {},
          "execution_count": 34
        }
      ],
      "source": [
        "a / 2"
      ]
    },
    {
      "cell_type": "code",
      "execution_count": null,
      "metadata": {
        "colab": {
          "base_uri": "https://localhost:8080/"
        },
        "id": "jEnrMkaBVAtB",
        "outputId": "f97b9f6f-9036-4acf-ca73-5a9f28437bb5"
      },
      "outputs": [
        {
          "output_type": "execute_result",
          "data": {
            "text/plain": [
              "array([2, 2, 4, 4])"
            ]
          },
          "metadata": {},
          "execution_count": 35
        }
      ],
      "source": [
        "b = np.array([1,0,1,0])\n",
        "a + b"
      ]
    },
    {
      "cell_type": "code",
      "execution_count": null,
      "metadata": {
        "colab": {
          "base_uri": "https://localhost:8080/"
        },
        "id": "6PHppOv-VAtB",
        "outputId": "5ccc928b-dcba-4400-e691-dccff1cc74ce"
      },
      "outputs": [
        {
          "output_type": "execute_result",
          "data": {
            "text/plain": [
              "array([ 1,  4,  9, 16])"
            ]
          },
          "metadata": {},
          "execution_count": 36
        }
      ],
      "source": [
        "a ** 2"
      ]
    },
    {
      "cell_type": "code",
      "execution_count": null,
      "metadata": {
        "colab": {
          "base_uri": "https://localhost:8080/"
        },
        "id": "-Ad8eoiGVAtB",
        "outputId": "86cb985e-bc8c-4742-8233-af8123355347"
      },
      "outputs": [
        {
          "output_type": "execute_result",
          "data": {
            "text/plain": [
              "array([ 0.54030231, -0.41614684, -0.9899925 , -0.65364362])"
            ]
          },
          "metadata": {},
          "execution_count": 37
        }
      ],
      "source": [
        "# Take the sin\n",
        "np.cos(a)\n",
        "\n"
      ]
    },
    {
      "cell_type": "markdown",
      "metadata": {
        "id": "wx9jC6fwp820"
      },
      "source": [
        "# Introduction to Matplotlib\n",
        "### (and numpy)"
      ]
    },
    {
      "cell_type": "code",
      "execution_count": null,
      "metadata": {
        "id": "q5rpeegyqZH4"
      },
      "outputs": [],
      "source": [
        "import matplotlib.pyplot as plt"
      ]
    },
    {
      "cell_type": "code",
      "execution_count": null,
      "metadata": {
        "id": "JGkc_VONq2On"
      },
      "outputs": [],
      "source": [
        "import numpy as np\n"
      ]
    },
    {
      "cell_type": "code",
      "execution_count": null,
      "metadata": {
        "colab": {
          "base_uri": "https://localhost:8080/"
        },
        "id": "CP_AgcxRtC3Y",
        "outputId": "ec663d36-9f11-4753-b253-ab8cebdeecd2"
      },
      "outputs": [
        {
          "output_type": "stream",
          "name": "stdout",
          "text": [
            "[0 1 2 3 4]\n",
            "[0 2 4 6 8]\n"
          ]
        }
      ],
      "source": [
        "x= np.arange(5)\n",
        "y= np.array([0, 2, 4, 6, 8])\n",
        "print(x)\n",
        "print(y)"
      ]
    },
    {
      "cell_type": "code",
      "execution_count": null,
      "metadata": {
        "colab": {
          "base_uri": "https://localhost:8080/",
          "height": 430
        },
        "id": "VKWM3_TsuJfk",
        "outputId": "fe5e1ae3-a059-4782-d438-1a403b88be95"
      },
      "outputs": [
        {
          "output_type": "display_data",
          "data": {
            "text/plain": [
              "<Figure size 640x480 with 1 Axes>"
            ],
            "image/png": "[encoded data removed]"
          },
          "metadata": {}
        }
      ],
      "source": [
        "plt.plot(x,y)\n",
        "plt.grid()"
      ]
    },
    {
      "cell_type": "code",
      "execution_count": null,
      "metadata": {
        "colab": {
          "base_uri": "https://localhost:8080/",
          "height": 654
        },
        "id": "q2UY3eD9uPnQ",
        "outputId": "7bb40681-b9c9-48cd-b6ea-f7c2e67e21b3"
      },
      "outputs": [
        {
          "output_type": "execute_result",
          "data": {
            "text/plain": [
              "([<matplotlib.axis.YTick at 0x7a81403f53c0>,\n",
              "  <matplotlib.axis.YTick at 0x7a81403f4d60>,\n",
              "  <matplotlib.axis.YTick at 0x7a81403b3eb0>,\n",
              "  <matplotlib.axis.YTick at 0x7a814021edd0>,\n",
              "  <matplotlib.axis.YTick at 0x7a814021d390>],\n",
              " [Text(0, 0, '0'),\n",
              "  Text(0, 2, '2'),\n",
              "  Text(0, 4, '4'),\n",
              "  Text(0, 6, '6'),\n",
              "  Text(0, 8, '8')])"
            ]
          },
          "metadata": {},
          "execution_count": 42
        },
        {
          "output_type": "display_data",
          "data": {
            "text/plain": [
              "<Figure size 640x480 with 1 Axes>"
            ],
            "image/png": "[encoded data removed]"
          },
          "metadata": {}
        }
      ],
      "source": [
        "plt.plot(x,y)\n",
        "plt.title(\"Graph Name\")\n",
        "plt.xlabel(\"X axis\")\n",
        "plt.ylabel(\"y axis\")\n",
        "\n",
        "plt.xticks([0,1,2,3,4])\n",
        "plt.yticks([0,2,4,6,8])"
      ]
    },
    {
      "cell_type": "code",
      "execution_count": null,
      "metadata": {
        "colab": {
          "base_uri": "https://localhost:8080/",
          "height": 472
        },
        "id": "hfPMiiwMvmYv",
        "outputId": "ff47a00c-31e1-458a-db93-55239076c900"
      },
      "outputs": [
        {
          "output_type": "display_data",
          "data": {
            "text/plain": [
              "<Figure size 640x480 with 1 Axes>"
            ],
            "image/png": "[encoded data removed]"
          },
          "metadata": {}
        }
      ],
      "source": [
        "# x = [0 1 2 3 4]\n",
        "# z = [0 1 4 9 16]\n",
        "\n",
        "z = np.power(x,2)\n",
        "\n",
        "plt.plot(x,y, label = \"2x\")   # y = 2x\n",
        "plt.plot(x, z, label = \"x^2\")  # z = x**2\n",
        "\n",
        "plt.title(\"2 graphs\")\n",
        "plt.xlabel(\"X axis\")\n",
        "plt.ylabel(\"Y axis\")\n",
        "\n",
        "plt.xticks([0,1,2,3,4])\n",
        "\n",
        "plt.legend()\n",
        "plt.show()"
      ]
    },
    {
      "cell_type": "markdown",
      "metadata": {
        "id": "lisx-Scaw7Td"
      },
      "source": [
        "## Smooth Graph??"
      ]
    },
    {
      "cell_type": "code",
      "execution_count": null,
      "metadata": {
        "colab": {
          "base_uri": "https://localhost:8080/",
          "height": 430
        },
        "id": "ZPcfJ124w-Hd",
        "outputId": "f2d64f04-f429-455c-cf36-825ed9fc9b6a"
      },
      "outputs": [
        {
          "output_type": "display_data",
          "data": {
            "text/plain": [
              "<Figure size 640x480 with 1 Axes>"
            ],
            "image/png": "[encoded data removed]"
          },
          "metadata": {}
        }
      ],
      "source": [
        "from math import *\n",
        "import numpy as np\n",
        "import matplotlib.pyplot as plt\n",
        "x = np.linspace(0 , 4*pi , 200)   #linspace creates equally spaced points from start to stop inclusive, spaced by the step size\n",
        "\n",
        "\n",
        "y1 = np.sin(x)\n",
        "\n",
        "y2 = np.cos(x)\n",
        "\n",
        "plt.plot(x, y1, color='r', label='sin')\n",
        "plt.plot(x, y2, color='g', label='cos')\n",
        "\n",
        "\n",
        "plt.xticks(np.arange(13))\n",
        "plt.legend()\n",
        "plt.grid()\n",
        "plt.show()\n",
        "\n",
        "#plt.plot(x, y1, '.' ,color='r', label='sin')\n",
        "#plt.plot(x, y2, '.', color='g', label='cos') // use the dot for plottinf every point on the curve // 'o' or '-' or \"+\" or \"x\" can also be used\n"
      ]
    },
    {
      "cell_type": "code",
      "execution_count": null,
      "metadata": {
        "colab": {
          "base_uri": "https://localhost:8080/"
        },
        "id": "AUfAcKpSdZGA",
        "outputId": "57983a82-81df-43dd-d3ff-359008846e88"
      },
      "outputs": [
        {
          "output_type": "execute_result",
          "data": {
            "text/plain": [
              "(array([2.  , 2.25, 2.5 , 2.75, 3.  ]), 0.25)"
            ]
          },
          "metadata": {},
          "execution_count": 45
        }
      ],
      "source": [
        "np.linspace(2.0, 3.0, num=5)\n",
        "#array([2.  , 2.25, 2.5 , 2.75, 3.  ])\n",
        "\n",
        "np.linspace(2.0, 3.0, num=5, endpoint=False)\n",
        "#array([2. ,  2.2,  2.4,  2.6,  2.8])\n",
        "np.linspace(2.0, 3.0, num=5, retstep=True)\n",
        "#(array([2.  ,  2.25,  2.5 ,  2.75,  3.  ]), 0.25)\n",
        "\n",
        "# \"num =\" doesnt need to be mentioned.\n",
        "#endpoint = False, means the final point will be excluded. True means it will be included.\n",
        "#retstep returns the array and step count in the form (sample, step)"
      ]
    },
    {
      "cell_type": "code",
      "execution_count": null,
      "metadata": {
        "colab": {
          "base_uri": "https://localhost:8080/",
          "height": 486
        },
        "id": "X6OVg3-Jy9UK",
        "outputId": "46e95788-fe59-482c-ee48-4ea30637ae78"
      },
      "outputs": [
        {
          "output_type": "display_data",
          "data": {
            "text/plain": [
              "<Figure size 640x480 with 4 Axes>"
            ],
            "image/png": "[encoded data removed]"
          },
          "metadata": {}
        }
      ],
      "source": [
        "y3 = np.tan(x)\n",
        "y4 = np.sqrt(x)\n",
        "\n",
        "# Initialise the subplot function using number of rows and columns\n",
        "figure, axis = plt.subplots(2, 2)\n",
        "\n",
        "# For Sine Function\n",
        "axis[0, 0].plot(x, y1)\n",
        "axis[0, 0].set_title(\"sin\")\n",
        "\n",
        "# For Cosine Function\n",
        "axis[0, 1].plot(x, y2)\n",
        "axis[0, 1].set_title(\"cos\")\n",
        "\n",
        "# For Tangent Function\n",
        "axis[1, 0].plot(x, y3)\n",
        "axis[1, 0].set_title(\"tan\")\n",
        "\n",
        "# For Tanh Function\n",
        "axis[1, 1].plot(x, y4)\n",
        "axis[1, 1].set_title(\"sqrt\")\n",
        "\n",
        "plt.tight_layout()\n",
        "plt.show()\n",
        "\n",
        "# plt.subplots creates a figure and a grid of subplots with a single call, while providing reasonable control over how the individual plots are created\n",
        "# tight_layout automatically adjusts subplot params so that the subplot(s) fits in to the figure area. Not necessary to always use!\n"
      ]
    },
    {
      "cell_type": "code",
      "execution_count": null,
      "metadata": {
        "id": "FbnAWgG-gTVv"
      },
      "outputs": [],
      "source": []
    },
    {
      "cell_type": "code",
      "execution_count": null,
      "metadata": {
        "id": "55yRrnG4MS0_"
      },
      "outputs": [],
      "source": []
    }
  ],
  "metadata": {
    "colab": {
      "provenance": []
    },
    "kernelspec": {
      "display_name": "Python 3",
      "name": "python3"
    },
    "language_info": {
      "name": "python"
    }
  },
  "nbformat": 4,
  "nbformat_minor": 0
}