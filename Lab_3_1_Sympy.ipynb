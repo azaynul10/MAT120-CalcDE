{
  "cells": [
    {
      "cell_type": "markdown",
      "metadata": {
        "id": "FiZhHKq9x9Y3"
      },
      "source": [
        "# Always import your libraries\n",
        "\n",
        "* There are two ways to import them:\n",
        "    * **import** sympy (as smp)\n",
        "    * **from** sympy **import** Rational, factor, simplify / *\n",
        "\n",
        "In the first case, you will import the whole library, but need to call the functions as smp.Rational, smp.factor, smp.simplify. Use \"import\" when you want to use multiple members of the module.\n",
        "\n",
        "In the second case, you will be able to directly write those functions, however, only those three functions will be imported from the library. So, use \"from import\" when referring to a member of the module many times in the code.\n",
        "\n",
        "\n",
        "Using from import * will allow you to use all the functions in your module without specifying the library name, however it may cause some confusion as multiple libraries have similar functions that give differing results.\n",
        "\n"
      ]
    },
    {
      "cell_type": "code",
      "execution_count": null,
      "metadata": {
        "colab": {
          "base_uri": "https://localhost:8080/",
          "height": 38
        },
        "id": "BhSFT29CBvOf",
        "outputId": "975a5509-0896-41b3-d23f-f704cac63cab"
      },
      "outputs": [
        {
          "output_type": "execute_result",
          "data": {
            "text/plain": [
              "√7"
            ],
            "text/latex": "$\\displaystyle \\sqrt{7}$"
          },
          "metadata": {},
          "execution_count": 57
        }
      ],
      "source": [
        "#Which ever library is executed at last, is considered\n",
        "\n",
        "from math import *\n",
        "from sympy import *\n",
        "\n",
        "\n",
        "sqrt(7)\n",
        "# √ 7\n",
        "\n",
        "\n",
        "\n",
        "# from sympy import *\n",
        "# from math import *\n",
        "#sqrt(15)\n",
        "\n",
        "\n",
        "#2.64575131106459\n",
        "\n"
      ]
    },
    {
      "cell_type": "code",
      "execution_count": null,
      "metadata": {
        "id": "-AUcNao9ukTW"
      },
      "outputs": [],
      "source": [
        "# Not necessary to import again, but doing it for the sake of clarity\n",
        "\n",
        "import math as m\n",
        "import sympy as smp"
      ]
    },
    {
      "cell_type": "code",
      "execution_count": null,
      "metadata": {
        "colab": {
          "base_uri": "https://localhost:8080/"
        },
        "id": "MvCcqBFo3B-X",
        "outputId": "6475e8b2-f1dc-4e69-bda0-b38d4777a13d"
      },
      "outputs": [
        {
          "output_type": "stream",
          "name": "stdout",
          "text": [
            "pi\n",
            "3.141592653589793\n",
            "Here is how the math library prints pi: '3.141592653589793' vs how sympy prints it: 'pi'\n"
          ]
        }
      ],
      "source": [
        "# As seen before, math library gives us a decimal value\n",
        "# whereas sympy library gives us a value that is in a whole from, aka, it is \"symbolic\"\n",
        "\n",
        "print(smp.pi)\n",
        "# π\n",
        "\n",
        "print(m.pi)\n",
        "#3.14159265358979\n",
        "\n",
        "\n",
        "# printing it shows it in a slightly less nice way\n",
        "print(f\"Here is how the math library prints pi: '{m.pi}' vs how sympy prints it: '{smp.pi}'\")"
      ]
    },
    {
      "cell_type": "code",
      "source": [
        "init_printing(pretty_print=True)      #enables a better font"
      ],
      "metadata": {
        "id": "1Tra_fsfUsJv"
      },
      "execution_count": null,
      "outputs": []
    },
    {
      "cell_type": "code",
      "execution_count": null,
      "metadata": {
        "colab": {
          "base_uri": "https://localhost:8080/",
          "height": 38
        },
        "id": "zbc279Xd5U4o",
        "outputId": "7e54610a-1277-4dcc-b451-cd83f24b147e"
      },
      "outputs": [
        {
          "output_type": "execute_result",
          "data": {
            "text/plain": [
              "2⋅√2 + 3"
            ],
            "text/latex": "$\\displaystyle 2 \\sqrt{2} + 3$"
          },
          "metadata": {},
          "execution_count": 61
        }
      ],
      "source": [
        "smp.sqrt(8) + smp.sqrt(9)  #try * , - , / and more\n",
        "# 2√2 + 3"
      ]
    },
    {
      "cell_type": "code",
      "execution_count": null,
      "metadata": {
        "colab": {
          "base_uri": "https://localhost:8080/",
          "height": 51
        },
        "id": "a6PEkuGx6GXK",
        "outputId": "541d0bf8-985e-402e-a5ce-bbb9077e2810"
      },
      "outputs": [
        {
          "output_type": "execute_result",
          "data": {
            "text/plain": [
              "3/4"
            ],
            "text/latex": "$\\displaystyle \\frac{3}{4}$"
          },
          "metadata": {},
          "execution_count": 62
        }
      ],
      "source": [
        "# TO print as a rational fraction\n",
        "smp.Rational(3,4)\n",
        "\n",
        "# doing only \"3/4\" gives \"0.75\""
      ]
    },
    {
      "cell_type": "code",
      "execution_count": null,
      "metadata": {
        "colab": {
          "base_uri": "https://localhost:8080/",
          "height": 51
        },
        "id": "Cl6XCj2y6T-a",
        "outputId": "8ab0d67c-4c01-429a-ed15-e3f084212dc4"
      },
      "outputs": [
        {
          "output_type": "execute_result",
          "data": {
            "text/plain": [
              "43\n",
              "──\n",
              "30"
            ],
            "text/latex": "$\\displaystyle \\frac{43}{30}$"
          },
          "metadata": {},
          "execution_count": 63
        }
      ],
      "source": [
        "#example\n",
        "smp.Rational(3,5) + smp.Rational(5,6)\n"
      ]
    },
    {
      "cell_type": "code",
      "execution_count": null,
      "metadata": {
        "colab": {
          "base_uri": "https://localhost:8080/",
          "height": 37
        },
        "id": "CrFvFuCF6moy",
        "outputId": "7e40bade-6d1a-4098-ecff-682f34732c8a"
      },
      "outputs": [
        {
          "output_type": "execute_result",
          "data": {
            "text/plain": [
              "1.58333333333333"
            ],
            "text/latex": "$\\displaystyle 1.58333333333333$"
          },
          "metadata": {},
          "execution_count": 64
        }
      ],
      "source": [
        "# getting output in decimal\n",
        "smp.N(smp.Rational(3,4) + smp.Rational(5,6))"
      ]
    },
    {
      "cell_type": "code",
      "execution_count": null,
      "metadata": {
        "colab": {
          "base_uri": "https://localhost:8080/",
          "height": 37
        },
        "id": "gEIAge5xXw14",
        "outputId": "ee8b0b82-53db-4267-cba4-526e2d76550c"
      },
      "outputs": [
        {
          "output_type": "execute_result",
          "data": {
            "text/plain": [
              "1.5833"
            ],
            "text/latex": "$\\displaystyle 1.5833$"
          },
          "metadata": {},
          "execution_count": 65
        }
      ],
      "source": [
        "# getting output in decimal with a number of digits\n",
        "smp.N((smp.Rational(3,4) + smp.Rational(5,6)), 5 )"
      ]
    },
    {
      "cell_type": "code",
      "execution_count": null,
      "metadata": {
        "colab": {
          "base_uri": "https://localhost:8080/",
          "height": 37
        },
        "id": "8U_Bw9ZkYIHp",
        "outputId": "5da71cbd-ab6c-4874-8a13-6445bb54b5e0"
      },
      "outputs": [
        {
          "output_type": "execute_result",
          "data": {
            "text/plain": [
              "3.87298334620742"
            ],
            "text/latex": "$\\displaystyle 3.87298334620742$"
          },
          "metadata": {},
          "execution_count": 66
        }
      ],
      "source": [
        "#another way of getting a decimal output\n",
        "\n",
        "smp.sqrt(15).evalf()"
      ]
    },
    {
      "cell_type": "code",
      "execution_count": null,
      "metadata": {
        "colab": {
          "base_uri": "https://localhost:8080/",
          "height": 37
        },
        "id": "DWK3BVReYU6H",
        "outputId": "8b5a2d73-99df-4f69-c82c-5b8cd646bad4"
      },
      "outputs": [
        {
          "output_type": "execute_result",
          "data": {
            "text/plain": [
              "3.87298"
            ],
            "text/latex": "$\\displaystyle 3.87298$"
          },
          "metadata": {},
          "execution_count": 67
        }
      ],
      "source": [
        "#another way getting output in decimal with a number of digits\n",
        "smp.sqrt(15).evalf(6)"
      ]
    },
    {
      "cell_type": "code",
      "execution_count": null,
      "metadata": {
        "colab": {
          "base_uri": "https://localhost:8080/",
          "height": 55
        },
        "id": "1GBXTtcoYg7y",
        "outputId": "d3d86e91-4a4d-48d9-e792-8e5695927073"
      },
      "outputs": [
        {
          "output_type": "execute_result",
          "data": {
            "text/plain": [
              "8⋅√6    \n",
              "──── + π\n",
              " 17     "
            ],
            "text/latex": "$\\displaystyle \\frac{8 \\sqrt{6}}{17} + \\pi$"
          },
          "metadata": {},
          "execution_count": 68
        }
      ],
      "source": [
        "#Lets look at something at a more complex expression\n",
        "\n",
        "expr = smp.pi + smp.sqrt(6)*smp.Rational(8,17)\n",
        "expr\n",
        "\n",
        "#output is displayed in a very understandable form"
      ]
    },
    {
      "cell_type": "code",
      "source": [
        "# Finding out the n-th prime number\n",
        "\n",
        "smp.prime(1)\n",
        "#2\n",
        "\n",
        "smp.prime(5)\n",
        "#11\n",
        "\n",
        "smp.prime(10)\n",
        "#29"
      ],
      "metadata": {
        "colab": {
          "base_uri": "https://localhost:8080/",
          "height": 37
        },
        "id": "AweMFsP71wA2",
        "outputId": "edfad333-cf68-43ec-c4a5-c0e11e7d2b4c"
      },
      "execution_count": null,
      "outputs": [
        {
          "output_type": "execute_result",
          "data": {
            "text/plain": [
              "29"
            ],
            "text/latex": "$\\displaystyle 29$"
          },
          "metadata": {},
          "execution_count": 69
        }
      ]
    },
    {
      "cell_type": "markdown",
      "metadata": {
        "id": "HxaKXFYsZC7J"
      },
      "source": [
        "## Variables as SYMBOLS!"
      ]
    },
    {
      "cell_type": "code",
      "execution_count": null,
      "metadata": {
        "colab": {
          "base_uri": "https://localhost:8080/",
          "height": 38
        },
        "id": "LYrNFxI1ZAxf",
        "outputId": "233b8a0a-0428-4204-d767-9b973f287d93"
      },
      "outputs": [
        {
          "output_type": "execute_result",
          "data": {
            "text/plain": [
              "a"
            ],
            "text/latex": "$\\displaystyle a$"
          },
          "metadata": {},
          "execution_count": 70
        }
      ],
      "source": [
        "# Two ways\n",
        "\n",
        "#only converting one variable to a symbol\n",
        "\n",
        "a = smp.Symbol('a')\n",
        "a"
      ]
    },
    {
      "cell_type": "code",
      "execution_count": null,
      "metadata": {
        "colab": {
          "base_uri": "https://localhost:8080/",
          "height": 54
        },
        "id": "yjseAkd8ZXrt",
        "outputId": "caa7d1a9-773b-49e6-d345-b6d16a91c48a"
      },
      "outputs": [
        {
          "output_type": "execute_result",
          "data": {
            "text/plain": [
              "            2\n",
              "       n   y \n",
              "x⋅y + x  + ──\n",
              "           n "
            ],
            "text/latex": "$\\displaystyle x y + x^{n} + \\frac{y^{2}}{n}$"
          },
          "metadata": {},
          "execution_count": 71
        }
      ],
      "source": [
        "#creating multiple symbols\n",
        "x,n,y = smp.symbols('x n y')\n",
        "\n",
        "(y**2)/n + x**n + y*x\n",
        "#our equation becomes simplified and displayed\n",
        "\n"
      ]
    },
    {
      "cell_type": "markdown",
      "source": [
        "* $Writing$  $Equations$\n"
      ],
      "metadata": {
        "id": "em4tUqkSsxE1"
      }
    },
    {
      "cell_type": "code",
      "execution_count": null,
      "metadata": {
        "colab": {
          "base_uri": "https://localhost:8080/",
          "height": 38
        },
        "id": "0E7sBHO1ns-Z",
        "outputId": "3fffcb2a-0668-4d35-996e-461ec3d75065"
      },
      "outputs": [
        {
          "output_type": "execute_result",
          "data": {
            "text/plain": [
              " x      2        2\n",
              "4  + 8⋅x  - x + y "
            ],
            "text/latex": "$\\displaystyle 4^{x} + 8 x^{2} - x + y^{2}$"
          },
          "metadata": {},
          "execution_count": 72
        }
      ],
      "source": [
        "#another example\n",
        "x*2 - 3*x + 4**x - x**2 + y**2 + 9*x**2"
      ]
    },
    {
      "cell_type": "code",
      "execution_count": null,
      "metadata": {
        "colab": {
          "base_uri": "https://localhost:8080/"
        },
        "id": "Q50Izgz2aFVS",
        "outputId": "5aab9d0c-6747-4da7-8746-6a2e606e618a"
      },
      "outputs": [
        {
          "output_type": "stream",
          "name": "stdout",
          "text": [
            "x*y + x**n + y**2/n\n"
          ]
        }
      ],
      "source": [
        "#printing it makes it appear in a less visually appealing way, but it is the same\n",
        "print((y**2)/n + x**n + y*x)\n"
      ]
    },
    {
      "cell_type": "markdown",
      "source": [
        "* $ Substitution $"
      ],
      "metadata": {
        "id": "ep-HqtOYvSbk"
      }
    },
    {
      "cell_type": "code",
      "execution_count": null,
      "metadata": {
        "colab": {
          "base_uri": "https://localhost:8080/",
          "height": 52
        },
        "id": "gXUe3Vr6aYVF",
        "outputId": "9f4f4bcf-85ab-493a-c199-7b52b281fcbf"
      },
      "outputs": [
        {
          "output_type": "execute_result",
          "data": {
            "text/plain": [
              "b⋅h\n",
              "───\n",
              " 2 "
            ],
            "text/latex": "$\\displaystyle \\frac{b h}{2}$"
          },
          "metadata": {},
          "execution_count": 74
        }
      ],
      "source": [
        "# We can create equations of area/volume etc\n",
        "b,h = smp.symbols('b h')\n",
        "area = smp.Rational(1,2) * b * h\n",
        "area"
      ]
    },
    {
      "cell_type": "code",
      "execution_count": null,
      "metadata": {
        "colab": {
          "base_uri": "https://localhost:8080/",
          "height": 52
        },
        "id": "ky4IUfk3a0Vg",
        "outputId": "dbc50b66-97c9-4a69-cead-d7a327a6ec78"
      },
      "outputs": [
        {
          "output_type": "execute_result",
          "data": {
            "text/plain": [
              "5⋅h\n",
              "───\n",
              " 2 "
            ],
            "text/latex": "$\\displaystyle \\frac{5 h}{2}$"
          },
          "metadata": {},
          "execution_count": 75
        }
      ],
      "source": [
        "# Use .subs() to substitute a value in place of a symbol\n",
        "\n",
        "area.subs(b,5)   # 5*h / 2"
      ]
    },
    {
      "cell_type": "code",
      "execution_count": null,
      "metadata": {
        "colab": {
          "base_uri": "https://localhost:8080/",
          "height": 51
        },
        "id": "xG_jEE7sa_Fp",
        "outputId": "90ee4bc7-bcfa-4f95-8b51-bce7fa6b20c3"
      },
      "outputs": [
        {
          "output_type": "execute_result",
          "data": {
            "text/plain": [
              "15/2"
            ],
            "text/latex": "$\\displaystyle \\frac{15}{2}$"
          },
          "metadata": {},
          "execution_count": 76
        }
      ],
      "source": [
        "# Place the values of b and h\n",
        "area.subs([(b,5),(h,3)])"
      ]
    },
    {
      "cell_type": "code",
      "execution_count": null,
      "metadata": {
        "colab": {
          "base_uri": "https://localhost:8080/",
          "height": 54
        },
        "id": "QpUq-uNtb6fD",
        "outputId": "a1f02316-f55f-4aa7-9488-07607b07e503"
      },
      "outputs": [
        {
          "output_type": "execute_result",
          "data": {
            "text/plain": [
              "     2\n",
              "π⋅h⋅r \n",
              "──────\n",
              "  3   "
            ],
            "text/latex": "$\\displaystyle \\frac{\\pi h r^{2}}{3}$"
          },
          "metadata": {},
          "execution_count": 77
        }
      ],
      "source": [
        "# substitute with another symbol\n",
        "r = smp.Symbol('r')\n",
        "vol = smp.Rational(1,3) * smp.pi * r * r * h\n",
        "vol"
      ]
    },
    {
      "cell_type": "code",
      "execution_count": null,
      "metadata": {
        "colab": {
          "base_uri": "https://localhost:8080/",
          "height": 54
        },
        "id": "ri6jBU8iccwA",
        "outputId": "7f681dae-e1a2-4fc4-df7b-33bf6818a70e"
      },
      "outputs": [
        {
          "output_type": "execute_result",
          "data": {
            "text/plain": [
              "   5\n",
              "π⋅h \n",
              "────\n",
              " 3  "
            ],
            "text/latex": "$\\displaystyle \\frac{\\pi h^{5}}{3}$"
          },
          "metadata": {},
          "execution_count": 78
        }
      ],
      "source": [
        "vol.subs(r, h*h)"
      ]
    },
    {
      "cell_type": "markdown",
      "source": [
        "* $ Factor $"
      ],
      "metadata": {
        "id": "oKWGLLQCIEnZ"
      }
    },
    {
      "cell_type": "code",
      "execution_count": null,
      "metadata": {
        "colab": {
          "base_uri": "https://localhost:8080/",
          "height": 38
        },
        "id": "LLAxI-BQcxwp",
        "outputId": "28972682-2cff-4a58-9381-54352fc1ab24"
      },
      "outputs": [
        {
          "output_type": "execute_result",
          "data": {
            "text/plain": [
              "3⋅x⋅(3⋅x + 4)"
            ],
            "text/latex": "$\\displaystyle 3 x \\left(3 x + 4\\right)$"
          },
          "metadata": {},
          "execution_count": 79
        }
      ],
      "source": [
        "# Getting factors of an expression\n",
        "\n",
        "smp.factor(9*x**2 + 9*x + 3*x)   # 9x^2 + 12x = 3x(3x+4)"
      ]
    },
    {
      "cell_type": "code",
      "execution_count": null,
      "metadata": {
        "colab": {
          "base_uri": "https://localhost:8080/",
          "height": 38
        },
        "id": "LtG5z43SjaIT",
        "outputId": "b12be21c-0ff1-42b7-ee94-0ff85d370dc7"
      },
      "outputs": [
        {
          "output_type": "execute_result",
          "data": {
            "text/plain": [
              "(x - 1)⋅(x + 1)"
            ],
            "text/latex": "$\\displaystyle \\left(x - 1\\right) \\left(x + 1\\right)$"
          },
          "metadata": {},
          "execution_count": 80
        }
      ],
      "source": [
        "# x^2 - 1^2 = (x-1)*(x+1)\n",
        "smp.factor(x**2 -1)"
      ]
    },
    {
      "cell_type": "markdown",
      "source": [
        "* $ Expand $"
      ],
      "metadata": {
        "id": "DXRdWOmQIIDd"
      }
    },
    {
      "cell_type": "code",
      "execution_count": null,
      "metadata": {
        "colab": {
          "base_uri": "https://localhost:8080/",
          "height": 38
        },
        "id": "ss8bofKokcIP",
        "outputId": "c6bb6d28-83ab-4954-aaff-1733dbbf87df"
      },
      "outputs": [
        {
          "output_type": "execute_result",
          "data": {
            "text/plain": [
              "   y         y      \n",
              "8⋅3 ⋅x + 32⋅3  + 8⋅y"
            ],
            "text/latex": "$\\displaystyle 8 \\cdot 3^{y} x + 32 \\cdot 3^{y} + 8 y$"
          },
          "metadata": {},
          "execution_count": 81
        }
      ],
      "source": [
        "#fully expands an expression\n",
        "smp.expand((2*x+8)*(3**y)*4+y*8)\n"
      ]
    },
    {
      "cell_type": "code",
      "execution_count": null,
      "metadata": {
        "colab": {
          "base_uri": "https://localhost:8080/",
          "height": 38
        },
        "id": "xX2uSmZskqaf",
        "outputId": "3faa8649-fc8c-4acb-fc32-e36a1967f33d"
      },
      "outputs": [
        {
          "output_type": "execute_result",
          "data": {
            "text/plain": [
              "   y                \n",
              "4⋅3 ⋅(2⋅x + 8) + 8⋅y"
            ],
            "text/latex": "$\\displaystyle 4 \\cdot 3^{y} \\left(2 x + 8\\right) + 8 y$"
          },
          "metadata": {},
          "execution_count": 82
        }
      ],
      "source": [
        "# we get a factored version of the expression otherwise\n",
        "(2*x+8)*(3**y)*4+y*8"
      ]
    },
    {
      "cell_type": "markdown",
      "source": [
        "* $ Simpllified $"
      ],
      "metadata": {
        "id": "eTmLv3obUTpI"
      }
    },
    {
      "cell_type": "code",
      "execution_count": null,
      "metadata": {
        "colab": {
          "base_uri": "https://localhost:8080/",
          "height": 39
        },
        "id": "D38ozacvk-VT",
        "outputId": "d1998cbe-8132-4292-826f-1110905328b6"
      },
      "outputs": [
        {
          "output_type": "execute_result",
          "data": {
            "text/plain": [
              "   2                2    \n",
              "- x  + 2⋅x + (x + 1)  - 1"
            ],
            "text/latex": "$\\displaystyle - x^{2} + 2 x + \\left(x + 1\\right)^{2} - 1$"
          },
          "metadata": {},
          "execution_count": 83
        }
      ],
      "source": [
        "#simplify is used to get the computer's version of the simplest form\n",
        "(x + 1)**2-(x**2 - 2*x + 1)"
      ]
    },
    {
      "cell_type": "code",
      "execution_count": null,
      "metadata": {
        "colab": {
          "base_uri": "https://localhost:8080/",
          "height": 38
        },
        "id": "EAhLy4iCm1vk",
        "outputId": "1f56dad0-bbdd-418f-d5ea-80a27d2c3d14"
      },
      "outputs": [
        {
          "output_type": "execute_result",
          "data": {
            "text/plain": [
              "4⋅x"
            ],
            "text/latex": "$\\displaystyle 4 x$"
          },
          "metadata": {},
          "execution_count": 84
        }
      ],
      "source": [
        "#simplest form according to the computer, may not always be most suitable for user\n",
        "smp.simplify((x + 1)**2-(x**2 - 2*x + 1))\n"
      ]
    },
    {
      "cell_type": "markdown",
      "metadata": {
        "id": "o57_KPLJpM85"
      },
      "source": [
        "## Solving Equations"
      ]
    },
    {
      "cell_type": "code",
      "execution_count": null,
      "metadata": {
        "colab": {
          "base_uri": "https://localhost:8080/",
          "height": 37
        },
        "id": "5AaDS_2_pKpU",
        "outputId": "7d4129fc-553c-4fb1-ee39-7ead8c1f9143"
      },
      "outputs": [
        {
          "output_type": "execute_result",
          "data": {
            "text/plain": [
              "[-10]"
            ],
            "text/latex": "$\\displaystyle \\left[ -10\\right]$"
          },
          "metadata": {},
          "execution_count": 85
        }
      ],
      "source": [
        "#how to solve this?\n",
        "smp.solve(x+10)\n",
        "\n",
        "#the equation is considered to be equal to 0 aka, smp.solve(x+10) ----> x+10=0 ----> x = -10"
      ]
    },
    {
      "cell_type": "code",
      "execution_count": null,
      "metadata": {
        "colab": {
          "base_uri": "https://localhost:8080/",
          "height": 47
        },
        "id": "7lsvejxgQlBP",
        "outputId": "563384c6-0869-42d8-ca34-dd44c4b87bfe"
      },
      "outputs": [
        {
          "output_type": "execute_result",
          "data": {
            "text/plain": [
              "[-√2, √2]"
            ],
            "text/latex": "$\\displaystyle \\left[ - \\sqrt{2}, \\  \\sqrt{2}\\right]$"
          },
          "metadata": {},
          "execution_count": 86
        }
      ],
      "source": [
        "smp.solve(x**2 - 2, x)"
      ]
    },
    {
      "cell_type": "code",
      "execution_count": null,
      "metadata": {
        "colab": {
          "base_uri": "https://localhost:8080/",
          "height": 47
        },
        "id": "Wtcl0sGRpuEe",
        "outputId": "a6d45f4c-6653-4e0f-cad1-697b324b5518"
      },
      "outputs": [
        {
          "output_type": "execute_result",
          "data": {
            "text/plain": [
              "{-√2, √2}"
            ],
            "text/latex": "$\\displaystyle \\left\\{- \\sqrt{2}, \\sqrt{2}\\right\\}$"
          },
          "metadata": {},
          "execution_count": 87
        }
      ],
      "source": [
        "# output as a set\n",
        "smp.solveset(x**2 - 2)"
      ]
    },
    {
      "cell_type": "code",
      "execution_count": null,
      "metadata": {
        "colab": {
          "base_uri": "https://localhost:8080/",
          "height": 38
        },
        "id": "DLsn0LOeo1mX",
        "outputId": "1c5d2081-aee5-4900-ff36-37826ed69462"
      },
      "outputs": [
        {
          "output_type": "execute_result",
          "data": {
            "text/plain": [
              "x + 10 = 12"
            ],
            "text/latex": "$\\displaystyle x + 10 = 12$"
          },
          "metadata": {},
          "execution_count": 88
        }
      ],
      "source": [
        "# how do you write an equation having both lhs & rhs\n",
        "# sp.Eq('equation','equated with')\n",
        "\n",
        "smp.Eq(x+10,12)"
      ]
    },
    {
      "cell_type": "code",
      "execution_count": null,
      "metadata": {
        "colab": {
          "base_uri": "https://localhost:8080/",
          "height": 58
        },
        "id": "HDWS6ZRH2JWi",
        "outputId": "a7933fcb-5ec1-45c7-d499-6f4998c50671"
      },
      "outputs": [
        {
          "output_type": "execute_result",
          "data": {
            "text/plain": [
              "[-3, 2, 9/4]"
            ],
            "text/latex": "$\\displaystyle \\left[ -3, \\  2, \\  \\frac{9}{4}\\right]$"
          },
          "metadata": {},
          "execution_count": 89
        }
      ],
      "source": [
        "# So how do we write our equation and solve it as well?\n",
        "\n",
        "eqn = smp.Eq(4*x**3 - 5*x**2 - 33*x,-54)   # stored the equation in our variable, eqn\n",
        "smp.solve(eqn)                     # pass eqn into solve()\n",
        "\n",
        "# (x+3)*(x-2)*(4x-9) = 4*x**3 - 5*x**2 - 33*x + 54 , check for yourself"
      ]
    },
    {
      "cell_type": "code",
      "source": [
        "# same thing as cell above\n",
        "smp.solve(4*x**3 - 5*x**2 - 33*x + 54)"
      ],
      "metadata": {
        "colab": {
          "base_uri": "https://localhost:8080/",
          "height": 58
        },
        "id": "OBuNznM1ObFE",
        "outputId": "458453ca-e968-4dda-ba20-e7e08006d0d6"
      },
      "execution_count": null,
      "outputs": [
        {
          "output_type": "execute_result",
          "data": {
            "text/plain": [
              "[-3, 2, 9/4]"
            ],
            "text/latex": "$\\displaystyle \\left[ -3, \\  2, \\  \\frac{9}{4}\\right]$"
          },
          "metadata": {},
          "execution_count": 90
        }
      ]
    },
    {
      "cell_type": "markdown",
      "metadata": {
        "id": "o5A77IGSNQZS"
      },
      "source": [
        "* if the code throws an error, change the variable name from x to something else\n",
        "* another solution is to add the \"smp.\"/library alias before your functions otherwise importing * may cause inconsistencies\n",
        "* sometimes the library is not properly imported, so errors may occur, in this case rerun the cell where you've imported your library"
      ]
    },
    {
      "cell_type": "markdown",
      "metadata": {
        "id": "H37jCli4skOj"
      },
      "source": [
        "## More examples"
      ]
    },
    {
      "cell_type": "code",
      "execution_count": null,
      "metadata": {
        "colab": {
          "base_uri": "https://localhost:8080/"
        },
        "id": "-T67qAx618oR",
        "outputId": "cb2d6443-004a-40f0-a073-73b9ba34fa08"
      },
      "outputs": [
        {
          "output_type": "stream",
          "name": "stdout",
          "text": [
            "2*sqrt(3)\n",
            "3.14159\n"
          ]
        }
      ],
      "source": [
        "# printing shows a different font\n",
        "print(sqrt(12))\n",
        "print(Float(pi,6))   #changing pi into float form with 6 digits"
      ]
    },
    {
      "cell_type": "code",
      "execution_count": null,
      "metadata": {
        "colab": {
          "base_uri": "https://localhost:8080/"
        },
        "id": "nKhDDTgI2dYV",
        "outputId": "5ede03cb-a1fe-4de7-8328-568a3bcbefde"
      },
      "outputs": [
        {
          "output_type": "stream",
          "name": "stdout",
          "text": [
            "x**2 + x + 1\n",
            "14.0112505600000\n",
            "14.0113\n",
            "a**2 + a + 1\n"
          ]
        }
      ],
      "source": [
        "#x,a = symbols('x a')\n",
        "f = x**2 + x + 1\n",
        "print(f)\n",
        "\n",
        "print(f.subs(x,3.1416))       #substitute a value in place of x\n",
        "print(f.evalf(6, subs={x:3.1416})) #here evalf evaluates the function for given value upto any precision. evalf(precision, subs={symbol:value})\n",
        "\n",
        "\n",
        "h = f.subs(x,a)               #this substitutes another symbol 'a' in place of x\n",
        "print(h)\n"
      ]
    },
    {
      "cell_type": "code",
      "execution_count": null,
      "metadata": {
        "colab": {
          "base_uri": "https://localhost:8080/"
        },
        "id": "Sn0aw9SX3CIU",
        "outputId": "8a49bfae-1e51-4a5f-9976-4d5d7ecc77f8"
      },
      "outputs": [
        {
          "output_type": "stream",
          "name": "stdout",
          "text": [
            "3*cos(3) + tan(3) + sin(3)**2\n",
            "-3.09260917620080\n"
          ]
        }
      ],
      "source": [
        "t = sin(b)**2 + 3*cos(b) + tan(b)        #will throw an error if you use sin from another library\n",
        "print(t.subs(b,3))\n",
        "print((t.subs(b,3)).evalf())\n",
        "\n"
      ]
    },
    {
      "cell_type": "code",
      "execution_count": null,
      "metadata": {
        "id": "m3yjFfRyIa-b",
        "colab": {
          "base_uri": "https://localhost:8080/"
        },
        "outputId": "67e823bc-ff30-493a-802b-a3b15a13b4b9"
      },
      "outputs": [
        {
          "output_type": "stream",
          "name": "stdout",
          "text": [
            "(a - b)*(a + b)\n",
            "a**2 - b**2\n"
          ]
        }
      ],
      "source": [
        "#a,b = symbols('a b')\n",
        "c1= a+b\n",
        "c2= a-b\n",
        "print(c1*c2)\n",
        "print(expand(c1*c2))"
      ]
    },
    {
      "cell_type": "code",
      "execution_count": null,
      "metadata": {
        "id": "9ELWYBEvLSB4",
        "colab": {
          "base_uri": "https://localhost:8080/",
          "height": 38
        },
        "outputId": "18d9746c-d20d-439f-a788-0c8ba0055db6"
      },
      "outputs": [
        {
          "output_type": "execute_result",
          "data": {
            "text/plain": [
              "                  3              \n",
              "sin(3⋅x) = - 4⋅sin (x) + 3⋅sin(x)"
            ],
            "text/latex": "$\\displaystyle \\sin{\\left(3 x \\right)} = - 4 \\sin^{3}{\\left(x \\right)} + 3 \\sin{\\left(x \\right)}$"
          },
          "metadata": {},
          "execution_count": 95
        }
      ],
      "source": [
        "expr1 = sin(3*x)\n",
        "expr2= expand_trig(expr1)\n",
        "Eq(expr1,expr2)"
      ]
    },
    {
      "cell_type": "code",
      "execution_count": null,
      "metadata": {
        "id": "CxVmTE95O4Yb",
        "colab": {
          "base_uri": "https://localhost:8080/",
          "height": 38
        },
        "outputId": "aa981136-3cf4-43fd-ce4b-51b1ba199cfa"
      },
      "outputs": [
        {
          "output_type": "execute_result",
          "data": {
            "text/plain": [
              "(x - 3)⋅(x - 2)"
            ],
            "text/latex": "$\\displaystyle \\left(x - 3\\right) \\left(x - 2\\right)$"
          },
          "metadata": {},
          "execution_count": 96
        }
      ],
      "source": [
        "expr = x**2 - 5*x + 6\n",
        "factor(expr)"
      ]
    },
    {
      "cell_type": "code",
      "execution_count": null,
      "metadata": {
        "id": "d9Ya5vFePVZ7",
        "colab": {
          "base_uri": "https://localhost:8080/"
        },
        "outputId": "6496483b-89c4-418f-a6f2-2eebaac91827"
      },
      "outputs": [
        {
          "output_type": "stream",
          "name": "stdout",
          "text": [
            "pi/2\n",
            "1\n"
          ]
        }
      ],
      "source": [
        "print(asin(1))    #arcsin\n",
        "print(sin(pi/2))\n",
        "\n",
        "# sin 0 = 0, sin pi/3 = √3/2, sin pi/2 = 1, sin pi = 0"
      ]
    },
    {
      "cell_type": "code",
      "execution_count": null,
      "metadata": {
        "id": "BtPXho6qKoXo",
        "colab": {
          "base_uri": "https://localhost:8080/"
        },
        "outputId": "619ed524-c4db-469c-e72c-b1c4941bc559"
      },
      "outputs": [
        {
          "name": "stdout",
          "output_type": "stream",
          "text": [
            "[-5 -4 -3 -2 -1  0  1  2  3  4  5]\n",
            "x*9\n"
          ]
        },
        {
          "output_type": "execute_result",
          "data": {
            "text/plain": [
              "array([-45, -36, -27, -18,  -9,   0,   9,  18,  27,  36,  45])"
            ]
          },
          "metadata": {},
          "execution_count": 98
        }
      ],
      "source": [
        "import numpy as np\n",
        "a = np.arange(-5,6)    # [-5 -4 -3 -2 -1 0 1 2 3 4 5]\n",
        "print(a)\n",
        "expression = input()\n",
        "\n",
        "\n",
        "f = lambdify(x, expression, \"numpy\")\n",
        "f(a)\n",
        "\n",
        "\n",
        "# lambdify turns f into a 'callable' function\n",
        "# expressions are always stored in variables, but using lambdify, allows us to turn them into numerical expressions\n",
        "# thus we can print/output f(x) instead of f"
      ]
    },
    {
      "cell_type": "markdown",
      "metadata": {
        "id": "p36T41p8rtZO"
      },
      "source": [
        "Solve $ x^2 + x - 6 =0 $"
      ]
    },
    {
      "cell_type": "code",
      "execution_count": null,
      "metadata": {
        "id": "5yhP8y4WrqT2",
        "colab": {
          "base_uri": "https://localhost:8080/",
          "height": 37
        },
        "outputId": "0d5bcc36-e6ec-460d-ac89-aec78f0566da"
      },
      "outputs": [
        {
          "output_type": "execute_result",
          "data": {
            "text/plain": [
              "[-3, 2]"
            ],
            "text/latex": "$\\displaystyle \\left[ -3, \\  2\\right]$"
          },
          "metadata": {},
          "execution_count": 99
        }
      ],
      "source": [
        "solve(x**2+x-6, x)"
      ]
    },
    {
      "cell_type": "markdown",
      "metadata": {
        "id": "TifMcbugr7Ne"
      },
      "source": [
        "Solve $ sin(x) + sin(2x) = 1$"
      ]
    },
    {
      "cell_type": "code",
      "execution_count": null,
      "metadata": {
        "id": "q2MemovMLdRl",
        "colab": {
          "base_uri": "https://localhost:8080/",
          "height": 38
        },
        "outputId": "51413620-cce8-4e6b-f280-d81b9d5d39b9"
      },
      "outputs": [
        {
          "output_type": "execute_result",
          "data": {
            "text/plain": [
              "[0, π]"
            ],
            "text/latex": "$\\displaystyle \\left[ 0, \\  \\pi\\right]$"
          },
          "metadata": {},
          "execution_count": 100
        }
      ],
      "source": [
        "x = smp.symbols('x')\n",
        "smp.solve( smp.sin(x), x )\n"
      ]
    },
    {
      "cell_type": "code",
      "execution_count": null,
      "metadata": {
        "id": "Lc3-xyvzLdRm",
        "colab": {
          "base_uri": "https://localhost:8080/",
          "height": 58
        },
        "outputId": "21617c99-a167-4131-e3f9-cb8479172758"
      },
      "outputs": [
        {
          "output_type": "execute_result",
          "data": {
            "text/plain": [
              "                                        ⎧        4⋅π │      ⎫   ⎧        2⋅π │\n",
              "{2⋅n⋅π │ n ∊ ℤ} ∪ {2⋅n⋅π + π │ n ∊ ℤ} ∪ ⎨2⋅n⋅π + ─── │ n ∊ ℤ⎬ ∪ ⎨2⋅n⋅π + ─── │\n",
              "                                        ⎩         3  │      ⎭   ⎩         3  │\n",
              "\n",
              "      ⎫\n",
              " n ∊ ℤ⎬\n",
              "      ⎭"
            ],
            "text/latex": "$\\displaystyle \\left\\{2 n \\pi\\; \\middle|\\; n \\in \\mathbb{Z}\\right\\} \\cup \\left\\{2 n \\pi + \\pi\\; \\middle|\\; n \\in \\mathbb{Z}\\right\\} \\cup \\left\\{2 n \\pi + \\frac{4 \\pi}{3}\\; \\middle|\\; n \\in \\mathbb{Z}\\right\\} \\cup \\left\\{2 n \\pi + \\frac{2 \\pi}{3}\\; \\middle|\\; n \\in \\mathbb{Z}\\right\\}$"
          },
          "metadata": {},
          "execution_count": 101
        }
      ],
      "source": [
        "smp.solveset(smp.sin(x)+smp.sin(2*x),x)    #try with sin(x) in a range of 0 to 2*pi, draw the curve and try to understand what solutions you are obtaining"
      ]
    },
    {
      "cell_type": "markdown",
      "metadata": {
        "id": "gpcz5AmvsF8G"
      },
      "source": [
        "Solveset gives us entire family of solution. If a range is given, we can also solve this as following"
      ]
    },
    {
      "cell_type": "code",
      "execution_count": null,
      "metadata": {
        "id": "3iV0fQtysTDu",
        "colab": {
          "base_uri": "https://localhost:8080/",
          "height": 38
        },
        "outputId": "631ab9d2-a20d-417b-88ec-19d57b517338"
      },
      "outputs": [
        {
          "output_type": "execute_result",
          "data": {
            "text/plain": [
              "{0, -2⋅π, -π, π, 2⋅π}"
            ],
            "text/latex": "$\\displaystyle \\left\\{0, - 2 \\pi, - \\pi, \\pi, 2 \\pi\\right\\}$"
          },
          "metadata": {},
          "execution_count": 102
        }
      ],
      "source": [
        "i = Interval(-2*pi, 2*pi)   #Interval(start,stop)\n",
        "smp.solveset(smp.sin(x),x,i)\n",
        "\n",
        "#solved for the interval defined in i"
      ]
    },
    {
      "cell_type": "markdown",
      "metadata": {
        "id": "_dLoBJAassKP"
      },
      "source": [
        "We want real roots for $t^3-1=0$"
      ]
    },
    {
      "cell_type": "code",
      "source": [
        "from sympy import *"
      ],
      "metadata": {
        "id": "LCzXxL5adXMb"
      },
      "execution_count": null,
      "outputs": []
    },
    {
      "cell_type": "code",
      "execution_count": null,
      "metadata": {
        "id": "MjCHaRZis0O-",
        "colab": {
          "base_uri": "https://localhost:8080/"
        },
        "outputId": "ebcd8174-1c78-4e20-8ec2-6a64989aff91"
      },
      "outputs": [
        {
          "output_type": "stream",
          "name": "stdout",
          "text": [
            "[-1, 1/2 - sqrt(3)*I/2, 1/2 + sqrt(3)*I/2]\n"
          ]
        }
      ],
      "source": [
        "# try finding both real and unreal roots of t**3 = -1\n",
        "t = symbols('t')\n",
        "print(solve(t**3+1, t))\n",
        "\n",
        "# real=True, roots = -1\n",
        "# real=False, roots are complex"
      ]
    },
    {
      "cell_type": "code",
      "execution_count": null,
      "metadata": {
        "id": "sGVjYcmirFk3",
        "colab": {
          "base_uri": "https://localhost:8080/",
          "height": 68
        },
        "outputId": "60702da9-4e7a-4f6a-e9e4-6bd8da73a24a"
      },
      "outputs": [
        {
          "output_type": "display_data",
          "data": {
            "text/plain": [
              "⎡     1   √13    √13   1⎤\n",
              "⎢1, - ─ + ───, - ─── - ─⎥\n",
              "⎣     2    2      2    2⎦"
            ],
            "text/latex": "$\\displaystyle \\left[ 1, \\  - \\frac{1}{2} + \\frac{\\sqrt{13}}{2}, \\  - \\frac{\\sqrt{13}}{2} - \\frac{1}{2}\\right]$"
          },
          "metadata": {}
        }
      ],
      "source": [
        "x, y , z = symbols('x y z')\n",
        "f= x**3 - 4*x + 3\n",
        "\n",
        "display(solve(f))\n",
        "#\"display\" allows a nicer font as compared to \"print\""
      ]
    },
    {
      "cell_type": "markdown",
      "metadata": {
        "id": "9t-IV9-R2PO9"
      },
      "source": [
        "## Some plotting examples in sympy"
      ]
    },
    {
      "cell_type": "code",
      "execution_count": null,
      "metadata": {
        "id": "F3HJhdIzQrti",
        "colab": {
          "base_uri": "https://localhost:8080/",
          "height": 505
        },
        "outputId": "3d2f2566-74a8-4a05-cfa3-69d7737719cf"
      },
      "outputs": [
        {
          "output_type": "display_data",
          "data": {
            "text/plain": [
              "<Figure size 640x480 with 1 Axes>"
            ],
            "image/png": "[encoded data removed]"
          },
          "metadata": {}
        },
        {
          "output_type": "execute_result",
          "data": {
            "text/plain": [
              "<sympy.plotting.plot.Plot at 0x787ebdd59900>"
            ]
          },
          "metadata": {},
          "execution_count": 106
        }
      ],
      "source": [
        "smp.plot(smp.tanh(x))\n",
        "#automatically assumes equal amount of x values in both positive and negative axes"
      ]
    },
    {
      "cell_type": "code",
      "execution_count": null,
      "metadata": {
        "id": "Psz-r52ITUc8",
        "colab": {
          "base_uri": "https://localhost:8080/",
          "height": 505
        },
        "outputId": "6f3aa93f-dc3d-4fd8-84ed-aaf71518c3da"
      },
      "outputs": [
        {
          "output_type": "display_data",
          "data": {
            "text/plain": [
              "<Figure size 640x480 with 1 Axes>"
            ],
            "image/png": "[encoded data removed]"
          },
          "metadata": {}
        },
        {
          "output_type": "execute_result",
          "data": {
            "text/plain": [
              "<sympy.plotting.plot.Plot at 0x787ebd33f430>"
            ]
          },
          "metadata": {},
          "execution_count": 107
        }
      ],
      "source": [
        "smp.plot( smp.sin(x), smp.cos(x), (x, -smp.pi, smp.pi), legend=True)\n",
        "\n",
        "# adding \"legend=True\" shows the labelled box in the top right\n",
        "# multiple graphs are plotted at once, over a range of -pi =< x =< pi\n",
        "\n",
        "\n",
        "\n",
        "# We may also write : plot( (sin(x),(x, -pi, pi)),(cos(x), (x, -pi, pi))) to plot the very same graph"
      ]
    },
    {
      "cell_type": "code",
      "source": [
        "from sympy import *\n",
        "x=symbols('x')\n",
        "F=sin(x)*cos(x)\n",
        "solve( diff ( sin(x)*cos(x)  , x ), x )"
      ],
      "metadata": {
        "colab": {
          "base_uri": "https://localhost:8080/",
          "height": 48
        },
        "id": "wePYDkw-BLRz",
        "outputId": "b3ba1e30-90d0-4638-84ff-561578519bf7"
      },
      "execution_count": null,
      "outputs": [
        {
          "output_type": "execute_result",
          "data": {
            "text/plain": [
              "⎡-π   π⎤\n",
              "⎢───, ─⎥\n",
              "⎣ 4   4⎦"
            ],
            "text/latex": "$\\displaystyle \\left[ - \\frac{\\pi}{4}, \\  \\frac{\\pi}{4}\\right]$"
          },
          "metadata": {},
          "execution_count": 129
        }
      ]
    },
    {
      "cell_type": "code",
      "source": [],
      "metadata": {
        "id": "TZY5kzX1Dtmz"
      },
      "execution_count": null,
      "outputs": []
    }
  ],
  "metadata": {
    "colab": {
      "provenance": []
    },
    "kernelspec": {
      "display_name": "Python 3",
      "name": "python3"
    },
    "language_info": {
      "name": "python"
    }
  },
  "nbformat": 4,
  "nbformat_minor": 0
}