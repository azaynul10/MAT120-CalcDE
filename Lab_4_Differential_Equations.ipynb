{
  "nbformat": 4,
  "nbformat_minor": 0,
  "metadata": {
    "colab": {
      "provenance": []
    },
    "kernelspec": {
      "name": "python3",
      "display_name": "Python 3"
    },
    "language_info": {
      "name": "python"
    }
  },
  "cells": [
    {
      "cell_type": "markdown",
      "source": [
        "##What are differential equations?\n",
        ">It is an equation consisting of a function as well as one or more of its derivatives. The applications are relevant in the field of Physics\n",
        "\n",
        "## How do we solve it?\n",
        "> The solution is to find the function or the set of functions either numerically or through python libraries"
      ],
      "metadata": {
        "id": "Lvz06yfacjyH"
      }
    },
    {
      "cell_type": "markdown",
      "source": [
        "* The order of the differential equation = to the highest order of the derivative in the equation\n",
        "* A differential equaion may appear in these forms:"
      ],
      "metadata": {
        "id": "NSaf7esUz_Xm"
      }
    },
    {
      "cell_type": "markdown",
      "source": [
        "![diff.JPG](data:image/jpeg;base64,/9j/4AAQSkZJRgABAQEAeAB4AAD/4RDaRXhpZgAATU0AKgAAAAgABAE7AAIAAAAFAAAISodpAAQAAAABAAAIUJydAAEAAAAKAAAQyOocAAcAAAgMAAAAPgAAAAAc6gAAAAgAAAAAAAAAAAAAAAAAAAAAAAAAAAAAAAAAAAAAAAAAAAAAAAAAAAAAAAAAAAAAAAAAAAAAAAAAAAAAAAAAAAAAAAAAAAAAAAAAAAAAAAAAAAAAAAAAAAAAAAAAAAAAAAAAAAAAAAAAAAAAAAAAAAAAAAAAAAAAAAAAAAAAAAAAAAAAAAAAAAAAAAAAAAAAAAAAAAAAAAAAAAAAAAAAAAAAAAAAAAAAAAAAAAAAAAAAAAAAAAAAAAAAAAAAAAAAAAAAAAAAAAAAAAAAAAAAAAAAAAAAAAAAAAAAAAAAAAAAAAAAAAAAAAAAAAAAAAAAAAAAAAAAAAAAAAAAAAAAAAAAAAAAAAAAAAAAAAAAAAAAAAAAAAAAAAAAAAAAAAAAAAAAAAAAAAAAAAAAAAAAAAAAAAAAAAAAAAAAAAAAAAAAAAAAAAAAAAAAAAAAAAAAAAAAAAAAAAAAAAAAAAAAAAAAAAAAAAAAAAAAAAAAAAAAAAAAAAAAAAAAAAAAAAAAAAAAAAAAAAAAAAAAAAAAAAAAAAAAAAAAAAAAAAAAAAAAAAAAAAAAAAAAAAAAAAAAAAAAAAAAAAAAAAAAAAAAAAAAAAAAAAAAAAAAAAAAAAAAAAAAAAAAAAAAAAAAAAAAAAAAAAAAAAAAAAAAAAAAAAAAAAAAAAAAAAAAAAAAAAAAAAAAAAAAAAAAAAAAAAAAAAAAAAAAAAAAAAAAAAAAAAAAAAAAAAAAAAAAAAAAAAAAAAAAAAAAAAAAAAAAAAAAAAAAAAAAAAAAAAAAAAAAAAAAAAAAAAAAAAAAAAAAAAAAAAAAAAAAAAAAAAAAAAAAAAAAAAAAAAAAAAAAAAAAAAAAAAAAAAAAAAAAAAAAAAAAAAAAAAAAAAAAAAAAAAAAAAAAAAAAAAAAAAAAAAAAAAAAAAAAAAAAAAAAAAAAAAAAAAAAAAAAAAAAAAAAAAAAAAAAAAAAAAAAAAAAAAAAAAAAAAAAAAAAAAAAAAAAAAAAAAAAAAAAAAAAAAAAAAAAAAAAAAAAAAAAAAAAAAAAAAAAAAAAAAAAAAAAAAAAAAAAAAAAAAAAAAAAAAAAAAAAAAAAAAAAAAAAAAAAAAAAAAAAAAAAAAAAAAAAAAAAAAAAAAAAAAAAAAAAAAAAAAAAAAAAAAAAAAAAAAAAAAAAAAAAAAAAAAAAAAAAAAAAAAAAAAAAAAAAAAAAAAAAAAAAAAAAAAAAAAAAAAAAAAAAAAAAAAAAAAAAAAAAAAAAAAAAAAAAAAAAAAAAAAAAAAAAAAAAAAAAAAAAAAAAAAAAAAAAAAAAAAAAAAAAAAAAAAAAAAAAAAAAAAAAAAAAAAAAAAAAAAAAAAAAAAAAAAAAAAAAAAAAAAAAAAAAAAAAAAAAAAAAAAAAAAAAAAAAAAAAAAAAAAAAAAAAAAAAAAAAAAAAAAAAAAAAAAAAAAAAAAAAAAAAAAAAAAAAAAAAAAAAAAAAAAAAAAAAAAAAAAAAAAAAAAAAAAAAAAAAAAAAAAAAAAAAAAAAAAAAAAAAAAAAAAAAAAAAAAAAAAAAAAAAAAAAAAAAAAAAAAAAAAAAAAAAAAAAAAAAAAAAAAAAAAAAAAAAAAAAAAAAAAAAAAAAAAAAAAAAAAAAAAAAAAAAAAAAAAAAAAAAAAAAAAAAAAAAAAAAAAAAAAAAAAAAAAAAAAAAAAAAAAAAAAAAAAAAAAAAAAAAAAAAAAAAAAAAAAAAAAAAAAAAAAAAAAAAAAAAAAAAAAAAAAAAAAAAAAAAAAAAAAAAAAAAAAAAAAAAAAAAAAAAAAAAAAAAAAAAAAAAAAAAAAAAAAAAAAAAAAAAAAAAAAAAAAAAAAAAAAAAAAAAAAAAAAAAAAAAAAAAAAAAAAAAAAAAAAAAAAAAAAAAAAAAAAAAAAAAAAAAAAAAAAAAAAAAAAAAAAAAAAAAAAAAAAAAAAAAAAAAAAAAAAAAAAAAAAAAAAAAAAAAAAAAAAAAAAAAAAAAAAAAAAAAAAAAAAAAAAAAAAAAAAAAAAAAAAAAAAAAAAAAAAAAAAAAAAAAAAAAAAAAAAAAAAAAAAAAAAAAAAAAAAAAAAAAAAAAAAAAAAAAAAAAAAAAAAAAAAAAAAAAAAAAAAAAAAAAAAAAAAAAAAAAAAAAAAAAAAAAAAAAAAAAAAAAAAAAAAAAAAAAAAAAAAAAAAAAAAAAAAAAAAAAAAAAAAAAAAAAAAAAAAAAAAAAAAAAAAAAAAAAAAAAAAAAAAAAAAAAAAAAAAAAAAAAAAAAAAAAAAAAAAAAAAAAAAAAAAAAAAAAAAAAAAAAAAAAAAAAAAAAAAAAAAAAAAAAAAAAAAAAAAAAAAAAAAAAAAAAAAAAAAAAAAAAAAAAAAAAAAAAAAAAAAAAAAAAAAAAAAAAAAAAAAAAAAAAAAAAAAAAAAAAAAAAAAAAAAAAAAAAAAAAAAAAAAAAAAAAAAAAAAAAAAAAAAAAAAAAAAAAAAAAAAAAAAAAAAAAAAAAAAAAAAAAAAAAAAAAAAAAAAAAAAAAAAAAAAAAAAAAAAAAAAAAAAAAAAAAAAAAAAAAAAAAAAAAAAAAAAAAAAAAAAAAAAAAAAAAAAAAAAAAAAAAAAAAAAAAAAAAAAAAAAAAAAAAAAAAAAAAAAAAAAAAAAAAAAAAAAAAAAAAAAAAAAAAAAAAAAAAAAAAAAAAAAAAAAAAAAAAAAAAAAAAAAAAAAAAAAAAAAAAAAAAAAAAAAAAAAAAAAAAAFVzZXIAAAAFkAMAAgAAABQAABCekAQAAgAAABQAABCykpEAAgAAAAM3NgAAkpIAAgAAAAM3NgAA6hwABwAACAwAAAiSAAAAABzqAAAACAAAAAAAAAAAAAAAAAAAAAAAAAAAAAAAAAAAAAAAAAAAAAAAAAAAAAAAAAAAAAAAAAAAAAAAAAAAAAAAAAAAAAAAAAAAAAAAAAAAAAAAAAAAAAAAAAAAAAAAAAAAAAAAAAAAAAAAAAAAAAAAAAAAAAAAAAAAAAAAAAAAAAAAAAAAAAAAAAAAAAAAAAAAAAAAAAAAAAAAAAAAAAAAAAAAAAAAAAAAAAAAAAAAAAAAAAAAAAAAAAAAAAAAAAAAAAAAAAAAAAAAAAAAAAAAAAAAAAAAAAAAAAAAAAAAAAAAAAAAAAAAAAAAAAAAAAAAAAAAAAAAAAAAAAAAAAAAAAAAAAAAAAAAAAAAAAAAAAAAAAAAAAAAAAAAAAAAAAAAAAAAAAAAAAAAAAAAAAAAAAAAAAAAAAAAAAAAAAAAAAAAAAAAAAAAAAAAAAAAAAAAAAAAAAAAAAAAAAAAAAAAAAAAAAAAAAAAAAAAAAAAAAAAAAAAAAAAAAAAAAAAAAAAAAAAAAAAAAAAAAAAAAAAAAAAAAAAAAAAAAAAAAAAAAAAAAAAAAAAAAAAAAAAAAAAAAAAAAAAAAAAAAAAAAAAAAAAAAAAAAAAAAAAAAAAAAAAAAAAAAAAAAAAAAAAAAAAAAAAAAAAAAAAAAAAAAAAAAAAAAAAAAAAAAAAAAAAAAAAAAAAAAAAAAAAAAAAAAAAAAAAAAAAAAAAAAAAAAAAAAAAAAAAAAAAAAAAAAAAAAAAAAAAAAAAAAAAAAAAAAAAAAAAAAAAAAAAAAAAAAAAAAAAAAAAAAAAAAAAAAAAAAAAAAAAAAAAAAAAAAAAAAAAAAAAAAAAAAAAAAAAAAAAAAAAAAAAAAAAAAAAAAAAAAAAAAAAAAAAAAAAAAAAAAAAAAAAAAAAAAAAAAAAAAAAAAAAAAAAAAAAAAAAAAAAAAAAAAAAAAAAAAAAAAAAAAAAAAAAAAAAAAAAAAAAAAAAAAAAAAAAAAAAAAAAAAAAAAAAAAAAAAAAAAAAAAAAAAAAAAAAAAAAAAAAAAAAAAAAAAAAAAAAAAAAAAAAAAAAAAAAAAAAAAAAAAAAAAAAAAAAAAAAAAAAAAAAAAAAAAAAAAAAAAAAAAAAAAAAAAAAAAAAAAAAAAAAAAAAAAAAAAAAAAAAAAAAAAAAAAAAAAAAAAAAAAAAAAAAAAAAAAAAAAAAAAAAAAAAAAAAAAAAAAAAAAAAAAAAAAAAAAAAAAAAAAAAAAAAAAAAAAAAAAAAAAAAAAAAAAAAAAAAAAAAAAAAAAAAAAAAAAAAAAAAAAAAAAAAAAAAAAAAAAAAAAAAAAAAAAAAAAAAAAAAAAAAAAAAAAAAAAAAAAAAAAAAAAAAAAAAAAAAAAAAAAAAAAAAAAAAAAAAAAAAAAAAAAAAAAAAAAAAAAAAAAAAAAAAAAAAAAAAAAAAAAAAAAAAAAAAAAAAAAAAAAAAAAAAAAAAAAAAAAAAAAAAAAAAAAAAAAAAAAAAAAAAAAAAAAAAAAAAAAAAAAAAAAAAAAAAAAAAAAAAAAAAAAAAAAAAAAAAAAAAAAAAAAAAAAAAAAAAAAAAAAAAAAAAAAAAAAAAAAAAAAAAAAAAAAAAAAAAAAAAAAAAAAAAAAAAAAAAAAAAAAAAAAAAAAAAAAAAAAAAAAAAAAAAAAAAAAAAAAAAAAAAAAAAAAAAAAAAAAAAAAAAAAAAAAAAAAAAAAAAAAAAAAAAAAAAAAAAAAAAAAAAAAAAAAAAAAAAAAAAAAAAAAAAAAAAAAAAAAAAAAAAAAAAAAAAAAAAAAAAAAAAAAAAAAAAAAAAAAAAAAAAAAAAAAAAAAAAAAAAAAAAAAAAAAAAAAAAAAAAAAAAAAAAAAAAAAAAAAAAAAAAAAAAAAAAAAAAAAAAAAAAAAAAAAAAAAAAAAAAAAAAAAAAAAAAAAAAAAAAAAAAAAAAAAAAAAAAAAAAAAAAAAAAAAAAAAAAAAAAAAAAAAAAAAAAAAAAAAAAAAAAAAAAAAAAAAAAAAAAAAAAAAAAAAAAAAAAAAAAAAAAAAAAAAAAAAAAAAAAAAAAAAAAAAAAAAAAAAAAAAAAAAAAAAAAAAAAAAAAAAAAAAAAAAAAAAAAAAAAAAAAAAAAAAAAAAAAAAAAAAAAAAAAAAAAAAAAAAAAAAAAAAAAAAAAAAAAAAAAAAAAAAAAAAAAAAAAAAAAAAAAAAAAAAAAAAAAAAAAAAAAAAAAAAAAAAAAAAAAAAAAAAAAAAAAAAAAAAAAAAAAAAAAAAAAAAAAAAAAAAAAAAAAAAAAAAAAAAAAAAAAAAAAAAAAAAAAAAAAAAAAAAAAAAAAAAAAAAAAAAAAAAAAAAAAAAAAAAAAAAAAAAAAAAAAAAAAAAAAAAAAAAAAAAAAAAAAAAAAAAAAAAAAAAAAAAAAAAAAAAAAAAAAAAAAAAAAAAAAAAAAAAAAAAAAAAAAAAAAAAAAAAAAAAAAAAAAAAAAAAAAAAAAAAAAAAAAAAAAAAAAAAAAAAAAAAAAAAAAAAAAAAAAAAAAAAAAAAAAAAAAAAAAAAAAAAAAAAAAAAAAAAAAAAAAAAAAAAAAAAAAAAAAAAAAAAAAAAAAAAAAAAAAAAAAAAAAAAAAAAAAAAAAAAAAAAAAAAAAAAAAAAAAAAAAAAAAAAAAAAAAAAAAAAAAAAAAAAAAAAAAAAAAAAAAAAAAAAAAAAAAAAAAAAAAAAAAAAAAAAAAAAAAAAAAAAAAAAAAAAAAAAAAMjAyMzoxMToxMyAxOTowODowMAAyMDIzOjExOjEzIDE5OjA4OjAwAAAAVQBzAGUAcgAAAP/hCxdodHRwOi8vbnMuYWRvYmUuY29tL3hhcC8xLjAvADw/eHBhY2tldCBiZWdpbj0n77u/JyBpZD0nVzVNME1wQ2VoaUh6cmVTek5UY3prYzlkJz8+DQo8eDp4bXBtZXRhIHhtbG5zOng9ImFkb2JlOm5zOm1ldGEvIj48cmRmOlJERiB4bWxuczpyZGY9Imh0dHA6Ly93d3cudzMub3JnLzE5OTkvMDIvMjItcmRmLXN5bnRheC1ucyMiPjxyZGY6RGVzY3JpcHRpb24gcmRmOmFib3V0PSJ1dWlkOmZhZjViZGQ1LWJhM2QtMTFkYS1hZDMxLWQzM2Q3NTE4MmYxYiIgeG1sbnM6ZGM9Imh0dHA6Ly9wdXJsLm9yZy9kYy9lbGVtZW50cy8xLjEvIi8+PHJkZjpEZXNjcmlwdGlvbiByZGY6YWJvdXQ9InV1aWQ6ZmFmNWJkZDUtYmEzZC0xMWRhLWFkMzEtZDMzZDc1MTgyZjFiIiB4bWxuczp4bXA9Imh0dHA6Ly9ucy5hZG9iZS5jb20veGFwLzEuMC8iPjx4bXA6Q3JlYXRlRGF0ZT4yMDIzLTExLTEzVDE5OjA4OjAwLjc1OTwveG1wOkNyZWF0ZURhdGU+PC9yZGY6RGVzY3JpcHRpb24+PHJkZjpEZXNjcmlwdGlvbiByZGY6YWJvdXQ9InV1aWQ6ZmFmNWJkZDUtYmEzZC0xMWRhLWFkMzEtZDMzZDc1MTgyZjFiIiB4bWxuczpkYz0iaHR0cDovL3B1cmwub3JnL2RjL2VsZW1lbnRzLzEuMS8iPjxkYzpjcmVhdG9yPjxyZGY6U2VxIHhtbG5zOnJkZj0iaHR0cDovL3d3dy53My5vcmcvMTk5OS8wMi8yMi1yZGYtc3ludGF4LW5zIyI+PHJkZjpsaT5Vc2VyPC9yZGY6bGk+PC9yZGY6U2VxPg0KCQkJPC9kYzpjcmVhdG9yPjwvcmRmOkRlc2NyaXB0aW9uPjwvcmRmOlJERj48L3g6eG1wbWV0YT4NCiAgICAgICAgICAgICAgICAgICAgICAgICAgICAgICAgICAgICAgICAgICAgICAgICAgICAgICAgICAgICAgICAgICAgICAgICAgICAgICAgICAgICAgICAgICAgICAgICAgICAKICAgICAgICAgICAgICAgICAgICAgICAgICAgICAgICAgICAgICAgICAgICAgICAgICAgICAgICAgICAgICAgICAgICAgICAgICAgICAgICAgICAgICAgICAgICAgICAgICAgIAogICAgICAgICAgICAgICAgICAgICAgICAgICAgICAgICAgICAgICAgICAgICAgICAgICAgICAgICAgICAgICAgICAgICAgICAgICAgICAgICAgICAgICAgICAgICAgICAgICAgCiAgICAgICAgICAgICAgICAgICAgICAgICAgICAgICAgICAgICAgICAgICAgICAgICAgICAgICAgICAgICAgICAgICAgICAgICAgICAgICAgICAgICAgICAgICAgICAgICAgICAKICAgICAgICAgICAgICAgICAgICAgICAgICAgICAgICAgICAgICAgICAgICAgICAgICAgICAgICAgICAgICAgICAgICAgICAgICAgICAgICAgICAgICAgICAgICAgICAgICAgIAogICAgICAgICAgICAgICAgICAgICAgICAgICAgICAgICAgICAgICAgICAgICAgICAgICAgICAgICAgICAgICAgICAgICAgICAgICAgICAgICAgICAgICAgICAgICAgICAgICAgCiAgICAgICAgICAgICAgICAgICAgICAgICAgICAgICAgICAgICAgICAgICAgICAgICAgICAgICAgICAgICAgICAgICAgICAgICAgICAgICAgICAgICAgICAgICAgICAgICAgICAKICAgICAgICAgICAgICAgICAgICAgICAgICAgICAgICAgICAgICAgICAgICAgICAgICAgICAgICAgICAgICAgICAgICAgICAgICAgICAgICAgICAgICAgICAgICAgICAgICAgIAogICAgICAgICAgICAgICAgICAgICAgICAgICAgICAgICAgICAgICAgICAgICAgICAgICAgICAgICAgICAgICAgICAgICAgICAgICAgICAgICAgICAgICAgICAgICAgICAgICAgCiAgICAgICAgICAgICAgICAgICAgICAgICAgICAgICAgICAgICAgICAgICAgICAgICAgICAgICAgICAgICAgICAgICAgICAgICAgICAgICAgICAgICAgICAgICAgICAgICAgICAKICAgICAgICAgICAgICAgICAgICAgICAgICAgICAgICAgICAgICAgICAgICAgICAgICAgICAgICAgICAgICAgICAgICAgICAgICAgICAgICAgICAgICAgICAgICAgICAgICAgIAogICAgICAgICAgICAgICAgICAgICAgICAgICAgICAgICAgICAgICAgICAgICAgICAgICAgICAgICAgICAgICAgICAgICAgICAgICAgICAgICAgICAgICAgICAgICAgICAgICAgCiAgICAgICAgICAgICAgICAgICAgICAgICAgICAgICAgICAgICAgICAgICAgICAgICAgICAgICAgICAgICAgICAgICAgICAgICAgICAgICAgICAgICAgICAgICAgICAgICAgICAKICAgICAgICAgICAgICAgICAgICAgICAgICAgICAgICAgICAgICAgICAgICAgICAgICAgICAgICAgICAgICAgICAgICAgICAgICAgICAgICAgICAgICAgICAgICAgICAgICAgIAogICAgICAgICAgICAgICAgICAgICAgICAgICAgICAgICAgICAgICAgICAgICAgICAgICAgICAgICAgICAgICAgICAgICAgICAgICAgICAgICAgICAgICAgICAgICAgICAgICAgCiAgICAgICAgICAgICAgICAgICAgICAgICAgICAgICAgICAgICAgICAgICAgICAgICAgICAgICAgICAgICAgICAgICAgICAgICAgICAgICAgICAgICAgICAgICAgICAgICAgICAKICAgICAgICAgICAgICAgICAgICAgICAgICAgICAgICAgICAgICAgICAgICAgICAgICAgICAgICAgICAgICAgICAgICAgICAgICAgICAgICAgICAgICAgICAgICAgICAgICAgIAogICAgICAgICAgICAgICAgICAgICAgICAgICAgICAgICAgICAgICAgICAgICAgICAgICAgICAgICAgICAgICAgICAgICAgICAgICAgICAgICAgICAgICAgICAgICAgICAgICAgCiAgICAgICAgICAgICAgICAgICAgICAgICAgICAgICAgICAgICAgICAgICAgICAgICAgICAgICAgICAgICAgICAgICAgICAgICAgICAgICAgICAgICAgICAgICAgICAgICAgICAKICAgICAgICAgICAgICAgICAgICAgICAgICAgICAgICAgICAgICAgICAgICAgICAgICAgICAgICAgICAgICAgICAgICAgICAgICAgICAgICAgICAgICAgICAgICAgICAgICAgIAogICAgICAgICAgICAgICAgICAgICAgICAgICAgPD94cGFja2V0IGVuZD0ndyc/Pv/bAEMABwUFBgUEBwYFBggHBwgKEQsKCQkKFQ8QDBEYFRoZGBUYFxseJyEbHSUdFxgiLiIlKCkrLCsaIC8zLyoyJyorKv/bAEMBBwgICgkKFAsLFCocGBwqKioqKioqKioqKioqKioqKioqKioqKioqKioqKioqKioqKioqKioqKioqKioqKioqKv/AABEIARUBZAMBIgACEQEDEQH/xAAfAAABBQEBAQEBAQAAAAAAAAAAAQIDBAUGBwgJCgv/xAC1EAACAQMDAgQDBQUEBAAAAX0BAgMABBEFEiExQQYTUWEHInEUMoGRoQgjQrHBFVLR8CQzYnKCCQoWFxgZGiUmJygpKjQ1Njc4OTpDREVGR0hJSlNUVVZXWFlaY2RlZmdoaWpzdHV2d3h5eoOEhYaHiImKkpOUlZaXmJmaoqOkpaanqKmqsrO0tba3uLm6wsPExcbHyMnK0tPU1dbX2Nna4eLj5OXm5+jp6vHy8/T19vf4+fr/xAAfAQADAQEBAQEBAQEBAAAAAAAAAQIDBAUGBwgJCgv/xAC1EQACAQIEBAMEBwUEBAABAncAAQIDEQQFITEGEkFRB2FxEyIygQgUQpGhscEJIzNS8BVictEKFiQ04SXxFxgZGiYnKCkqNTY3ODk6Q0RFRkdISUpTVFVWV1hZWmNkZWZnaGlqc3R1dnd4eXqCg4SFhoeIiYqSk5SVlpeYmZqio6Slpqeoqaqys7S1tre4ubrCw8TFxsfIycrS09TV1tfY2dri4+Tl5ufo6ery8/T19vf4+fr/2gAMAwEAAhEDEQA/APnKiiigAooooAnkvbqS3WB7iRol6IXJUfhUHXrRRTuVKTluwooopEjt77cZ49KbRRQNtvcKKKKBBRRRQAtJRRQAUUUUAFFFFABRRRQAUUUUAFFFFABRRRQAUUUUAFFFFABRRRQAUUUUAFFFFABRRRQAUUUUAFFFFABRRRQAUUUUAFFFFABRRRQAUUUUAFFFFABRRRQAUV12heG7PVNFs3uN0TSTXUssy9VhhiDYA6feIH41yNZwqxm2l0KcWlqFFFFaEhRRRQAUUUUAFFFdB4NtYpNba8ukV7bToJLyVWGQdg+UH6sVFRUmqcXJjiuZ2OfFFOdizEnqTk02rEFFFFABRRRQAUUVIkMkoJjRnAGTtBOPyobS3AjooooAKKKKACiiigAooooAKKKKACiiigAooooAKKKKACiiigAooooAKKKKACiiigAoopynDA4z9aBrVjpoJbeUxzxtG4xlXGCMjI/Q1HXW+P7Zp/iBNHHhftCW5T0G6JMVieIdGl8Pa/d6VcSLLJaybGdBgNwDn9awpVo1IxfVq5UotNmzoWvrBol3bOMGDTLuKM+pleMZrlTSdPxFFXCkoNtdROTa1CipWt5VtUuGjYQu5RXxwWABI/UVFWnoIK0dK8P6trchTSdPuLsjr5UZIH1PQVnV3Wg6zf8AiHVdO0qOV9O0WyjWS4hgcqgSMbnkb1Jx39a58RUnThzQS+ZdOMZOzOJuLeW1uJILmNopY2KOjjBUjqDUdaXiLVjrniS/1Irs+1TtIF9ATx+mKZDpFxNodzqqmNba2lSFt74ZmcEgKO/AJrVS91Oejf5kta6FCtrT9VisPC+q2ic3OoPFFn+7EpLt+ZCisiOCWZJGijZ1jXc5UZCjpk+gplE4xmrMSbWoHnrRRWpouuSaK8rRWdlcmQAH7XbiXbj0z0pyckrxV2Cs3qZf4j86K6LUfFN3rGnvaHTNOijbBzaWaowIPXcOfwrBe3mRd7xOq+pUgVMJSa99WfrcclbYjooorQkt6XfrpuoxXb2lveeWSfJuVLIxxxkd/WvQ/DfirWbtJtY1O+TTNE05l8yGxt0i89z92FQBznvnoK860+2iu9RgguLhLaKSRVeaT7sYJ5Jrv/FPhzVL6GDTfDVvBLo1kpaBYb2J5LhsZaVlDZLHHTsK8zGKjKcYTsm+r6Ly8zppcyi2jgdSuhfapc3SxLCs0rSCNBwmTnAqrQwI4PUda2tPtIJPCer3Txq00UtukbnqgZmzj64ArvbVOK+S/Qws2zFoq7baTe3el3moW8O61stnnyZA27jgfWqVWpJtpdBWYUUUUxBRRRQAUUUUAFFFFABRRRQAUUUUAFFFFABRRRQAUUUUAFFFFABSikooA9Hit9M8T3uj63LrFlZ/Y4IY9QgnfbIPKGNyj+LcAOlZvxMsfP8AHf2uxBki1mKK7gx/FvAXH5iuLBxXqVk0F78PNL8RzuvneHori2wx5ZzjyfyLZ/CvIqQeEqQqXutYpdr6r8dDrTVWLj8zzC4hNvcyQsysY3KEqeDg44p9pbrdXSxPPFbq3WSZsKv1xk1ATk5PJ/nRXrWdjlO9urHRLf4d6d9p1Ce4j/tCbD2kGNzbFyPnI4461xl61iSBYRXCjPLTyKSR9ABippdUeXw7baYT8sNxJN/30FH9Kz656FKUE+Zt6suck9gHNelw+FdasfAqWGj6TdXF/q6rLeTomFihHKRbj3P3j+FeajjpWhe6/q2pBRfald3CqNqrJMxAH06VOJpVajjyNWTu7/gOnKMb3NC78C+IrKMyXenNEvq80Y/9mo0W+tTpV/oOrSfZ4bmRJorjG4QzJkAsB1UgkHHTrWAWLfe5+vNNPtWjpznG039yt+rJ5kn7p6DoNhp1poGvaZDfW9/f3unyyBrYkpEkWHxkgZJweOwFcDIjI/zAjIDAH0PIrsvhbYTXvi5SE3Wwt5o5yTgFXjK7fqc4Arkby4a7vZZnUKXYnaOijsB7AcVhQvGvOF77N/P/AIY0qawiyCtXw9e6Xp989zrFg1+scZMNvu2o0nbf3K+wrKorsnFTi4vqYp2dzrJ/iT4ibK2dxBp8XaKztkjCj0zjNc9f6nfapP52oXc1y/8AelctVSis6dClT+CKRUpyluwooozitiC5JpGoRXkdq9nOJ5QDHGEJLg9CPUH2rsNL0uHwDcR6v4jYDU41L2emRsC4YjAeQjhVGenU1h2HjvxHpmmrY2WqzRW6AhFwCUHopIyPwrDmnluZmlnkaSRzlndiST6k1xSp1qvu1LKPlu/8vx9TZShDWO4kshlleRursWP1JzWr4f1S2sZLm11SKSXT72Pyp1iI3rg5V1z3U8+/IrHorqlBSjyszUmnc7+zbS5/AWuaLodzcXFyBHfyPJH5YlWNsFFXJ6Kdx9fwrgO9dJ4Hh1BfE1rc2NlNdRI+24WOMkeUw2uCegG0nrUHijw+vh7Wbyza7idopmWOJSWbZn5S2OBxjjrXJRcaVaVLmu3r59n+hrO8oqVjCoooruMAooooAKKKKACiiigAooooAKKKKACiiigAooooAKKKKACiiigAooooAUc16bPYW+n/AAqv9Fxuv4oYNVusfwl3Cqn4IQfxrzNDtkBPODXo3iPUdOhsdd1O11S2uZNehhht7aI5eFBtL7x/DjbgCvOxilKdOK7p/NNfpc6KVlGTPN+9FFFeic4UUUUAFFFFABTkQySBVGWJwAO5ptKrFGDIcEHII7UDR6noezRPGOg+G7I5+xTfbNVlHRpghLD/AHY14+ua8umYNM7L0LEj866K98c6jeW1wogs7e5u08u6u4INs069wWzxnvjGa5quLC0ZwblPd2/W7/E1qTTVkFFFFdpiFFFFABRRRQAUUUUAFbHhbQ28R+JrLS1fy1nfDv8A3UAyx/IVj1p+Hdbm8O6/a6pbKrvbvnY3RgRgg/UGsq3P7KXs/itp6lQtzLm2N3X/ABRc6jdf2F4fDWejxSCGC1h+XzjnG58feYn1qD4jyK/jq+VGDGFYoXIP8aRqrfqKmPinRdKmkuvDOjyRX0hLLc30ol+zk/8APNQAMj+8cmuSlkeaZpZWLu7FmZjkknqa5MPRtJSUeVJW823a7f3GtSd1a9xtFFFegYBRRRQAUUUUAFFFFABRRRQAZooxRQAUUUUAFFFFABRRRQAUUUUAFFFFABS/WkooAKKKKACiiigAooooAKKKKACiiigAoq9ounf2trllYeZ5f2qdIt+M7dxxnFV72D7Jfz2+7cIZWj3euCRn9KnmXNy9R2drkNFFFUIKKKKACiiigAooooAKKKKACiiigAooooAKKOaKACiiigAooooAKKKKACiiigAooooAKKKKACiiigAoq9o2mS61rVpp1uQslzKsalugz3rV1zwtDZab/aei6imqWCyeTNIsZR4XzwGU9jjg96ylWhGag3qylFtXRlaNpUutatDY27ojy7sM+cDClu30qvLazwQwyzROkc6lo2YYDgHBI9eeK3fBU8dnqN/fS8Na6bcSR/75XYP/AEKl8ayrHqFjpcRBi0yxigGO7ld7n/vpj+VZ+1l7f2dtP6/4BXKuTmObooorpMwooooAKKKKACiiigAoopetAG14Olhg8ZaVPdOEhiukkdiegXk/yrKu5zd3k1wwwZpGkI+pJ/rXQx+H9Kt9F02fVr+e2udTR5YWWINFEittBf8Ai5IPTp71hajptxpeoy2d2FEkZwSpyrA8hge4IIINc8JQnUclvt9zNJKSjZlYDjPYUldfqsMeh/DvTLPYovNYc3s7EDcsSnbGvtk5NchV0qntE5La/wCQpR5XYWirmk30WnajHc3Flb30a5zBcA7GyO+K6WTTdI8WafdXPh61/s7U7WIzS6eHLxzRj7zRk8gjqVqalb2cveWnfoEYcy0ONoFBoFbkBRRRQAUUUuD6UAJRRRmgAorpdHstMtvDM2saraSXpa7W0hhWYxAfJuZsjuBjHaqWv6TBpzWdxYyvJZ39v9oh80ASKNxUq2PQg8jrWKrRc+Wxbg0rmPRVu20y8u7O5u7eBngtVDTSZACAnA69ye1VK1um7ImzQUVZj0+8lsZLyK1me1jba8yxkoh9Ce1V6E09hCUUUUwCiiigAooooAKKKKACiiigAooooA6X4eMq/EHR938VwF/EqQP51Th1aXTNO1jS2gDNe7YnctzHsk3HA75xioPD119j8S6bc5x5V1E5x7MKs+MrT7D421i3HRLyXH0LZH865JRjLENPql+D/wCCbXap3RjxzPFvCMQHG1wP4hkHH6Cpbt57iZrudW/fsWDEHB9cH2pdOs5NR1K3s4BmS4lWNfqTitzxrqMU2pxaTpwA0/SENrBgffIPzufdmz+FaudqqilqQl7t2c1W7YaPZatoUzWEk/8Aa1qrSyW7AFJoh1KY53KOSD2rC5rU0+e98N65Z3rwyQywlJ1WRcb0PPQ9QRmnV5uX3Xr+YoWvqZdFbvjLTYNL8VXkNkMWkjLPbj0jkUOo/AHH4VlWFlNqV/DZ2qhppm2oCcc041Iygp9NwcWnYr0UUVoSFFaWktpEbSSayl3NtA8uG2ZU3nvuc5wPoK25bLRtX8KalqVhpkmmSac0QB+0tKs29sbTu6NxnisZVlF2adu/QtQbW5yVKp+YfWkpVHzD61v1IOr8XDHhvwg44/4ljfpM1Y0ly+rvplrs/exRrbb85L5c7fyDY/Ct3xeM+EfBzdP+JdIv5Smqng3SJ5fFWkS3MRjtnvIsPJ8of5ui5+9+FedTlGOH53uub82dEk3Ut6DviJcibxpeW8Z/c2ISziUdFWNQv881k2OkNqGk3t1bzKZrMLI9vj5jETguD/snGR6HNJr0z3HiLUZpRh5LqVmHuXNWfCU08XiixW1QSNNJ5DRk8SK/ysp9iCa2SdLDrl6IjSVTXqNutDSx8O22oXt15dxeHdbWgTJeIHBkJ/hGeB64NS+DLqS18aaTJCcE3caEf3lY7SPxBNW/Hab9fe4tGSXTAFgspImyojjG0KfRhjkH1zTPh/Zi68bafI3+qtHN3KT0CxgsT+gqHPmwspz6p/8ADDStVSRj6vClvrV9BEMJFcyIo9g5AqoOfSpbu4N1eTzt1lkZz+JJ/rWxofiu90C0kh0y2s/Olfcbia3WWTGMbRuyAO9dDc4wXKrv1sQknLUwTx1orp9W0/xFrgXVdZtY7VNgX7VPElqrjtxxuP0Ga5uaNY5WVJFlA/iTOD+dOFRTXn5aicbMlsXtor6KS/hee3VsyRI+wuPTPaux8N3ltrOtQ2dl4a0mGzHz3bzB5NkI++xdm+XA7jviuIjQySKgIBYgcnFek6t4ck0zQY9F0i706FJgsl7eT6hGjXT9QijORGvv1PJrkxcoXUG9X9y8zWkna/RHn2p/ZBql1/Z242nnP5G7rsydv6VUqzqOn3Wl38tnfRGKeI4dTz7jnuMc5qviu2NuVWZi73OouPk+F2n4/i1WYn8IlFc+89zfNBFI7zGNBDCp5wueFH4n9a6+HRNS1b4a6XDptlLct/aNxI3lrwq7EGSegH1qt4U0QW3jrSYry4tZWS5Ejwwy+YQEBfBI+X+H1rihVhGE3u05G0otyXyK3ihhpEEHhq3bP2M771h0kuSPmH0QfKPxrmqnvbp73UJ7qY5eeRpGJ7liT/WuvtNKsdOsF8VxJHLZR26iGCQ7v9M+6UYHqAcv6EYrTmVCCUt3+LJs5tnL6XrF/o10JtPuZIWzyAflYejL0I9jV/xRZwRzWepWMQhtdTtxcLEvSN8lXUewYHHsayLq5lvbyW5uX8yaVy7vgDcT1OBXQeJv3HhvwzZP/rUspJ2HoJJSVH5DP41UvdqQa3e/3AtYs5miiiukyCiiigAooooAKKKKACiiigAooo70AWtPs7u8ukWwt5biUEELEhY/pXWfFOy+z+MprmR1El3FDN5QGSMxjJPYcg1gDxJqKaRDplrMbW2QNvWAlDMSc7nI6nt6YFbnj9xd6f4X1AcmfSER/qjFa4JOp9ZhJ6LVfk/0N1y+zaRV+HkO7xfFcMPlsoZro+2yMkfrisKxuLeLVobjULYXcHmbpYSxXeD1GR0NdB8O3Da9d2oOJbzTrm3hH952TIH44rlWUq21hgjgj0rSK5q9RPsv1E9IRO5i8I2EOvNqgkeXw1Fbm/WZurpnAiP+3vwp/OuR1XU59Y1We+uzmWdyx54UdlHsBwK6q31Oztvh7BoGoyyp9vdrtJVYlbcg7U3L3VsNn04NcZJEYpmjOGK8ZU5B+hqMLzuUpVN1ovRdfn1HUtZKJ0HjEmQaHK33n0e3yfXbuUfoKveA/D2oP4l0u/lhWC1MwKyTuI/M4P3QeW/AVR8cMItZttPHXTrGC1b/AHwgLfqxrO0fWJbDXrC/ld5PssqH5mJO0HoM+1JQnPC8sNLoG4qpdl2fSdEsmY3murcvk/utPty/5u+0fzrGu2tmm/0KOWOMdPNkDMfrgAUy4ZXuJGT7pdiPpk1HXXTi0rt3MpNPYnsrK41C9itLOJpp5nCIijJYnoK6DxLfRafYReGdMkV7e1fzLuZP+Xi4xgnP91fuj8TVzwtd6JpWhXNxNqxtdUuQYQ0dq0jwRfxbeg3N0zngVnSTeErVT5NtqmoSDoZpUt0P4KCf1rldRzq6xdo7ade/b0NeXljvuc6BxW/YSeHrDTIp7yCbVL+QkmDzDDFCAeAxHLE9eMAVl3l5FcYW3sbe1QHgR7mY/VmJJqoa6pR51rdGSfKz0nXfEk8PgHw3eaXa2tnua4gwkAfytr5AUvkjrmuE/ti+k1aPUZ7mSa6jkV1kkYkgg5FaR1JLn4eppzn97Z6h5yZ/uSJg/qv61z9c2FoQpxlG3V/c3c0qTbkmdB4wign1c6vYYNnqf+kJj/lnIf8AWRn0IbP4EGofD1wunfbdU/5a29uUt/aWT5AfwBY/hWULmRbVrcN+6Zg5U/3h3+uOKZ5jCMxhjtJ3Ee9bKm/Z+zf9Ijm97mQb32lQzbWxkZ6/WuhtL0aB4VuBFxf6unl57xWwPP4uePoD61zoOGBI3DPIPepbq6lvLl55zl29BgAdAAOwA4xVThz2T2EpW1Ia09L1660aGQacsMM7nP2ryw0qj0Un7v4c+9ZlFXKMZq0hJtbE93e3V/OZr24luJT1eVyx/M1D1pKKaSSsg33HPG8blHUqwOCDW9pPhl5Y1v8AXZDpmlg5aeRPmlH92NTyzH8h3NM0/wAW3um2qxRW1jLLGMRXM9qryxD0DH9Mg4rMv9RvNUuTcahdS3MrdXlcsf8A634VhL20/d2XfqWuValnX9UXV9XkuYYvJgVVihiJyUjQbVBPc4HJp1hrsmm2wjtbKxEwJJuZLcSSHPb5sgfgKyqWtPZx5VB7Inmd7nY+J9bv9Q8D+HvtV3JIZWumkGcBsOoHAwOOaxPC2px6N4o0+/uATDDMDIB/cOQ2PwJqDUL7z9O021U5W1hYf8CZyx/pWf1rGnQiqTp2snf8WypTblzGjrOlPp2sSW0bCaJmzbypysyE/Kw+o/Xiuk1DVrKwt4/CjBTYRRbbmdRlvtR5MvuFPyY9M1zOn6m9o6eaTIkJMkSEZAkx8p9hnBPriqLuzuWYlmJySepPrTdJ1GlPp+fcfPbbqaWm6O13ri2czrHGhLzyg5WONRlnz6Y6euRTde1T+2NZnuwuyIkJDH/cjUbUX8ABUKXvk6XJbQ5D3DDzm9UHIX6Z5P0HpVStFFufO/QhvSyCig0CtSQooooAKKKKACiiigAooooAKKKKACtbUdU+2+HtItW+9YiaMf7rOGH8zWTRUyim030Gm0SQTyW06TQSNHIjBldTgqR3Bq/qeqx6upuLuJUv/wCOaIYE3uy9m9x17jvWZSYocIt83UfM7WJZriS4KmQ52oqLjsAMAVd0COJtbtnuRmCFvOlHqqfMR+OMfjWdT0lePeEON67W9xSlG8eVCT1uSX13LqF/PeXJ3S3EjSufdjk1BiiiqSSVkIKKKKYC0mKKKACiiigAzjgUYoooAMUYoooAKKKKACjvRR3oAKKKKACiiigAooozQAYoxRRQAUUUUAFAooFABRRRQAUUUUAFFFFABRRRQAUUUUAFFFFABRRRQAUUUUAFFFHegAooooAKKKKACiiigAooooAKKKKACjNFFABRRRQAUUUUAFFFFABRiiigAoooxQAUUUGgAopKKAFPSjtRRQAUUlKKADFFFFABRRRQAUUUUAFFFFABRRRQAUUUUAIaWtDQtGn1/WoNNtWVZZiQGboAAST+Qqx4d8PS+IfEMelxTJDnczyv0RFGWOO/A6VnOrCF+Z7aspRb2Meiuj8V+HbLRU0650q+kvLS/hMkbTReW42ttJx6HtXOU6dSNSKnHYJRcXZhRRRVkhRRRQAUUUUAFFFFABRRRQAUtJXWGxtV+Eq3xgj+1Nq3lCXHzbRHkjPpWVSoqdr9XYqMea5yeKKM0VqSFFFFABRRRQAUUUYoAM0UYooAKKKTNAC0UZooADRRRQAYo6Ck6UvWgBKKXFFABRRRQAUUUUAFFFFABRRRQAUUVZ061N9qdrar1nmSMY/2mA/rSclFXY0rux03wxVk+IWlFlIV3dQcdco1S+DPB9x4m1y6mYSrY2jk3BhP7x8k/Io9Tiuqt/E7r8TrPw3bRRpY2esRxwbR9xEQptA9ySSepNeX30strql2lvLJGPOcHY5GfmPpXkL21ec3H3XKMbddLv0Or3YJX1SbOx8ZeHPE+q6qbyXRxZ2kSLDbW/2iIeTEvCr97r61xF9YXOmXj2l9EYp48bkJBIyM9ie1PsR9p1S2S4JdXmRWLHPBYZ612Nl4eTxP8W9S0+6STyRcXDOEOCAuQv67RXTGbw0eWo1aKvorfqzNr2jvHqcHRT5Y2hmeNwVZGKsD1BBxTK79zAKKM0UAFFFFABRRRQAUUZooAtabp1xq2p29hZJvnuJBGi5xyf6V3viPRf7P+ElkljdR38EOqytPPCCFDFQgxnkjIxmue8Et5F9qV6vD2mmXEkZ9GK7Qf/Hqu+Lr240vw/ovhxJWRY7JZ7qIcZkkbeM/Qba8yu6k8TCEXonf8Hf9Dphyqm2+pzllYxXGk6jcybt9skRTHT5pNpz+FJdaTLa6NZai7r5d48qIo6jYQDn86k0a/trV57fUUkezuo/Ll8rG9MHKsM8EgjOO/NdBqj6fqfgdotJSQx6JOmJZV2vMs2Q7EAnHzqMDsK6J1JwqJW0b/C3+ZnGKcTjKM0UV1mQCiijNABRRRQAZooxWjpGiXWsySi2MMccKhpZp5RGkYJwMk1MpKKvLYaTbsjOzRXQah4Sks9Fl1O21Ow1CG3lSKf7K7Hyy2dvUAHp2rn6UKkaivFg4uO4Cig0YqxBQaBRmgBKXFFJQAuKKKKACiiigAooooAKKKKACiiigAq9o16NN1yxvWGVt7iOUj1CsCao0tTKKlFxfUadnc9MtdKa2+MdxqTHdYQM+rib+FoSpdTn3JA+tebTyGa4klPV2Lfmc1pjxRrI0E6OL+X7CRt8rj7uc7c9cZ5x0rIzXNh6NSDcqnZJeiNKkk9IiqxRgwOCDkGuvn+INyY5JLHT7ez1C4MbXV7GWLzFMEcHhckAnHWuUgtp7ostvE8pUZIRckD1xWzonhDVNXk8xoGtLJDma8uBsiiXuST1PsKeIjQa5q3T+vmFNzWkS18QI4X8RpqVqgji1W2ivtg/hZx8w/wC+ga5fmug8Z6paanrqrpW42FlBHaWzMOWRBjd+Jya5+rwyaoxUt7CqW53Y0NB0eXX9dtNLt5EjkupPLV3zgHBPOPpVOaIwTyRMQTGxUkexxXafDPRb4+MNG1Jo1jtftPyySSKvmYBB2gnLc+lZGqaLYxX1w03iDT9xlc+XCssjD5j1wuP1rJYlfWJU73SS++7H7N8ikc9mjNT3UVvEwFtcmcdz5RT+ZqvXYnfUyF611EFv4aSa0tEtr7VLmdY9zxXIiXe+MqF2k5BOK5cdcV1ekrH4Z0E63cc6ldqU0yM/8sx0ac/Tovvk9q5sRsrN36JdWaU99TF1+yt9N8Q39lZSNLBbzvGjsckgHHNZ1KzFmLMcknJJ70nWt4pqKTIer0NDRtautC1D7XZGMuUZGSVA6Op6qynqKi1TU7nWdTnv7+TfcTvucgYH0A7Ctm38DapLBHPdTafYwOocSXV7GvB77QS36Vbj0HwlZD/iZ+KnuXHWPTbNn/8AHnwK5XWw6nzR1ltom/yNFCbVnsc9Douo3WmtfWtrJPbo213iUv5Z/wBoDkfjW/Y2c2j+BNYm1ONrcaokUNnHIMPKVkDs4H90AYz6mrlj4k8L+Hp/O0Oy1uSboZJNQEG76hB0/GqOseMrTV7hp5/D9tJMwx5lxdzyt/6EKyc69WXLyPlvfpfT5lqMIq99TlO5oxVi7uo7lgYrOC2HpDu5/wC+iar16CdzBjooZJ5RHAjSOxwFRSSfwFdLZ/DrxXfQiWHRLhEIyGmxHn/vo1meHr3VrHWI28PtKt9KDFH5K7nO7sK6O90DxXeyM+u6zBAf4vtuqrkexUEn9K469apCXLGUV63b+7Q1hGLV2mchfWNzpt7JaXsTQzxHDo3UVXrVvtP02xDL/aovphx/okR8sH/fbGfwFZNdUJcyuZSVmLWloOi3Wv6tFYWe1Wf5nkc4WNByXY9gBWZWxoeu6r4duJ/7LYQzXCCN90KuSOuBkGpq8/I/Z25ulxwtze9sX/E2qW6WkWhaGX/sq1feZmXDXcvQyn27KOwrma9LstS1xdLubvx1fH+zJraRYrO8UGS4cr8vlpjK4ODu46V5pn5qwwkvdcbbdU73frZa9zSqtbmnr+nRaZfxRWxZo5LWCYFjzl4wx/Umsyui1KCTVtK0a8gBdti6fLjtIp+TP1Vhj6GpPiBp8OneL54rVFSFoYXRVGBzGAf1BqqVZXjTe9n+GgpQ05lsczRikorqMgpRRRmgAopM0UALRQaBQAUUUUAFFFBoAKKKOtAHQ6Z4G1/V7CO9sLJZLeTO1zcRrnBx0JzVw/DrV4Rm9utLsx3M2oRjH4AmuUDsBgHj60m76flXM4V29JpL0/4JpeHY6g+E9Lg4vPF+kIR1EAlmP/jq00aP4UiyZvE80vtBpz/+zEVQ8NaKPEGrGxadoT5EsqkDOSiFgP0rHPB55qVCbbj7R3Xp/kO6SvynWQN4P0+ZZ4b7XZpkIZGiijgKn1BySKt6t400vU4wl5YarqQX7v2/VmIH/AUAFcR16VYaxuktFuntphbtwspjIUn69KHhqbalOTb9f8rDVSVrJFy41a1fItNEsbdT6+ZIR+LMayzyc8D6V2IttBk8G316NLkttirFbXE1yXlmuCRkADC7QuSePTmuPPtWlGUZJ2TVu5E00XdM1a40vVbK+idi9lIrxgngYbOPoefzpur3Md5rF3cwArFNM8iKewJzj9ap0VpyR5ubqLmdrCUuKTvS1ZJreGrLT77XoI9Yu4rWzGXlaR9u4DnYDg4J6Z7Vt63aadqupyXd/wCKdOQthY4bWCaRYkHCoMKBgDiuOBx0NLnPeueVGUqnOpW+40U0o2saWoW2k20ZWy1Ca8k7EW3lp+pz+lZfelxSVtFNKzdyG7i5+n5VqeGzaHxLYf2nbi5tWnVZIWOA4Jxj9ayxXpvhdLbQ/GGiaAYLbz5SkuoTTRqzFmXcsS5HAHy9OSTXNi6vs6UrK7s/wRrSjzSVzhfEWnppnibU7C3BMdrdSxL9FYiqVpaT313FbWkTSzSsERFHLE9q3tR1yWw+IGp6hbCOUPdzb0kXckqMxDKR6EVvX9na+HvDs3iDw4kpXVv3duzId1jER+8BP94n5Q3pmpeIlTjGLWskrevmNQTbfY4bUdPuNKv5bO8VVmiOGCuHA/EcGq2aCSTzSV2K9tTFkkFxNbTCW3leKRejIxBH4imE5570lFFkIDzRRSimAqnawYgHBzg11z+P5IWebR9G07TryTl7xIzJLn/ZL5C/gK5CisqlGnVs5q5UZuOxYvb661G6e5vriS4mc5aSVyzH8TVeiitEklZEt33NHSNd1HRJZDply0PmjDgAEH0OD3HY9RW34oge68L+HNWkcbntGtm3H5naORuR6/KRzTND0fTbHR/7e8S7mgZitnZIcNduOuT2QdzVvxBqkuv+A7S9nVFa21OaFUjXCxo8asqqOwG3pXBKcXXi4LZ2b+T08zdJ8jTZxfWkpRSV6BgFLRikoAWikooAWiiigAooooAKKKKAExR0paKADNS21vLd3MVvbo0ksrhERRyxJwBUVbfg6/g0zxhpd3eHbDFcqXb+6Om78M5qKknGDkt0iopOSTO18G6Ho2m+Ip0j1N31XTreYzJtHlSHymDKh6kqTyT15rzmwS0l1SBdSlkhtWcCWSNdzKvcgV2WgaZdeH9R8S3d/kCxsJkEp6SNKQqEHvkHNcH3xXFh4uU6j5r3S1+V/wBTao7KOh3D+AEn1SzuNIvDc6Fco0xvXGDAiDMgcdmA/PNZeueKJdb1YwPdXNvogdEjtYzlY4l4UhOhbHP1NaukeIbfw54Rg068ha7i1dnku4fMKlIfurt9GJBP4CuY1nT7azud+m3aXllLzFKOGH+y6/wsPyPUVFBTlUfttbaRf6+o52S9z5m94ivvDeox28djfX8VtaRCK3tRaLhR3YsW5YnknFcgwUMdhJXPGRzSYorupUlSjypt+phKXM7hRRRWpIUUUUAFGaSloAKSlFGKAJLV1S6iaTlQ6lvpkZr0u4sJdP8AiDqfi3UFK6Zasbq2mP3bh2X90qHuckH2xXmHSpXvLiW3SCSeR4Yz8kbOSq/QdBXLWoyqPR20s/RmsJqKLWmWp1fXIYZZBGJ5cyynoi9Wb8Bk1r6l4vuV8RS3WjOYLJIxbQ27DcjQKMBWU8HPUj1Nc9BcNAsvl8NIhTPoD1/TioquVJSleW1rEqbS0JbqaOe4aSGBYFbny1JKqfbPaohQaBWyViANJRS0wEpR0oxRigAzSCiigBaKKOtAHcahpT+LNO0mfR7yz2WljHbTW81ykLQuudxwxGQeuRWVr97Z2ejWnh/TZVuVt5WuLq5T7ssxG3C+qqOM9+a5vPHb8RQa5YYdxau7pbI1dS623FpKU0ldRkLmg9KSloAQ0UuKKACiiigAooooAKKKKACjNFBoAM0UlLQBdn1nUrrT47G4vp5LWLGyFpCVX049qpUYoqYxjFWSG23uPkmeYhpWLEKFGewHAFMNFFUIKKCaKADNJmlooAM0UUUAHeg0Zo60AFJS4oxQAlFFFABS0GgUAJS4oxRQAYpOlLR1oAKSloxQAlFLRmgApDS0GgBKKKKAFNJRRQAUUtJQAUUtFABRRRQAUUUUAFFFFABRRRQAYoFFFABRRRQAUUUUAIaWiigAoFFFABQaKKAEooooAUUUUUABpBRRQAppO9FFAC0lFFABRRRQAUUUUAL2pMUUUAFL2oooABQaKKAA0lFFABRRRQAtFFFAH//Z)"
      ],
      "metadata": {
        "id": "e6ygTZPgy0mm"
      }
    },
    {
      "cell_type": "code",
      "execution_count": null,
      "metadata": {
        "id": "A7SehnMgV9uq"
      },
      "outputs": [],
      "source": [
        "from sympy import *\n",
        "import sympy as smp\n",
        "smp.init_printing(pretty_print=True)"
      ]
    },
    {
      "cell_type": "markdown",
      "source": [
        "## Differential equation basics:\n",
        "* how to take derivatives of a general function"
      ],
      "metadata": {
        "id": "XjKIW0IbbMnB"
      }
    },
    {
      "cell_type": "code",
      "source": [
        "x,f = smp.symbols('x f')\n",
        "\n",
        "print(type(f))\n",
        "\n",
        "f = smp.lambdify(x,f)\n",
        "f0 = f(x)\n",
        "print(type(f))\n",
        "\n",
        "\n",
        "f1 = smp.Derivative(f0,x)\n",
        "display(f1)\n",
        "\n",
        "print()\n",
        "\n",
        "f2 = smp.Derivative( f1 , x)\n",
        "display(f2)\n"
      ],
      "metadata": {
        "colab": {
          "base_uri": "https://localhost:8080/",
          "height": 143
        },
        "id": "JJiKwkzow-6J",
        "outputId": "8bc23bd3-2729-4d2d-cfd0-bb2897915d93"
      },
      "execution_count": null,
      "outputs": [
        {
          "output_type": "stream",
          "name": "stdout",
          "text": [
            "<class 'sympy.core.symbol.Symbol'>\n",
            "<class 'function'>\n"
          ]
        },
        {
          "output_type": "display_data",
          "data": {
            "text/plain": [
              "d    \n",
              "──(f)\n",
              "dx   "
            ],
            "text/latex": "$\\displaystyle \\frac{d}{d x} f$"
          },
          "metadata": {}
        },
        {
          "output_type": "stream",
          "name": "stdout",
          "text": [
            "\n"
          ]
        },
        {
          "output_type": "display_data",
          "data": {
            "text/plain": [
              "  2   \n",
              " d    \n",
              "───(f)\n",
              "  2   \n",
              "dx    "
            ],
            "text/latex": "$\\displaystyle \\frac{d^{2}}{d x^{2}} f$"
          },
          "metadata": {}
        }
      ]
    },
    {
      "cell_type": "code",
      "source": [
        "y = smp.Function('y')  # making y a general function\n",
        "display(y)\n",
        "print(type(y))\n",
        "\n",
        "print()\n",
        "\n",
        "y1 = smp.Derivative(y(x), x)       #obtaining nth derivative of function y which is a function of x\n",
        "display(y1)\n",
        "print(type(y1))"
      ],
      "metadata": {
        "colab": {
          "base_uri": "https://localhost:8080/",
          "height": 125
        },
        "id": "xX2py00fbuwB",
        "outputId": "403e1f06-a777-4d65-ea63-144c368a6524"
      },
      "execution_count": null,
      "outputs": [
        {
          "output_type": "display_data",
          "data": {
            "text/plain": [
              "y"
            ]
          },
          "metadata": {}
        },
        {
          "output_type": "stream",
          "name": "stdout",
          "text": [
            "<class 'sympy.core.function.UndefinedFunction'>\n",
            "\n"
          ]
        },
        {
          "output_type": "display_data",
          "data": {
            "text/plain": [
              "d       \n",
              "──(y(x))\n",
              "dx      "
            ],
            "text/latex": "$\\displaystyle \\frac{d}{d x} y{\\left(x \\right)}$"
          },
          "metadata": {}
        },
        {
          "output_type": "stream",
          "name": "stdout",
          "text": [
            "<class 'sympy.core.function.Derivative'>\n"
          ]
        }
      ]
    },
    {
      "cell_type": "code",
      "source": [
        "y = smp.Function('y')(x) # making y a general function which depends on  x\n",
        "display(y)\n",
        "\n",
        "print()\n",
        "\n",
        "y1 = smp.diff(y, x)        #getting the derivative of y\n",
        "display(y1)\n",
        "\n",
        "\n",
        "# you will get an error if you try to define y=y(x) and then obtain Derivative of y(x)"
      ],
      "metadata": {
        "colab": {
          "base_uri": "https://localhost:8080/",
          "height": 91
        },
        "id": "VfKj8BLfMLll",
        "outputId": "06c10444-f869-4761-bb5a-7d385688f5b8"
      },
      "execution_count": null,
      "outputs": [
        {
          "output_type": "display_data",
          "data": {
            "text/plain": [
              "y(x)"
            ],
            "text/latex": "$\\displaystyle y{\\left(x \\right)}$"
          },
          "metadata": {}
        },
        {
          "output_type": "stream",
          "name": "stdout",
          "text": [
            "\n"
          ]
        },
        {
          "output_type": "display_data",
          "data": {
            "text/plain": [
              "d       \n",
              "──(y(x))\n",
              "dx      "
            ],
            "text/latex": "$\\displaystyle \\frac{d}{d x} y{\\left(x \\right)}$"
          },
          "metadata": {}
        }
      ]
    },
    {
      "cell_type": "code",
      "source": [
        "p = smp.symbols('p', cls=Function)\n",
        "display(p)\n",
        "print(type(p))\n",
        "\n",
        "print()\n",
        "\n",
        "p1 = smp.diff(p(x), x)        # or smp.Derivative(p(x),x)\n",
        "display(p1)\n",
        "print(type(p1))"
      ],
      "metadata": {
        "colab": {
          "base_uri": "https://localhost:8080/",
          "height": 125
        },
        "id": "3StLHeVkMcsH",
        "outputId": "feb335ae-4853-4076-aa37-011a9592f6ad"
      },
      "execution_count": null,
      "outputs": [
        {
          "output_type": "display_data",
          "data": {
            "text/plain": [
              "p"
            ]
          },
          "metadata": {}
        },
        {
          "output_type": "stream",
          "name": "stdout",
          "text": [
            "<class 'sympy.core.function.UndefinedFunction'>\n",
            "\n"
          ]
        },
        {
          "output_type": "display_data",
          "data": {
            "text/plain": [
              "d       \n",
              "──(p(x))\n",
              "dx      "
            ],
            "text/latex": "$\\displaystyle \\frac{d}{d x} p{\\left(x \\right)}$"
          },
          "metadata": {}
        },
        {
          "output_type": "stream",
          "name": "stdout",
          "text": [
            "<class 'sympy.core.function.Derivative'>\n"
          ]
        }
      ]
    },
    {
      "cell_type": "markdown",
      "source": [
        "## Creating a differential eqn with a general function"
      ],
      "metadata": {
        "id": "usGSpQQtbdgp"
      }
    },
    {
      "cell_type": "code",
      "source": [
        "#creating an ODE, ordinary differential equation\n",
        "g = smp.Function('g')(x)\n",
        "#g\n",
        "g1=smp.diff(g,x)\n",
        "g2=smp.diff(g,x,2)\n",
        "diff_eq = smp.Eq(g*3 + 2*g1, g2)\n",
        "diff_eq"
      ],
      "metadata": {
        "colab": {
          "base_uri": "https://localhost:8080/",
          "height": 54
        },
        "id": "2UOUG_pJ45lR",
        "outputId": "e4b7c40d-8c3b-460b-a225-67105f4443a3"
      },
      "execution_count": null,
      "outputs": [
        {
          "output_type": "execute_result",
          "data": {
            "text/plain": [
              "                        2      \n",
              "           d           d       \n",
              "3⋅g(x) + 2⋅──(g(x)) = ───(g(x))\n",
              "           dx           2      \n",
              "                      dx       "
            ],
            "text/latex": "$\\displaystyle 3 g{\\left(x \\right)} + 2 \\frac{d}{d x} g{\\left(x \\right)} = \\frac{d^{2}}{d x^{2}} g{\\left(x \\right)}$"
          },
          "metadata": {},
          "execution_count": 6
        }
      ]
    },
    {
      "cell_type": "code",
      "source": [
        "diff_eq.rhs      # getting the right hand side of the ode"
      ],
      "metadata": {
        "colab": {
          "base_uri": "https://localhost:8080/",
          "height": 54
        },
        "id": "INdDkrc2NJC1",
        "outputId": "9d660b24-5f77-408b-95bd-b975959228e6"
      },
      "execution_count": null,
      "outputs": [
        {
          "output_type": "execute_result",
          "data": {
            "text/plain": [
              "  2      \n",
              " d       \n",
              "───(g(x))\n",
              "  2      \n",
              "dx       "
            ],
            "text/latex": "$\\displaystyle \\frac{d^{2}}{d x^{2}} g{\\left(x \\right)}$"
          },
          "metadata": {},
          "execution_count": 7
        }
      ]
    },
    {
      "cell_type": "code",
      "source": [
        "diff_eq.lhs      # getting the left hand side of the ode"
      ],
      "metadata": {
        "colab": {
          "base_uri": "https://localhost:8080/",
          "height": 52
        },
        "id": "BcpFv9fo7y0p",
        "outputId": "207d0b86-605f-4bbc-8849-246da498ac63"
      },
      "execution_count": null,
      "outputs": [
        {
          "output_type": "execute_result",
          "data": {
            "text/plain": [
              "           d       \n",
              "3⋅g(x) + 2⋅──(g(x))\n",
              "           dx      "
            ],
            "text/latex": "$\\displaystyle 3 g{\\left(x \\right)} + 2 \\frac{d}{d x} g{\\left(x \\right)}$"
          },
          "metadata": {},
          "execution_count": 8
        }
      ]
    },
    {
      "cell_type": "code",
      "source": [
        "#creating a PDE, partial differential equation\n",
        "\n",
        "z = smp.symbols(\"z\")\n",
        "\n",
        "pde = smp.Function('g')(x,z)\n",
        "\n",
        "pde1=smp.diff(pde,x)\n",
        "pde2=smp.diff(pde,z,2)\n",
        "\n",
        "pd_eq = smp.Eq(pde*3 + 2*pde1, pde2)\n",
        "pd_eq"
      ],
      "metadata": {
        "colab": {
          "base_uri": "https://localhost:8080/",
          "height": 54
        },
        "id": "F9-IpQXI562d",
        "outputId": "9130b871-ba36-484d-db9b-591b36b0cd04"
      },
      "execution_count": null,
      "outputs": [
        {
          "output_type": "execute_result",
          "data": {
            "text/plain": [
              "                              2         \n",
              "              ∂              ∂          \n",
              "3⋅g(x, z) + 2⋅──(g(x, z)) = ───(g(x, z))\n",
              "              ∂x              2         \n",
              "                            ∂z          "
            ],
            "text/latex": "$\\displaystyle 3 g{\\left(x,z \\right)} + 2 \\frac{\\partial}{\\partial x} g{\\left(x,z \\right)} = \\frac{\\partial^{2}}{\\partial z^{2}} g{\\left(x,z \\right)}$"
          },
          "metadata": {},
          "execution_count": 9
        }
      ]
    },
    {
      "cell_type": "code",
      "source": [
        "pd_eq.rhs"
      ],
      "metadata": {
        "colab": {
          "base_uri": "https://localhost:8080/",
          "height": 54
        },
        "id": "l_WwaEzkNYIa",
        "outputId": "c2ab56f2-90d7-4115-c03e-a0fd76e018b2"
      },
      "execution_count": null,
      "outputs": [
        {
          "output_type": "execute_result",
          "data": {
            "text/plain": [
              "  2         \n",
              " ∂          \n",
              "───(g(x, z))\n",
              "  2         \n",
              "∂z          "
            ],
            "text/latex": "$\\displaystyle \\frac{\\partial^{2}}{\\partial z^{2}} g{\\left(x,z \\right)}$"
          },
          "metadata": {},
          "execution_count": 10
        }
      ]
    },
    {
      "cell_type": "code",
      "source": [
        "pd_eq.lhs"
      ],
      "metadata": {
        "colab": {
          "base_uri": "https://localhost:8080/",
          "height": 52
        },
        "id": "zTYlNIHvNiYq",
        "outputId": "2cffff2a-b1dc-4772-f9fa-afdfbc1ffc70"
      },
      "execution_count": null,
      "outputs": [
        {
          "output_type": "execute_result",
          "data": {
            "text/plain": [
              "              ∂          \n",
              "3⋅g(x, z) + 2⋅──(g(x, z))\n",
              "              ∂x         "
            ],
            "text/latex": "$\\displaystyle 3 g{\\left(x,z \\right)} + 2 \\frac{\\partial}{\\partial x} g{\\left(x,z \\right)}$"
          },
          "metadata": {},
          "execution_count": 11
        }
      ]
    },
    {
      "cell_type": "code",
      "source": [
        "#Ordinary differential equations (ODE) are equations where the derivatives are taken with respect to only one variable.\n",
        "#That is, there is only one independent variable.\n",
        "#Partial differential equations (PDE) are equations that depend on partial derivatives of several variables."
      ],
      "metadata": {
        "id": "bsasGzHB35vj"
      },
      "execution_count": null,
      "outputs": []
    },
    {
      "cell_type": "markdown",
      "source": [
        "## Solutions"
      ],
      "metadata": {
        "id": "stKfCK5q0h7S"
      }
    },
    {
      "cell_type": "code",
      "source": [
        "# General solution\n",
        "\n",
        "smp.dsolve( smp.Eq(g*3 + 2*g1, g2) , g )\n",
        "\n",
        "#dsolve returns an instance of Eq, this is because in general, solutions to differential equations cannot be solved explicitly for the function."
      ],
      "metadata": {
        "colab": {
          "base_uri": "https://localhost:8080/",
          "height": 38
        },
        "id": "7fz700-HzGxR",
        "outputId": "05727a3d-d004-4c29-bf9f-f8bd15f121ac"
      },
      "execution_count": null,
      "outputs": [
        {
          "output_type": "execute_result",
          "data": {
            "text/plain": [
              "           -x       3⋅x\n",
              "g(x) = C₁⋅ℯ   + C₂⋅ℯ   "
            ],
            "text/latex": "$\\displaystyle g{\\left(x \\right)} = C_{1} e^{- x} + C_{2} e^{3 x}$"
          },
          "metadata": {},
          "execution_count": 13
        }
      ]
    },
    {
      "cell_type": "code",
      "source": [
        "y = Function('y')(x)\n",
        "expr = Eq(diff(y,x,1), 25*x*(1-y))\n",
        "display(expr)\n",
        "\n",
        "print()\n",
        "\n",
        "display(dsolve(expr))"
      ],
      "metadata": {
        "colab": {
          "base_uri": "https://localhost:8080/",
          "height": 97
        },
        "id": "Th0A0fdeGpzg",
        "outputId": "3c33e945-40e7-4e7e-db72-dbf3b8aedb62"
      },
      "execution_count": null,
      "outputs": [
        {
          "output_type": "display_data",
          "data": {
            "text/plain": [
              "d                         \n",
              "──(y(x)) = 25⋅x⋅(1 - y(x))\n",
              "dx                        "
            ],
            "text/latex": "$\\displaystyle \\frac{d}{d x} y{\\left(x \\right)} = 25 x \\left(1 - y{\\left(x \\right)}\\right)$"
          },
          "metadata": {}
        },
        {
          "output_type": "stream",
          "name": "stdout",
          "text": [
            "\n"
          ]
        },
        {
          "output_type": "display_data",
          "data": {
            "text/plain": [
              "                2     \n",
              "           -25⋅x      \n",
              "           ───────    \n",
              "              2       \n",
              "y(x) = C₁⋅ℯ        + 1"
            ],
            "text/latex": "$\\displaystyle y{\\left(x \\right)} = C_{1} e^{- \\frac{25 x^{2}}{2}} + 1$"
          },
          "metadata": {}
        }
      ]
    },
    {
      "cell_type": "markdown",
      "source": [
        "## First order differential equations with condition:\n",
        "\n",
        "\n",
        "Reference model\n",
        "\\begin{cases} y' = f(x,y) \\\\ y(0)= y_0\\end{cases}\n",
        "\n",
        "Example\n",
        "Differential equation:\n",
        "\n",
        "\\begin{cases} y' = -{y^2\\over x^2} \\\\ y(1)= {1\\over 2}\\end{cases}\n",
        "\n",
        "\n",
        "The condition here is :  y(1)= 1/2"
      ],
      "metadata": {
        "id": "bxRjJeqjdsWq"
      }
    },
    {
      "cell_type": "code",
      "source": [
        "# General solution\n",
        "\n",
        "y = smp.Function('y')\n",
        "y1 = smp.Derivative(y(x), x)\n",
        "\n",
        "eqdiff = y1 + (y(x)**2)/x**2  # eqdiff = smp.Eq(y1,-(y(x)**2)/x**2)\n",
        "#display(eqdiff)\n",
        "\n",
        "# Solution\n",
        "sol = smp.dsolve(eqdiff, y(x))                   # your answer is going to be wildly different if you use 'solve' instead of 'dsolve'\n",
        "\n",
        "# Print\n",
        "smp.pprint(sol)"
      ],
      "metadata": {
        "colab": {
          "base_uri": "https://localhost:8080/"
        },
        "id": "vbuGIb9YfbCv",
        "outputId": "1c284cf8-d309-43c2-88f3-d1aead9fd205"
      },
      "execution_count": null,
      "outputs": [
        {
          "output_type": "stream",
          "name": "stdout",
          "text": [
            "         -x    \n",
            "y(x) = ────────\n",
            "       C₁⋅x + 1\n"
          ]
        }
      ]
    },
    {
      "cell_type": "code",
      "source": [
        "# Solution with the given initial conditions\n",
        "sol = smp.dsolve(eqdiff, y(x),ics={y(1): '1/2'}) #initial conditions\n",
        "pprint(sol)\n",
        "#try sol = smp.dsolve(eqdiff, y,ics={y.subs(x,1): 1/2}) if there is error"
      ],
      "metadata": {
        "colab": {
          "base_uri": "https://localhost:8080/"
        },
        "outputId": "fd3b455d-baf6-45bc-d232-29e812c3c748",
        "id": "QkSnL9FkutS1"
      },
      "execution_count": null,
      "outputs": [
        {
          "output_type": "stream",
          "name": "stdout",
          "text": [
            "         -x   \n",
            "y(x) = ───────\n",
            "       1 - 3⋅x\n"
          ]
        }
      ]
    },
    {
      "cell_type": "code",
      "source": [
        "sol.rhs"
      ],
      "metadata": {
        "colab": {
          "base_uri": "https://localhost:8080/",
          "height": 49
        },
        "id": "jyE61vRcN83_",
        "outputId": "91dce2ae-23f4-40eb-e317-6135a3a9f0c4"
      },
      "execution_count": null,
      "outputs": [
        {
          "output_type": "execute_result",
          "data": {
            "text/plain": [
              "  -x   \n",
              "───────\n",
              "1 - 3⋅x"
            ],
            "text/latex": "$\\displaystyle - \\frac{x}{1 - 3 x}$"
          },
          "metadata": {},
          "execution_count": 17
        }
      ]
    },
    {
      "cell_type": "markdown",
      "source": [
        "$dy/dt = y , y(0)= 1$"
      ],
      "metadata": {
        "id": "AW8VL2seHycQ"
      }
    },
    {
      "cell_type": "code",
      "source": [
        "t=smp.symbols('t')\n",
        "y=smp.Function('y')(t)\n",
        "\n",
        "diff_eqt = smp.Eq( smp.diff(y,t) , y )\n",
        "#display(diff_eqt)\n",
        "\n",
        "smp.dsolve(diff_eqt, y, ics={y.subs(t,0):1})"
      ],
      "metadata": {
        "colab": {
          "base_uri": "https://localhost:8080/",
          "height": 38
        },
        "id": "358yuD81h27Z",
        "outputId": "ebcea9e0-525d-49fb-b301-7dfeeb074e5d"
      },
      "execution_count": null,
      "outputs": [
        {
          "output_type": "execute_result",
          "data": {
            "text/plain": [
              "        t\n",
              "y(t) = ℯ "
            ],
            "text/latex": "$\\displaystyle y{\\left(t \\right)} = e^{t}$"
          },
          "metadata": {},
          "execution_count": 18
        }
      ]
    },
    {
      "cell_type": "markdown",
      "source": [
        "## Second Order DE"
      ],
      "metadata": {
        "id": "fVFpi59_1O9p"
      }
    },
    {
      "cell_type": "markdown",
      "source": [
        "**Reference model**\n",
        "\n",
        "\\begin{cases} y'' + a y' + b y= f(x) \\\\ y(0)= y_0 \\\\ y'(0)= y_0'\\end{cases}\n",
        "\n",
        "*Example*\n",
        "\n",
        "**Differential equation:**\n",
        "\n",
        "\\begin{cases} y'' + 9y = 0\\,, \\\\ y\\left({\\pi\\over 4}\\right)= 0\\,, \\\\ y'\\left({\\pi\\over 4}\\right)= 3\\sqrt{2}\\,.\\end{cases}\n",
        "\n",
        "\n",
        "**General solution:**\n",
        "\n",
        "y =\n",
        "​\n",
        " C1 cos(3x)+C2 sin(3x)\n",
        "  \n",
        "\n",
        "**​Solution (with initial condition):**\n",
        "\n",
        "y= − cos(3x) − sin(3x)\n",
        "\n",
        "\n",
        "\n",
        "\n",
        "​\n",
        "\n",
        "\n"
      ],
      "metadata": {
        "id": "c9yhEAufcJAB"
      }
    },
    {
      "cell_type": "markdown",
      "source": [
        "**Initialization and symbolic variables**"
      ],
      "metadata": {
        "id": "i0hvZhgOd35h"
      }
    },
    {
      "cell_type": "code",
      "source": [
        "#Some common variables declaration\n",
        "x= smp.symbols('x')\n",
        "\n",
        "y= smp.Function('y')\n",
        "\n",
        "y2 = smp.Derivative(y(x),x,2)\n",
        "\n",
        "sec_de_eq = y2 + 9*y(x)\n",
        "\n",
        "display(sec_de_eq)"
      ],
      "metadata": {
        "colab": {
          "base_uri": "https://localhost:8080/",
          "height": 54
        },
        "id": "DAoV6Tb0vFEL",
        "outputId": "bc5152cb-16e3-417b-c17c-c205f5c949c5"
      },
      "execution_count": null,
      "outputs": [
        {
          "output_type": "display_data",
          "data": {
            "text/plain": [
              "           2      \n",
              "          d       \n",
              "9⋅y(x) + ───(y(x))\n",
              "           2      \n",
              "         dx       "
            ],
            "text/latex": "$\\displaystyle 9 y{\\left(x \\right)} + \\frac{d^{2}}{d x^{2}} y{\\left(x \\right)}$"
          },
          "metadata": {}
        }
      ]
    },
    {
      "cell_type": "markdown",
      "source": [
        "**General solution**"
      ],
      "metadata": {
        "id": "xx1t1C-id71v"
      }
    },
    {
      "cell_type": "code",
      "source": [
        "#General solution without the initial value\n",
        "g_s = smp.dsolve(sec_de_eq)\n",
        "pprint(g_s)"
      ],
      "metadata": {
        "colab": {
          "base_uri": "https://localhost:8080/"
        },
        "id": "jbwrwJZYXwT5",
        "outputId": "f6330a7a-0319-4fc8-fe1c-26620c9168eb"
      },
      "execution_count": null,
      "outputs": [
        {
          "output_type": "stream",
          "name": "stdout",
          "text": [
            "y(x) = C₁⋅sin(3⋅x) + C₂⋅cos(3⋅x)\n"
          ]
        }
      ]
    },
    {
      "cell_type": "markdown",
      "source": [
        "**Solution with the initial condition**"
      ],
      "metadata": {
        "id": "Ru9IfFWheBNP"
      }
    },
    {
      "cell_type": "code",
      "source": [
        "#Solution with the given initial condition\n",
        "\n",
        "x0 = smp.pi/4     # using a variable to store pi/4\n",
        "boundary = {y(x0):0, y(x).diff(x).subs(x,x0): 3*smp.sqrt(2)}   #using a variable to store the conditions\n",
        "\n",
        "\n",
        "sol = smp.dsolve(sec_de_eq, y(x), ics=boundary)\n",
        "\n",
        "display(sol)"
      ],
      "metadata": {
        "colab": {
          "base_uri": "https://localhost:8080/",
          "height": 38
        },
        "id": "8Y7v_ZwieDln",
        "outputId": "9ca97cfe-afc1-43fb-e146-94d17b74a5c5"
      },
      "execution_count": null,
      "outputs": [
        {
          "output_type": "display_data",
          "data": {
            "text/plain": [
              "y(x) = -sin(3⋅x) - cos(3⋅x)"
            ],
            "text/latex": "$\\displaystyle y{\\left(x \\right)} = - \\sin{\\left(3 x \\right)} - \\cos{\\left(3 x \\right)}$"
          },
          "metadata": {}
        }
      ]
    },
    {
      "cell_type": "markdown",
      "source": [
        "## THIRD ORDER ODE"
      ],
      "metadata": {
        "id": "YIBnITwSghdW"
      }
    },
    {
      "cell_type": "markdown",
      "source": [
        " $$  \\frac{d^3f}{dx^3}  = x, f(0)= 1, f(1)=2, f'(2)= 3 $$"
      ],
      "metadata": {
        "id": "4ri2a3seHJ0j"
      }
    },
    {
      "cell_type": "code",
      "source": [
        "f=smp.symbols('f', cls=Function)  # same as writing f=smp.Function('f')\n",
        "\n",
        "expr = smp.Eq(diff(f(x),x,3),x)   # definiting the expression\n",
        "\n",
        "display(expr)"
      ],
      "metadata": {
        "colab": {
          "base_uri": "https://localhost:8080/",
          "height": 54
        },
        "id": "m_nFP833HBiS",
        "outputId": "a76aa3a4-343b-4542-8b51-d64fd31f4238"
      },
      "execution_count": null,
      "outputs": [
        {
          "output_type": "display_data",
          "data": {
            "text/plain": [
              "  3          \n",
              " d           \n",
              "───(f(x)) = x\n",
              "  3          \n",
              "dx           "
            ],
            "text/latex": "$\\displaystyle \\frac{d^{3}}{d x^{3}} f{\\left(x \\right)} = x$"
          },
          "metadata": {}
        }
      ]
    },
    {
      "cell_type": "code",
      "source": [
        "smp.dsolve(expr)         #general solution / blueprint of what the answer should look like"
      ],
      "metadata": {
        "colab": {
          "base_uri": "https://localhost:8080/",
          "height": 54
        },
        "id": "67l3H0N8_rAz",
        "outputId": "4db12b20-446e-487c-cf07-c07dc290b7e4"
      },
      "execution_count": null,
      "outputs": [
        {
          "output_type": "execute_result",
          "data": {
            "text/plain": [
              "                            4\n",
              "                       2   x \n",
              "f(x) = C₁ + C₂⋅x + C₃⋅x  + ──\n",
              "                           24"
            ],
            "text/latex": "$\\displaystyle f{\\left(x \\right)} = C_{1} + C_{2} x + C_{3} x^{2} + \\frac{x^{4}}{24}$"
          },
          "metadata": {},
          "execution_count": 23
        }
      ]
    },
    {
      "cell_type": "code",
      "source": [
        "# boundary is variable holding a dictionary datatype consisting of keys:values pairs of \"what to substitute: what to substitute with \"\n",
        "# f(x).subs(x,0): 1 means when the value of x in f function is being substituted by 0, the result is 1\n",
        "# for f'(2)=3, we may write  diff(f(x),x).subs(x,2): 3\n",
        "\n",
        "boundary = {f(x).subs(x,0):1,f(x).subs(x,1):2, diff(f(x),x).subs(x,2):3}      # you can also write {f(0):1,f(1):2, f(x).diff(x).subs(x,2):3}\n",
        "smp.dsolve(expr, ics=boundary)"
      ],
      "metadata": {
        "colab": {
          "base_uri": "https://localhost:8080/",
          "height": 54
        },
        "id": "URaJ1KPJt3XP",
        "outputId": "faaea1b2-7837-4308-dab1-e0aa79fb9c60"
      },
      "execution_count": null,
      "outputs": [
        {
          "output_type": "execute_result",
          "data": {
            "text/plain": [
              "        4       2           \n",
              "       x    17⋅x    13⋅x    \n",
              "f(x) = ── + ───── + ──── + 1\n",
              "       24     72     18     "
            ],
            "text/latex": "$\\displaystyle f{\\left(x \\right)} = \\frac{x^{4}}{24} + \\frac{17 x^{2}}{72} + \\frac{13 x}{18} + 1$"
          },
          "metadata": {},
          "execution_count": 24
        }
      ]
    },
    {
      "cell_type": "code",
      "source": [
        "# reverse calculation\n",
        "# differentiating the rhs of the solution 3 times to see if we get \"x\"\n",
        "# because the question was :  diff( f , x , 3 ) = x\n",
        "\n",
        "f_x=smp.dsolve(expr, ics=boundary)\n",
        "diff(f_x.rhs,x,3)"
      ],
      "metadata": {
        "colab": {
          "base_uri": "https://localhost:8080/",
          "height": 38
        },
        "id": "tIaDYo36vKgC",
        "outputId": "3dd6969e-60d1-481a-b5d9-2abce118a7b5"
      },
      "execution_count": null,
      "outputs": [
        {
          "output_type": "execute_result",
          "data": {
            "text/plain": [
              "x"
            ],
            "text/latex": "$\\displaystyle x$"
          },
          "metadata": {},
          "execution_count": 25
        }
      ]
    },
    {
      "cell_type": "markdown",
      "source": [
        "# System of Differential equation\n",
        "\n",
        "* also known as coupled DE"
      ],
      "metadata": {
        "id": "vQgoCJqFJJnY"
      }
    },
    {
      "cell_type": "markdown",
      "source": [
        "### $dx/dt = 3y+ 2t $\n",
        "### $dy/dt = -x + 2y + 3$"
      ],
      "metadata": {
        "id": "QkK_DrIEJTjr"
      }
    },
    {
      "cell_type": "code",
      "source": [
        "t = symbols('t')\n",
        "# x, y = symbols('x y', cls = Function)\n",
        "x = Function('x') (t)\n",
        "y = Function('y') (t)\n",
        "\n",
        "Eq1 = Eq(diff(x,t), 3*y+2*t)\n",
        "Eq2 = Eq(diff(y,t), -x+2*y+3)\n",
        "\n",
        "# note that x and y are functions of t, not individual variables\n",
        "\n",
        "display(Eq1)\n",
        "display(Eq2)"
      ],
      "metadata": {
        "id": "Ti-KAgF0IV2v",
        "colab": {
          "base_uri": "https://localhost:8080/",
          "height": 87
        },
        "outputId": "ee3fd19d-28de-4040-b550-bebde7a72126"
      },
      "execution_count": null,
      "outputs": [
        {
          "output_type": "display_data",
          "data": {
            "text/plain": [
              "d                      \n",
              "──(x(t)) = 2⋅t + 3⋅y(t)\n",
              "dt                     "
            ],
            "text/latex": "$\\displaystyle \\frac{d}{d t} x{\\left(t \\right)} = 2 t + 3 y{\\left(t \\right)}$"
          },
          "metadata": {}
        },
        {
          "output_type": "display_data",
          "data": {
            "text/plain": [
              "d                            \n",
              "──(y(t)) = -x(t) + 2⋅y(t) + 3\n",
              "dt                           "
            ],
            "text/latex": "$\\displaystyle \\frac{d}{d t} y{\\left(t \\right)} = - x{\\left(t \\right)} + 2 y{\\left(t \\right)} + 3$"
          },
          "metadata": {}
        }
      ]
    },
    {
      "cell_type": "code",
      "source": [
        "expr = [Eq1, Eq2]\n",
        "solution = dsolve([Eq1, Eq2])"
      ],
      "metadata": {
        "id": "8sO0zWV5JZIk"
      },
      "execution_count": null,
      "outputs": []
    },
    {
      "cell_type": "code",
      "source": [
        "dsolve(Eq2)"
      ],
      "metadata": {
        "colab": {
          "base_uri": "https://localhost:8080/",
          "height": 57
        },
        "id": "n4itJ88mjRl2",
        "outputId": "e7266ac7-a9f0-4204-be2d-6fc348e1bf88"
      },
      "execution_count": null,
      "outputs": [
        {
          "output_type": "execute_result",
          "data": {
            "text/plain": [
              "⌠                   ⌠                    -2⋅t     \n",
              "⎮       -2⋅t        ⎮       -2⋅t      3⋅ℯ         \n",
              "⎮ x(t)⋅ℯ     dt - 2⋅⎮ y(t)⋅ℯ     dt + ─────── = C₁\n",
              "⌡                   ⌡                    2        "
            ],
            "text/latex": "$\\displaystyle \\int x{\\left(t \\right)} e^{- 2 t}\\, dt - 2 \\int y{\\left(t \\right)} e^{- 2 t}\\, dt + \\frac{3 e^{- 2 t}}{2} = C_{1}$"
          },
          "metadata": {},
          "execution_count": 28
        }
      ]
    },
    {
      "cell_type": "code",
      "source": [
        "display(solution)"
      ],
      "metadata": {
        "id": "PPtqy9qnlXwN",
        "outputId": "5f26b344-4d37-4f93-c81a-02a1f7041627",
        "colab": {
          "base_uri": "https://localhost:8080/",
          "height": 88
        }
      },
      "execution_count": null,
      "outputs": [
        {
          "output_type": "display_data",
          "data": {
            "text/plain": [
              "⎡                2                2                                           \n",
              "⎢         4⋅t⋅sin (√2⋅t)   4⋅t⋅cos (√2⋅t)                 t                   \n",
              "⎢x(t) = - ────────────── - ────────────── - (C₁ - √2⋅C₂)⋅ℯ ⋅sin(√2⋅t) + (√2⋅C₁\n",
              "⎣               3                3                                            \n",
              "\n",
              "                            2               2                                 \n",
              "        t             25⋅sin (√2⋅t)   25⋅cos (√2⋅t)               t           \n",
              " + C₂)⋅ℯ ⋅cos(√2⋅t) + ───────────── + ─────────────, y(t) = - C₁⋅ℯ ⋅sin(√2⋅t) \n",
              "                            9               9                                 \n",
              "\n",
              "                           2                2              2              2   \n",
              "      t             2⋅t⋅sin (√2⋅t)   2⋅t⋅cos (√2⋅t)   4⋅sin (√2⋅t)   4⋅cos (√2\n",
              "+ C₂⋅ℯ ⋅cos(√2⋅t) - ────────────── - ────────────── - ──────────── - ─────────\n",
              "                          3                3               9              9   \n",
              "\n",
              "   ⎤\n",
              "⋅t)⎥\n",
              "───⎥\n",
              "   ⎦"
            ],
            "text/latex": "$\\displaystyle \\left[ x{\\left(t \\right)} = - \\frac{4 t \\sin^{2}{\\left(\\sqrt{2} t \\right)}}{3} - \\frac{4 t \\cos^{2}{\\left(\\sqrt{2} t \\right)}}{3} - \\left(C_{1} - \\sqrt{2} C_{2}\\right) e^{t} \\sin{\\left(\\sqrt{2} t \\right)} + \\left(\\sqrt{2} C_{1} + C_{2}\\right) e^{t} \\cos{\\left(\\sqrt{2} t \\right)} + \\frac{25 \\sin^{2}{\\left(\\sqrt{2} t \\right)}}{9} + \\frac{25 \\cos^{2}{\\left(\\sqrt{2} t \\right)}}{9}, \\  y{\\left(t \\right)} = - C_{1} e^{t} \\sin{\\left(\\sqrt{2} t \\right)} + C_{2} e^{t} \\cos{\\left(\\sqrt{2} t \\right)} - \\frac{2 t \\sin^{2}{\\left(\\sqrt{2} t \\right)}}{3} - \\frac{2 t \\cos^{2}{\\left(\\sqrt{2} t \\right)}}{3} - \\frac{4 \\sin^{2}{\\left(\\sqrt{2} t \\right)}}{9} - \\frac{4 \\cos^{2}{\\left(\\sqrt{2} t \\right)}}{9}\\right]$"
          },
          "metadata": {}
        }
      ]
    },
    {
      "cell_type": "code",
      "source": [
        "for i in range(2):\n",
        "  display(solution[i])\n"
      ],
      "metadata": {
        "colab": {
          "base_uri": "https://localhost:8080/",
          "height": 96
        },
        "id": "y-vvSSTEJd5M",
        "outputId": "f937d23f-6c04-4bf0-c905-752399085e12"
      },
      "execution_count": null,
      "outputs": [
        {
          "output_type": "display_data",
          "data": {
            "text/plain": [
              "                2                2                                            \n",
              "         4⋅t⋅sin (√2⋅t)   4⋅t⋅cos (√2⋅t)                 t                    \n",
              "x(t) = - ────────────── - ────────────── - (C₁ - √2⋅C₂)⋅ℯ ⋅sin(√2⋅t) + (√2⋅C₁ \n",
              "               3                3                                             \n",
              "\n",
              "                           2               2      \n",
              "       t             25⋅sin (√2⋅t)   25⋅cos (√2⋅t)\n",
              "+ C₂)⋅ℯ ⋅cos(√2⋅t) + ───────────── + ─────────────\n",
              "                           9               9      "
            ],
            "text/latex": "$\\displaystyle x{\\left(t \\right)} = - \\frac{4 t \\sin^{2}{\\left(\\sqrt{2} t \\right)}}{3} - \\frac{4 t \\cos^{2}{\\left(\\sqrt{2} t \\right)}}{3} - \\left(C_{1} - \\sqrt{2} C_{2}\\right) e^{t} \\sin{\\left(\\sqrt{2} t \\right)} + \\left(\\sqrt{2} C_{1} + C_{2}\\right) e^{t} \\cos{\\left(\\sqrt{2} t \\right)} + \\frac{25 \\sin^{2}{\\left(\\sqrt{2} t \\right)}}{9} + \\frac{25 \\cos^{2}{\\left(\\sqrt{2} t \\right)}}{9}$"
          },
          "metadata": {}
        },
        {
          "output_type": "display_data",
          "data": {
            "text/plain": [
              "                                                    2                2        \n",
              "             t                 t             2⋅t⋅sin (√2⋅t)   2⋅t⋅cos (√2⋅t)  \n",
              "y(t) = - C₁⋅ℯ ⋅sin(√2⋅t) + C₂⋅ℯ ⋅cos(√2⋅t) - ────────────── - ────────────── -\n",
              "                                                   3                3         \n",
              "\n",
              "      2              2      \n",
              " 4⋅sin (√2⋅t)   4⋅cos (√2⋅t)\n",
              " ──────────── - ────────────\n",
              "      9              9      "
            ],
            "text/latex": "$\\displaystyle y{\\left(t \\right)} = - C_{1} e^{t} \\sin{\\left(\\sqrt{2} t \\right)} + C_{2} e^{t} \\cos{\\left(\\sqrt{2} t \\right)} - \\frac{2 t \\sin^{2}{\\left(\\sqrt{2} t \\right)}}{3} - \\frac{2 t \\cos^{2}{\\left(\\sqrt{2} t \\right)}}{3} - \\frac{4 \\sin^{2}{\\left(\\sqrt{2} t \\right)}}{9} - \\frac{4 \\cos^{2}{\\left(\\sqrt{2} t \\right)}}{9}$"
          },
          "metadata": {}
        }
      ]
    },
    {
      "cell_type": "markdown",
      "source": [
        "With Boundary Condition"
      ],
      "metadata": {
        "id": "JlaT6NR1JnCt"
      }
    },
    {
      "cell_type": "markdown",
      "source": [
        "#### $x(0)=1, y'(0)=2$"
      ],
      "metadata": {
        "id": "mof593ElJtnv"
      }
    },
    {
      "cell_type": "code",
      "source": [
        "boundary = {x.subs(t,0): 1, diff(y,t).subs(t,0): 2}\n",
        "solution = dsolve(expr, ics = boundary)\n",
        "for i in range(2):\n",
        "  display(solution[i])"
      ],
      "metadata": {
        "colab": {
          "base_uri": "https://localhost:8080/",
          "height": 96
        },
        "id": "6zTkaHtpJsy2",
        "outputId": "183150cd-33bc-4f35-e4b5-027dee9d15e5"
      },
      "execution_count": null,
      "outputs": [
        {
          "output_type": "display_data",
          "data": {
            "text/plain": [
              "                2                2                t                 t         \n",
              "         4⋅t⋅sin (√2⋅t)   4⋅t⋅cos (√2⋅t)   14⋅√2⋅ℯ ⋅sin(√2⋅t)   16⋅ℯ ⋅cos(√2⋅t\n",
              "x(t) = - ────────────── - ────────────── + ────────────────── - ──────────────\n",
              "               3                3                  9                   9      \n",
              "\n",
              "          2               2      \n",
              ")   25⋅sin (√2⋅t)   25⋅cos (√2⋅t)\n",
              "─ + ───────────── + ─────────────\n",
              "          9               9      "
            ],
            "text/latex": "$\\displaystyle x{\\left(t \\right)} = - \\frac{4 t \\sin^{2}{\\left(\\sqrt{2} t \\right)}}{3} - \\frac{4 t \\cos^{2}{\\left(\\sqrt{2} t \\right)}}{3} + \\frac{14 \\sqrt{2} e^{t} \\sin{\\left(\\sqrt{2} t \\right)}}{9} - \\frac{16 e^{t} \\cos{\\left(\\sqrt{2} t \\right)}}{9} + \\frac{25 \\sin^{2}{\\left(\\sqrt{2} t \\right)}}{9} + \\frac{25 \\cos^{2}{\\left(\\sqrt{2} t \\right)}}{9}$"
          },
          "metadata": {}
        },
        {
          "output_type": "display_data",
          "data": {
            "text/plain": [
              "                2                2                t                t          \n",
              "         2⋅t⋅sin (√2⋅t)   2⋅t⋅cos (√2⋅t)   10⋅√2⋅ℯ ⋅sin(√2⋅t)   4⋅ℯ ⋅cos(√2⋅t)\n",
              "y(t) = - ────────────── - ────────────── + ────────────────── + ──────────────\n",
              "               3                3                  9                  9       \n",
              "\n",
              "        2              2      \n",
              "   4⋅sin (√2⋅t)   4⋅cos (√2⋅t)\n",
              " - ──────────── - ────────────\n",
              "        9              9      "
            ],
            "text/latex": "$\\displaystyle y{\\left(t \\right)} = - \\frac{2 t \\sin^{2}{\\left(\\sqrt{2} t \\right)}}{3} - \\frac{2 t \\cos^{2}{\\left(\\sqrt{2} t \\right)}}{3} + \\frac{10 \\sqrt{2} e^{t} \\sin{\\left(\\sqrt{2} t \\right)}}{9} + \\frac{4 e^{t} \\cos{\\left(\\sqrt{2} t \\right)}}{9} - \\frac{4 \\sin^{2}{\\left(\\sqrt{2} t \\right)}}{9} - \\frac{4 \\cos^{2}{\\left(\\sqrt{2} t \\right)}}{9}$"
          },
          "metadata": {}
        }
      ]
    },
    {
      "cell_type": "markdown",
      "source": [
        "## Ordinary Differential Equation Integrator (ODEINT)"
      ],
      "metadata": {
        "id": "0bGCenb10Og4"
      }
    },
    {
      "cell_type": "markdown",
      "source": [
        "* Differential equations are solved in Python with the Scipy.integrate package using function ODEINT.\n",
        "* ODEINT requires three inputs:\n",
        "\n",
        "\n",
        "\\begin{cases}  y = odeint(model, y0, t) \\end{cases}\n",
        "\n",
        "\n",
        "\n",
        "1. model: Function name that returns derivative values at requested y and t values as dydt = model(y,t)\n",
        "2. y0: Initial conditions of the differential states\n",
        "3. t: Time points at which the solution should be reported. Additional internal points are often calculated to maintain accuracy of the solution but are not reported."
      ],
      "metadata": {
        "id": "QkCoup3UtQx7"
      }
    },
    {
      "cell_type": "markdown",
      "source": [
        "Differential equation:\n",
        "\n",
        "\\begin{cases} v' = -{v^2\\over t^2} \\\\ v(0)= {1\\over 2}\\end{cases}"
      ],
      "metadata": {
        "id": "cANhhM6ZBCtQ"
      }
    },
    {
      "cell_type": "code",
      "source": [
        "import numpy as np\n",
        "import matplotlib.pyplot as plt\n",
        "from scipy.integrate import odeint\n"
      ],
      "metadata": {
        "id": "oheGwIBI6rip"
      },
      "execution_count": null,
      "outputs": []
    },
    {
      "cell_type": "markdown",
      "source": [
        "**Numerical solution in a given interval**"
      ],
      "metadata": {
        "id": "3dvLJ-0wiUH9"
      }
    },
    {
      "cell_type": "code",
      "execution_count": null,
      "metadata": {
        "id": "Epg6HlEwddDD"
      },
      "outputs": [],
      "source": [
        "# Numerical solution in Python (SciPy)\n",
        "\n",
        "# Model\n",
        "def model(v, t):\n",
        "    dvdt = -v**2/t**2          # given an equaion where v'(t) = -v**2/t**2\n",
        "    return dvdt"
      ]
    },
    {
      "cell_type": "code",
      "source": [
        "# Solution\n",
        "t = np.linspace(1, 10, 100)           # range of t values\n",
        "v0 = 1/2                              # ics\n",
        "sol = odeint(model, v0, t)\n",
        "\n",
        "print(t)\n",
        "print(sol)\n",
        "plt.plot(t,sol,label=\"v\")\n",
        "plt.legend()\n",
        "plt.xticks(np.arange(11))\n",
        "\n",
        "\n",
        "plt.savefig(\"ode_num-1.svg\")   # Save in svg format\n",
        "plt.show()                     #saves to backend\n",
        "\n",
        "#The return value of odeint is the computed solution at the requested time values. That is, after this call\n",
        "#An array containing the value of v for each desired time in t, with the initial value v0 in the first row."
      ],
      "metadata": {
        "id": "H26DKJSna-74",
        "colab": {
          "base_uri": "https://localhost:8080/",
          "height": 1000
        },
        "outputId": "5ca1007e-e9b0-4bc8-e745-a2403d4e660a"
      },
      "execution_count": null,
      "outputs": [
        {
          "output_type": "stream",
          "name": "stdout",
          "text": [
            "[ 1.          1.09090909  1.18181818  1.27272727  1.36363636  1.45454545\n",
            "  1.54545455  1.63636364  1.72727273  1.81818182  1.90909091  2.\n",
            "  2.09090909  2.18181818  2.27272727  2.36363636  2.45454545  2.54545455\n",
            "  2.63636364  2.72727273  2.81818182  2.90909091  3.          3.09090909\n",
            "  3.18181818  3.27272727  3.36363636  3.45454545  3.54545455  3.63636364\n",
            "  3.72727273  3.81818182  3.90909091  4.          4.09090909  4.18181818\n",
            "  4.27272727  4.36363636  4.45454545  4.54545455  4.63636364  4.72727273\n",
            "  4.81818182  4.90909091  5.          5.09090909  5.18181818  5.27272727\n",
            "  5.36363636  5.45454545  5.54545455  5.63636364  5.72727273  5.81818182\n",
            "  5.90909091  6.          6.09090909  6.18181818  6.27272727  6.36363636\n",
            "  6.45454545  6.54545455  6.63636364  6.72727273  6.81818182  6.90909091\n",
            "  7.          7.09090909  7.18181818  7.27272727  7.36363636  7.45454545\n",
            "  7.54545455  7.63636364  7.72727273  7.81818182  7.90909091  8.\n",
            "  8.09090909  8.18181818  8.27272727  8.36363636  8.45454545  8.54545455\n",
            "  8.63636364  8.72727273  8.81818182  8.90909091  9.          9.09090909\n",
            "  9.18181818  9.27272727  9.36363636  9.45454545  9.54545455  9.63636364\n",
            "  9.72727273  9.81818182  9.90909091 10.        ]\n",
            "[[0.5       ]\n",
            " [0.48000002]\n",
            " [0.46428574]\n",
            " [0.45161293]\n",
            " [0.4411765 ]\n",
            " [0.43243245]\n",
            " [0.42500002]\n",
            " [0.41860466]\n",
            " [0.41304349]\n",
            " [0.40816327]\n",
            " [0.40384616]\n",
            " [0.4       ]\n",
            " [0.39655172]\n",
            " [0.39344262]\n",
            " [0.390625  ]\n",
            " [0.3880597 ]\n",
            " [0.38571428]\n",
            " [0.38356163]\n",
            " [0.38157894]\n",
            " [0.37974682]\n",
            " [0.37804877]\n",
            " [0.37647057]\n",
            " [0.37499998]\n",
            " [0.37362636]\n",
            " [0.37234041]\n",
            " [0.371134  ]\n",
            " [0.36999998]\n",
            " [0.36893202]\n",
            " [0.3679245 ]\n",
            " [0.36697245]\n",
            " [0.3660714 ]\n",
            " [0.36521737]\n",
            " [0.36440675]\n",
            " [0.36363634]\n",
            " [0.3629032 ]\n",
            " [0.3622047 ]\n",
            " [0.36153843]\n",
            " [0.36090223]\n",
            " [0.36029409]\n",
            " [0.3597122 ]\n",
            " [0.3591549 ]\n",
            " [0.35862066]\n",
            " [0.35810808]\n",
            " [0.35761586]\n",
            " [0.35714282]\n",
            " [0.35668786]\n",
            " [0.35624997]\n",
            " [0.35582819]\n",
            " [0.35542165]\n",
            " [0.35502955]\n",
            " [0.35465113]\n",
            " [0.35428568]\n",
            " [0.35393255]\n",
            " [0.35359112]\n",
            " [0.35326083]\n",
            " [0.35294114]\n",
            " [0.35263154]\n",
            " [0.35233157]\n",
            " [0.35204078]\n",
            " [0.35175875]\n",
            " [0.35148511]\n",
            " [0.35121947]\n",
            " [0.3509615 ]\n",
            " [0.35071086]\n",
            " [0.35046725]\n",
            " [0.35023037]\n",
            " [0.34999996]\n",
            " [0.34977574]\n",
            " [0.34955748]\n",
            " [0.34934494]\n",
            " [0.34913789]\n",
            " [0.34893613]\n",
            " [0.34873945]\n",
            " [0.34854767]\n",
            " [0.34836061]\n",
            " [0.34817809]\n",
            " [0.34799995]\n",
            " [0.34782604]\n",
            " [0.3476562 ]\n",
            " [0.3474903 ]\n",
            " [0.3473282 ]\n",
            " [0.34716976]\n",
            " [0.34701488]\n",
            " [0.34686342]\n",
            " [0.34671528]\n",
            " [0.34657035]\n",
            " [0.34642852]\n",
            " [0.3462897 ]\n",
            " [0.3461538 ]\n",
            " [0.34602071]\n",
            " [0.34589036]\n",
            " [0.34576266]\n",
            " [0.34563753]\n",
            " [0.3455149 ]\n",
            " [0.34539469]\n",
            " [0.34527682]\n",
            " [0.34516124]\n",
            " [0.34504787]\n",
            " [0.34493666]\n",
            " [0.34482754]]\n"
          ]
        },
        {
          "output_type": "display_data",
          "data": {
            "text/plain": [
              "<Figure size 640x480 with 1 Axes>"
            ],
            "image/png": "[encoded data removed]"
          },
          "metadata": {}
        }
      ]
    },
    {
      "cell_type": "markdown",
      "source": [
        "# Euler method (aka numerical method)\n"
      ],
      "metadata": {
        "id": "JzCCbbmZKR3w"
      }
    },
    {
      "cell_type": "markdown",
      "source": [
        "![A.png](data:image/png;base64,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)"
      ],
      "metadata": {
        "id": "XaZpbUElKhYo"
      }
    },
    {
      "cell_type": "markdown",
      "source": [
        "* the basic idea is to set a starting point y_0 and at the corresponding point t_0, these are initial conditions\n",
        "* Then we perform an iterative method to find y at (t+h), h is a very small increment\n",
        "* The formula used is : $$ y(t + h) = y(t) + h* f(y,t) $$\n",
        "* Here, $ y'(t) = f(y,t) $, so for every iteration, where y(t+h), we are adding the increment*slope to the previous point on the graph\n",
        "* If we are to plot the graph based on the points obtained from this method, t would be the x-axis\n",
        "\n",
        "* CURRENT VALUE = PREVIOUS VALUE + STEP SIZE*DERIVATIVE\n",
        "\n"
      ],
      "metadata": {
        "id": "KFmzJvVW8MRF"
      }
    },
    {
      "cell_type": "markdown",
      "source": [
        "##$\\frac{dy}{dx} = y , y(0)=1$"
      ],
      "metadata": {
        "id": "wdpEN9r9LCZG"
      }
    },
    {
      "cell_type": "code",
      "source": [
        "a = 0                # starting\n",
        "b = 3                # ending\n",
        "N = 1001             # no. of divisions / points\n",
        "h = (b-a)/(N-1)      # step size, follow this formula\n",
        "\n",
        "x = np.linspace(a,b,N)\n",
        "print(x)\n",
        "\n",
        "y = 0*x              # creating an equal size array consisting of all zeroes\n",
        "print(y)\n",
        "\n",
        "y[0] = 1            # declaring what we want the initial value to be\n",
        "print(y)\n",
        "\n",
        "#print(x)\n",
        "#print(y)\n",
        "\n",
        "for i in range(1,N):                  #figuring out the other values of the given DE\n",
        "  y[i] = y[i-1] + h*(y[i-1])           #calculating the next value of y, using the previous value + step*slope\n",
        "  #print(\"i:\",i,\"y[i]:\",y[i],\"y[i-1]:\",y[i-1])\n",
        "\n",
        "print(y)\n",
        "\n",
        "plt.plot(x,y)\n",
        "plt.yticks(np.arange(20))\n",
        "plt.grid()\n",
        "plt.show()\n"
      ],
      "metadata": {
        "colab": {
          "base_uri": "https://localhost:8080/",
          "height": 521
        },
        "id": "zi67LiAaKeqZ",
        "outputId": "a632d7f5-947b-4fca-e9e9-796e7b30b18e"
      },
      "execution_count": null,
      "outputs": [
        {
          "output_type": "stream",
          "name": "stdout",
          "text": [
            "[0.    0.003 0.006 ... 2.994 2.997 3.   ]\n",
            "[0. 0. 0. ... 0. 0. 0.]\n",
            "[1. 0. 0. ... 0. 0. 0.]\n",
            "[ 1.          1.003       1.006009   ... 19.87609914 19.93572744\n",
            " 19.99553462]\n"
          ]
        },
        {
          "output_type": "display_data",
          "data": {
            "text/plain": [
              "<Figure size 640x480 with 1 Axes>"
            ],
            "image/png": "[encoded data removed]"
          },
          "metadata": {}
        }
      ]
    },
    {
      "cell_type": "markdown",
      "source": [
        "#$dy/dx= e^x sin(x+y), y(0)=1$"
      ],
      "metadata": {
        "id": "sA7SvxfpLXit"
      }
    },
    {
      "cell_type": "code",
      "source": [
        "f = lambda m, n : (smp.exp(m))*sin(m+n)\n",
        "\n",
        "a = 0\n",
        "b = 5\n",
        "N = 1001\n",
        "h = (b-a)/(N-1)         # step size, follow this formula\n",
        "\n",
        "x= np.linspace(a,b,N)\n",
        "\n",
        "y = 0* x                # creating an equal size array consisting of all zeroes\n",
        "y[0] = 1\n",
        "#print(y)\n",
        "\n",
        "\n",
        "# y[0] = 1, here 0 is the index of the y array\n",
        "# x[0] = 0, based on the array created by linspace\n",
        "# The plot is made by corresponding coordinates (x[n],y[n])\n",
        "# So when x=0, then y=1, as they are the corresponding 0th indexes, implying that they are the corresponding coordinates\n",
        "# For further issues regarding coordinates, try to 'print(x[n],y[n]) for i in range(0,N)'\n",
        "\n",
        "\n",
        "for i in range(1,N):\n",
        "  y[i] = y[i-1] + h * f(x[i-1], y[i-1])\n",
        "\n",
        "#print(y)\n",
        "plt.plot(x,y)\n",
        "plt.grid()\n",
        "plt.show()\n",
        "\n",
        "\n",
        "explanataion='''\n",
        "y1 = y0 + h*f(x0,y0)\n",
        "y2 = y1 + h*f(x1,y1)\n",
        ".\n",
        ".\n",
        ".\n",
        ".\n",
        "y1000= y999 + h*f(x999,y999)\n",
        "'''"
      ],
      "metadata": {
        "colab": {
          "base_uri": "https://localhost:8080/",
          "height": 430
        },
        "id": "EsEJf6dwLYC8",
        "outputId": "75e773fb-ff8b-42b2-af6e-26bac926365c"
      },
      "execution_count": null,
      "outputs": [
        {
          "output_type": "display_data",
          "data": {
            "text/plain": [
              "<Figure size 640x480 with 1 Axes>"
            ],
            "image/png": "[encoded data removed]"
          },
          "metadata": {}
        }
      ]
    },
    {
      "cell_type": "markdown",
      "source": [
        "#$\\frac{d^2x}{dt^2} + 16x =sin(3t), x(0)= 2, x'(0) = 0$"
      ],
      "metadata": {
        "id": "wwalfBNtLfAL"
      }
    },
    {
      "cell_type": "code",
      "source": [
        "# The question contains a second order DE, so we need to run the iterator to get the values of dx/dt first then the values of x(t)\n",
        "\n",
        "# m and n are local variables, which only exist within this line, they are only parameters/arguments here\n",
        "f = lambda m, n : sin(3*m) - 16*n\n",
        "\n",
        "a = 0                           # start\n",
        "b = 5                           # stop\n",
        "N = 10001                       # no. of points/divisions\n",
        "h = (b-a)/(N-1)                 # step size, follow this formula\n",
        "\n",
        "t = np.linspace(a,b,N)           # time points= [0.0   0.0005 ....  4.9995 5.0]\n",
        "\n",
        "\n",
        "# we need to make 2 arrays, one to find x(t) solutions, another for dx/dt solutions\n",
        "x = 0* t\n",
        "v = 0* t                                 # v =dx/dt\n",
        "\n",
        "x[0] = 2          # x[0] = 2, which corresponds to t[0]=0\n",
        "v[0] = 0          # v[0] = 0, which corresponds to t[0]=0\n",
        "\n",
        "\n",
        "for i in range(1,N):\n",
        "  v[i] = v[i-1] + h*f(t[i-1], x[i-1])   # firstly we need to determine dx/dt, aka v(t)\n",
        "  x[i] = x[i-1] + h*v[i]                # secondly, we use the value of dx/dt calculate the value of x(t)\n",
        "\n",
        "\n",
        "plt.plot(t,x)\n",
        "plt.grid()\n",
        "plt.show()\n",
        "\n",
        "\n",
        "\n",
        "# v[0] = & x[0] = 2, here 0 is the index of the v & x array, and also the corresponding coordinates to t[0]=0\n",
        "# t[0] = 0, based on the array created by linspace\n",
        "# The plot is made by corresponding coordinates (t[n],yx[n]), &  (t[n],v[n])\n",
        "\n",
        "# For further issues regarding coordinates, try to 'print(t[n],yx[n]) or (t[n],v[n]) for i in range(0,N)'\n"
      ],
      "metadata": {
        "id": "ujOJp8cALaq8",
        "colab": {
          "base_uri": "https://localhost:8080/",
          "height": 430
        },
        "outputId": "e115732a-a5ed-4d55-eef5-3700eae6096e"
      },
      "execution_count": null,
      "outputs": [
        {
          "output_type": "display_data",
          "data": {
            "text/plain": [
              "<Figure size 640x480 with 1 Axes>"
            ],
            "image/png": "[encoded data removed]"
          },
          "metadata": {}
        }
      ]
    },
    {
      "cell_type": "code",
      "source": [
        "plt.plot(t,v)\n",
        "plt.grid()\n",
        "plt.show()"
      ],
      "metadata": {
        "id": "zwpbG_wALrWU",
        "colab": {
          "base_uri": "https://localhost:8080/",
          "height": 430
        },
        "outputId": "e66db871-98a5-40c6-abc9-330b9c426f68"
      },
      "execution_count": null,
      "outputs": [
        {
          "output_type": "display_data",
          "data": {
            "text/plain": [
              "<Figure size 640x480 with 1 Axes>"
            ],
            "image/png": "[encoded data removed]"
          },
          "metadata": {}
        }
      ]
    },
    {
      "cell_type": "markdown",
      "source": [
        "#Projectile motion\n",
        "## $x'=3, y'= 4-10t, x(0)=y(0)=0$"
      ],
      "metadata": {
        "id": "bZmE6gfrLorc"
      }
    },
    {
      "cell_type": "code",
      "source": [
        "#The question has 2 equations to consider, x'(t) and y'(t), from which we need to figure out the solutions of x(t) and y(t)\n",
        "#Unlike the previous question, x and y are not dependant on each other\n",
        "\n",
        "a = 0\n",
        "b = 0.8                           # Flight time = 0.8 seconds\n",
        "N = 1001\n",
        "h = (b-a)/(N-1)                   # step size, follow this formula\n",
        "t= np.linspace(a,b,N)             # t is an array ranging from 0 to 0.8\n",
        "\n",
        "# creating an equal size array, x and y, consisting of all zeroes\n",
        "x = 0* t\n",
        "y = 0* t\n",
        "\n",
        "#iterating for obtaining solutions\n",
        "for i in range(1,N):\n",
        "  y[i] = y[i-1] + h*(4-10*t[i-1])             # integrating y numerically & getting the solutions of y\n",
        "  x[i] = x[i-1] + h*3                         # integrating x numerically & getting the solutions of x\n",
        "\n",
        "\n",
        "plt.plot(x,y)          # plotting distance y vs x\n",
        "plt.ylabel('y(t)')\n",
        "plt.xlabel('x(t)')\n",
        "plt.title('height/t vs distance/t')\n",
        "plt.grid()\n",
        "plt.show()\n",
        "# y signifies height, x signifies distance\n",
        "# the graph displays the projectile motion of an object"
      ],
      "metadata": {
        "id": "28_3Se-KLn6s",
        "colab": {
          "base_uri": "https://localhost:8080/",
          "height": 472
        },
        "outputId": "91295256-31a6-48b5-8a20-899a8a4b10fd"
      },
      "execution_count": null,
      "outputs": [
        {
          "output_type": "display_data",
          "data": {
            "text/plain": [
              "<Figure size 640x480 with 1 Axes>"
            ],
            "image/png": "[encoded data removed]"
          },
          "metadata": {}
        }
      ]
    },
    {
      "cell_type": "code",
      "source": [
        "plt.plot(t,x,'-',label=\"distance, x(t)\")   # plotting distance x vs t\n",
        "plt.plot(t,y,'o',label=\"height, y(t)\")     # plotting distance y vs t\n",
        "plt.xlabel('time')\n",
        "plt.ylabel('x(t) & y(t)')\n",
        "plt.grid()\n",
        "plt.legend()\n",
        "plt.show()\n",
        "\n",
        "#if you manually integrate x' & y', the asnwers are\n",
        "# x = 3t + c\n",
        "# y = 4t + 5t^2 + c\n"
      ],
      "metadata": {
        "colab": {
          "base_uri": "https://localhost:8080/",
          "height": 452
        },
        "id": "nNpE2lQbzGtS",
        "outputId": "f94f1faf-de83-4d7a-ab02-c14c22362d92"
      },
      "execution_count": null,
      "outputs": [
        {
          "output_type": "display_data",
          "data": {
            "text/plain": [
              "<Figure size 640x480 with 1 Axes>"
            ],
            "image/png": "[encoded data removed]"
          },
          "metadata": {}
        }
      ]
    },
    {
      "cell_type": "markdown",
      "source": [
        "**Solve the initial value problem:**\n",
        "\n",
        "1. $d\n",
        "y/\n",
        "d\n",
        "x\n",
        "=\n",
        "2\n",
        "x\n",
        ",\n",
        "y\n",
        "(\n",
        "0\n",
        ")\n",
        "=\n",
        "2$\n",
        "\n",
        "2. $y\n",
        "′\n",
        "=\n",
        "2\n",
        "t\n",
        "(\n",
        "25\n",
        "−\n",
        "y\n",
        ")\n",
        ",\n",
        "y(1) = 1/2$\n",
        "\n",
        "3.  $y\n",
        "′′\n",
        "-\n",
        "2\n",
        "y\n",
        "=\n",
        "-\n",
        "2\n",
        ",\n",
        "y\n",
        "(\n",
        "1\n",
        ")\n",
        "=\n",
        "4\n",
        ",\n",
        "y\n",
        "′\n",
        "(\n",
        "2\n",
        ")\n",
        "=\n",
        "5\n",
        "$"
      ],
      "metadata": {
        "id": "5Z76SmLkQIi7"
      }
    },
    {
      "cell_type": "markdown",
      "source": [],
      "metadata": {
        "id": "RZkYztTvIzJr"
      }
    },
    {
      "cell_type": "markdown",
      "source": [
        "##$\\frac{dy}{dx} = -sin(x) , y(0)=1$"
      ],
      "metadata": {
        "id": "1iFUhyKQIzX8"
      }
    },
    {
      "cell_type": "code",
      "source": [
        "import sympy as smp\n",
        "y,x= smp.symbols('y x')\n",
        "y=Function('y')(x)\n",
        "smp.dsolve(smp.Derivative(y,x)+smp.sin(x))"
      ],
      "metadata": {
        "colab": {
          "base_uri": "https://localhost:8080/",
          "height": 38
        },
        "id": "KwSC19-rI0fF",
        "outputId": "103fd070-9b03-4d65-b028-a380196eaa63"
      },
      "execution_count": null,
      "outputs": [
        {
          "output_type": "execute_result",
          "data": {
            "text/plain": [
              "y(x) = C₁ + cos(x)"
            ],
            "text/latex": "$\\displaystyle y{\\left(x \\right)} = C_{1} + \\cos{\\left(x \\right)}$"
          },
          "metadata": {},
          "execution_count": 53
        }
      ]
    },
    {
      "cell_type": "code",
      "source": [
        "smp.Derivative(y,x)"
      ],
      "metadata": {
        "colab": {
          "base_uri": "https://localhost:8080/",
          "height": 52
        },
        "id": "0dYzqSdlJ4Ow",
        "outputId": "cd50e6ae-912d-47f5-d798-af52fecbb00a"
      },
      "execution_count": null,
      "outputs": [
        {
          "output_type": "execute_result",
          "data": {
            "text/plain": [
              "d    \n",
              "──(y)\n",
              "dx   "
            ],
            "text/latex": "$\\displaystyle \\frac{d}{d x} y$"
          },
          "metadata": {},
          "execution_count": 50
        }
      ]
    },
    {
      "cell_type": "code",
      "source": [
        "a = 0                # starting\n",
        "b = 10                # ending\n",
        "N = 1001             # no. of divisions / points\n",
        "h = (b-a)/(N-1)      # step size, follow this formula\n",
        "\n",
        "f=lambda x: -np.sin(x)\n",
        "\n",
        "x = np.linspace(a,b,N)\n",
        "\n",
        "print(x)\n",
        "\n",
        "y = 0*x              # creating an equal size array consisting of all zeroes\n",
        "#print(y)\n",
        "\n",
        "y[0] = 1            # declaring what we want the initial value to be\n",
        "#print(y)\n",
        "\n",
        "#print(x)\n",
        "#print(y)\n",
        "\n",
        "for i in range(1,N):                  #figuring out the other values of the given DE\n",
        "  y[i] = y[i-1] + h*f(x[i-1])           #calculating the next value of y, using the previous value + step*slope\n",
        "  #print(\"i:\",i,\"y[i]:\",y[i],\"y[i-1]:\",y[i-1])     \"y[i]:\",y[i],\"y[i-1]:\",y[i-1]\n",
        "\n",
        "for i in range(0,5):\n",
        "  print(\"i:\",i,'x[',i,']',x[i],\"y[\",i,\"-1]:\",y[i-1],\"y[\",i,\"]:\",y[i])\n"
      ],
      "metadata": {
        "colab": {
          "base_uri": "https://localhost:8080/"
        },
        "id": "UoGF6_NiHsIv",
        "outputId": "3e4efc21-d4c9-4cd9-de3b-b082bbd5494e"
      },
      "execution_count": null,
      "outputs": [
        {
          "output_type": "stream",
          "name": "stdout",
          "text": [
            "[ 0.    0.01  0.02 ...  9.98  9.99 10.  ]\n",
            "i: 0 x[ 0 ] 0.0 y[ 0 -1]: -0.8417763090092802 y[ 0 ]: 1.0\n",
            "i: 1 x[ 1 ] 0.01 y[ 1 -1]: 1.0 y[ 1 ]: 1.0\n",
            "i: 2 x[ 2 ] 0.02 y[ 2 -1]: 1.0 y[ 2 ]: 0.9999000016666584\n",
            "i: 3 x[ 3 ] 0.03 y[ 3 -1]: 0.9999000016666584 y[ 3 ]: 0.999700014999725\n",
            "i: 4 x[ 4 ] 0.04 y[ 4 -1]: 0.999700014999725 y[ 4 ]: 0.9994000599977001\n"
          ]
        }
      ]
    },
    {
      "cell_type": "code",
      "source": [],
      "metadata": {
        "id": "SOETHfPoIJDT"
      },
      "execution_count": null,
      "outputs": []
    }
  ]
}